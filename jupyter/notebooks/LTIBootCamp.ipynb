{
 "cells": [
  {
   "cell_type": "markdown",
   "metadata": {},
   "source": [
    "# LTI Advantage bootcamp notebook\n",
    "\n",
    "The notebook shows how to interact with the LTI Advantage ecosystem. It interacts with an actual server which is used to exercise the service APIs. \n"
   ]
  },
  {
   "cell_type": "markdown",
   "metadata": {},
   "source": [
    "## Setup"
   ]
  },
  {
   "cell_type": "code",
   "execution_count": 22,
   "metadata": {},
   "outputs": [],
   "source": [
    "import requests\n",
    "import json\n",
    "import jwt\n",
    "import base64\n",
    "from cryptography.hazmat.primitives.asymmetric.rsa import RSAPublicNumbers\n",
    "from cryptography.hazmat.backends import default_backend\n",
    "from cryptography.hazmat.primitives.serialization import Encoding, PublicFormat\n",
    "\n",
    "def decode_int(b64value):\n",
    "    return int.from_bytes(base64.urlsafe_b64decode(b64value), byteorder='big')\n",
    "\n",
    "# This notebook queries an actual test server. It needs its location:\n",
    "platform_url='http://localhost:5000'"
   ]
  },
  {
   "cell_type": "code",
   "execution_count": 45,
   "metadata": {},
   "outputs": [
    {
     "name": "stdout",
     "output_type": "stream",
     "text": [
      "{'client_id': '0', 'deployment_id': 'deployment_0', 'key': {'e': 'AQAB', 'kty': 'RSA', 'use': 'sig', 'alg': 'RS256', 'd': 'EtlFjk-0MRjRqAg7FLrIuRYHA0XbcewuIWl_Eu6qcPIwDn3psiyYCBpTCgR2vlTmTUrRNErsUCUrtCpP007l5Lv_Nc5ZAUVM5qAARMAeG_8RnR1bksc5tKkpsS0nQa0ZpjnemtsUpxeuHW4QK7Xa-JWfE9wIR1HXljFrpNp4BrenCFSi0jwTi3fRYoY2Px58ZWjvn8jTXOGJj5XN1y9kdNAAr8jbIVWh9AL2EXcyoPa1cVrUxMaB7dJ302VvGm57d_xtwlRp8FI1xnQfEUOA0y_Py-PohuGAIHuCaUZlvJynA6swSPFuFFA18A8ywvEURDuUx1GNiju1wTgoDA0h'}}\n"
     ]
    }
   ],
   "source": [
    "# First we need to get a new tool deployment from the server for this notebook instance\n",
    "# Each tool must have a client_id and a private key, and the location of the platform\n",
    "# keyset to be able to interact with the platform.\n",
    "# How this information is obtained by the tool is NOT currently part of the LTI specifications.\n",
    "\n",
    "r = requests.get(platform_url + '/newtool')\n",
    "tool_info = json.loads(r.text)\n",
    "print(tool_info)"
   ]
  },
  {
   "cell_type": "markdown",
   "metadata": {},
   "source": [
    "## Deep Linking - Creating a Link\n",
    "This section will use the deep linking specification to create a Resource Link to the platform. That resource link will be gradable and used in the following sections of that notebook."
   ]
  },
  {
   "cell_type": "code",
   "execution_count": 46,
   "metadata": {},
   "outputs": [
    {
     "name": "stdout",
     "output_type": "stream",
     "text": [
      "{'id_token': 'eyJhbGciOiJSUzI1NiIsInR5cCI6IkpXVCIsImtpZCI6IjE1MTcwODU0ODVfMCJ9.eyJub25jZSI6IjFiMTRkNWMwLTAzYTItMTFlOC1hMjJjLWM0OGU4ZmZiNzg1NyIsImlhdCI6MTUxNzA4NTU0MCwibmFtZSI6IkViYmEgRWxpc2EiLCJodHRwOi8vaW1zZ2xvYmFsLm9yZy9sdGkvdmVyc2lvbiI6IjEuMy4wIiwiZXhwIjoxNTE3MDg1NjAwLCJmYW1pbHlfbmFtZSI6IkVsaXNhIiwiaHR0cDovL2ltc2dsb2JhbC5vcmcvbHRpL2RlcGxveW1lbnRfaWQiOiJkZXBsb3ltZW50XzAiLCJzdWIiOiJMVElCQ1VfMTAiLCJhdWQiOiIwIiwiaHR0cDovL2ltc2dsb2JhbC5vcmcvbHRpL21lc3NhZ2VfdHlwZSI6IkNvbnRlbnRJdGVuU2VsZWN0aW9uUmVxdWVzdCIsImlzcyI6Imh0dHA6Ly9sb2NhbGhvc3Q6NTAwMCIsImdpdmVuX25hbWUiOiJFYmJhIiwiZW1haWwiOiJFYmJhLkVsaXNhQGV4YW1wbGUuY29tIiwiaHR0cDovL2ltc2dsb2JhbC5vcmcvbHRpL3Rvb2xfcGxhdGZvcm0iOnsiZ3VpZCI6Imx0aWJjX2F0XzE1MTcwODU0ODYiLCJuYW1lIjoiTFRJIEJvb3RjYW1wIFBsYXRmb3JtIn19.Ux360kx84XWvtnATdluVMnj49NzLUzL7Fg8jiQl6u4yFbg2BoFryQSIkra0ttRElzabk5Ce5n_nYewytfuZbKBfh27CW5xuOOl0wQmHLKtkTrdUbsmO-y2LFOinVPiwXZF5DyJ0UkpOwn6zM2nPzriSw2QRuuev0iASa744BBapbsSU8YYr0rzVGHsJIeZlokHGd7F_Z_Jf5xJR3SGfbcW5rGXZD7-BM_2rTpn6n4b77HiVgwQpFuU7DiLf3JLALreEZ_qAzb3hmStTzsMaJN_UsQXgU1um1ZtL5RpxCW5fqJpToDUKE6dzqPf16AyvDZTTaWdrtVSfSfQXUGBVx9Q'}\n"
     ]
    }
   ],
   "source": [
    "\n",
    "r = requests.get(\"{}/tool/{}/cisr\".format(platform_url, \"0\"))\n",
    "post_data = {\n",
    "    'id_token':r.text\n",
    "}\n",
    "print(post_data)"
   ]
  },
  {
   "cell_type": "markdown",
   "metadata": {},
   "source": [
    "Once a tool is added to a course, usually the first launch from the platform will be a Deep Linking request. This request will come as a FORM post from the browser as an signed JWT, which is here simulated the post_data object.\n",
    "\n",
    "### Verify the JWT is properly signed\n",
    "\n",
    "The first thing before to display to the user the picker/authoring interface to create the link is to validate this request is properly signed. This is done by decoding the JWT using public key from the platform.\n",
    "The platform exposes its keys in a keyset format at a well-know location (.well-known/)"
   ]
  },
  {
   "cell_type": "code",
   "execution_count": 47,
   "metadata": {},
   "outputs": [
    {
     "name": "stdout",
     "output_type": "stream",
     "text": [
      "{'keys': [{'e': 'AQAB', 'use': 'sig', 'alg': 'HS256', 'kty': 'rsa', 'n': 'rIPY8sXpyABo1aUSA6mtJlIy5vocedxpdMXu5wYk-v1SzM4HnuIyedwm14wzoSr-tK61_4Wm125cg-d7ON0uYx6l6wI13LOPzSY96EaNarFF2JYmnywFWIYUsxlK24zP1YAe0AB8DMDLhbK1TDjXKHbryxx7J6nARa7RFLBqV-pKb3kwiMAPzUjbOrU_NL60Zuj68xHLvfJ2gIP2yzs_4rys3lLpDYEY9CzvyeDAwTMC3yF9hC_AE9RGg7g31wuFHMZPCL4mxEnLBl2xXIrnDxPilHh8ICeZEoVgEZOjUTItbdfls7XpiLE491VKezSLhqibByXH9VvOgdhcQRDSwQ==', 'kid': '1517085485_0'}, {'e': 'AQAB', 'use': 'sig', 'alg': 'HS256', 'kty': 'rsa', 'n': '02VIow7RzJWtceXlnyI9B0TYzJj_2mAM4SgSPux50RfO7N7fpnyMn7bnRsYE7RjYi0fdl__R1MpZtGy73dmZdIlVNF0HWd7tKdgyoboW3iqC_nwztXaTk8fSHnqfUwEdivoVcxDDok2tdkd1QjoYgijkfsBL6SwZuLiIjkMmPA_72jhs4AwFMdrGk-D3xeyuSjRDxVp3fpBksKnQdczLz9lOkYfSaKB0hGqQcdkuxNrOrNQ4m_JivGelSR_umj8qIHJS6xOfZEjxmObsydC5M0R20Aq2l92F_8yFS0t57tJ95cMNjnmHrfmCWvtcqalHytUQ8VU0jvf5g-TkDB-ILw==', 'kid': '1517085485_1'}, {'e': 'AQAB', 'use': 'sig', 'alg': 'HS256', 'kty': 'rsa', 'n': '0XHEnjjUbB-oPw_GVxbawO9Ku6brxxzcLhZFiv4WbB67Gjmefs0RtVEYt_lqB-kTxBy0xWoX7Hp21p2IyAIQuka177y3sDZ4WIAIENXTb6vs4QEkGFWA624VgnoBsYPSh0PexaltZQJZUF4s26t6Vs272mjfAmko5fUjqnvc62sZPa1iJdi5GwmtoXjQSUK-5TDI2a9uNPRLpwom8TuL9UrtnWGZcpiVDrVQpVlzGJaOaPWeZHbkhXJD32kSQcWdBLNreqV32h-gmiqRdLZKvrHeG3fOQNi6-LclvXFQGxIFDbbfez4Tq8Kx_DOZY8h_fr9mneJATjoK8Gk-_BFjFQ==', 'kid': '1517085485_2'}, {'e': 'AQAB', 'use': 'sig', 'alg': 'HS256', 'kty': 'rsa', 'n': 'm5aocKcErpr6PZCzs6j_IbR5CSnLh2crJFgO5c1OttZytj61hdMLrOqZMO5ERQZTy-X04n080CT1ghmlHnNV0keESr49Cuebw5qgRuZExHy4GtKCRNXW3zvMX0hgFhbhCDCl3iyPJ_ja-eQjCuKVwM9_9e9KGnarHU8Qnr-ifBkiI-vgV_khztJHnfu_F4QX4I1ztjbyOkCLXJZXZYUvMKWxn0t3zMvi0sJzF8o3jxsQzS3FDlioSge9xsHRmOFVISRGAdO-69VBn50m36JnKrgvYAGjPVFCF3mOaErCVsK_mQHifxxpHHpMb0FhuYXgV1BB0Lab7927b6kky86egQ==', 'kid': '1517085485_3'}]}\n",
      "{'1517085485_2': b'-----BEGIN PUBLIC KEY-----\\nMIIBIjANBgkqhkiG9w0BAQEFAAOCAQ8AMIIBCgKCAQEA0XHEnjjUbB+oPw/GVxba\\nwO9Ku6brxxzcLhZFiv4WbB67Gjmefs0RtVEYt/lqB+kTxBy0xWoX7Hp21p2IyAIQ\\nuka177y3sDZ4WIAIENXTb6vs4QEkGFWA624VgnoBsYPSh0PexaltZQJZUF4s26t6\\nVs272mjfAmko5fUjqnvc62sZPa1iJdi5GwmtoXjQSUK+5TDI2a9uNPRLpwom8TuL\\n9UrtnWGZcpiVDrVQpVlzGJaOaPWeZHbkhXJD32kSQcWdBLNreqV32h+gmiqRdLZK\\nvrHeG3fOQNi6+LclvXFQGxIFDbbfez4Tq8Kx/DOZY8h/fr9mneJATjoK8Gk+/BFj\\nFQIDAQAB\\n-----END PUBLIC KEY-----\\n', '1517085485_3': b'-----BEGIN PUBLIC KEY-----\\nMIIBIjANBgkqhkiG9w0BAQEFAAOCAQ8AMIIBCgKCAQEAm5aocKcErpr6PZCzs6j/\\nIbR5CSnLh2crJFgO5c1OttZytj61hdMLrOqZMO5ERQZTy+X04n080CT1ghmlHnNV\\n0keESr49Cuebw5qgRuZExHy4GtKCRNXW3zvMX0hgFhbhCDCl3iyPJ/ja+eQjCuKV\\nwM9/9e9KGnarHU8Qnr+ifBkiI+vgV/khztJHnfu/F4QX4I1ztjbyOkCLXJZXZYUv\\nMKWxn0t3zMvi0sJzF8o3jxsQzS3FDlioSge9xsHRmOFVISRGAdO+69VBn50m36Jn\\nKrgvYAGjPVFCF3mOaErCVsK/mQHifxxpHHpMb0FhuYXgV1BB0Lab7927b6kky86e\\ngQIDAQAB\\n-----END PUBLIC KEY-----\\n', '1517085485_0': b'-----BEGIN PUBLIC KEY-----\\nMIIBIjANBgkqhkiG9w0BAQEFAAOCAQ8AMIIBCgKCAQEArIPY8sXpyABo1aUSA6mt\\nJlIy5vocedxpdMXu5wYk+v1SzM4HnuIyedwm14wzoSr+tK61/4Wm125cg+d7ON0u\\nYx6l6wI13LOPzSY96EaNarFF2JYmnywFWIYUsxlK24zP1YAe0AB8DMDLhbK1TDjX\\nKHbryxx7J6nARa7RFLBqV+pKb3kwiMAPzUjbOrU/NL60Zuj68xHLvfJ2gIP2yzs/\\n4rys3lLpDYEY9CzvyeDAwTMC3yF9hC/AE9RGg7g31wuFHMZPCL4mxEnLBl2xXIrn\\nDxPilHh8ICeZEoVgEZOjUTItbdfls7XpiLE491VKezSLhqibByXH9VvOgdhcQRDS\\nwQIDAQAB\\n-----END PUBLIC KEY-----\\n', '1517085485_1': b'-----BEGIN PUBLIC KEY-----\\nMIIBIjANBgkqhkiG9w0BAQEFAAOCAQ8AMIIBCgKCAQEA02VIow7RzJWtceXlnyI9\\nB0TYzJj/2mAM4SgSPux50RfO7N7fpnyMn7bnRsYE7RjYi0fdl//R1MpZtGy73dmZ\\ndIlVNF0HWd7tKdgyoboW3iqC/nwztXaTk8fSHnqfUwEdivoVcxDDok2tdkd1QjoY\\ngijkfsBL6SwZuLiIjkMmPA/72jhs4AwFMdrGk+D3xeyuSjRDxVp3fpBksKnQdczL\\nz9lOkYfSaKB0hGqQcdkuxNrOrNQ4m/JivGelSR/umj8qIHJS6xOfZEjxmObsydC5\\nM0R20Aq2l92F/8yFS0t57tJ95cMNjnmHrfmCWvtcqalHytUQ8VU0jvf5g+TkDB+I\\nLwIDAQAB\\n-----END PUBLIC KEY-----\\n'}\n"
     ]
    }
   ],
   "source": [
    "# We need the key set now\n",
    "keyset = json.loads(requests.get(platform_url + '/.well-known/jwks.json').text)\n",
    "\n",
    "print(keyset)\n",
    "platform_keys = {}\n",
    "# let's transform as a map for ease of use, and just the PEM because this is what is used by JWT lib\n",
    "for key in keyset['keys']:\n",
    "    public_key = RSAPublicNumbers(decode_int(key['e']), decode_int(key['n'])).public_key(default_backend())\n",
    "    pem = public_key.public_bytes(Encoding.PEM, PublicFormat.SubjectPublicKeyInfo)\n",
    "    platform_keys[key['kid']] = pem\n",
    "    \n",
    "print(platform_keys)"
   ]
  },
  {
   "cell_type": "code",
   "execution_count": 48,
   "metadata": {},
   "outputs": [
    {
     "name": "stdout",
     "output_type": "stream",
     "text": [
      "{'http://imsglobal.org/lti/version': '1.3.0', 'iss': 'http://localhost:5000', 'sub': 'LTIBCU_10', 'given_name': 'Ebba', 'email': 'Ebba.Elisa@example.com', 'family_name': 'Elisa', 'iat': 1517085540, 'http://imsglobal.org/lti/message_type': 'ContentItenSelectionRequest', 'nonce': '1b14d5c0-03a2-11e8-a22c-c48e8ffb7857', 'http://imsglobal.org/lti/deployment_id': 'deployment_0', 'aud': '0', 'exp': 1517085600, 'http://imsglobal.org/lti/tool_platform': {'guid': 'ltibc_at_1517085486', 'name': 'LTI Bootcamp Platform'}, 'name': 'Ebba Elisa'}\n"
     ]
    }
   ],
   "source": [
    "# Let's get the kid so we can get the proper public key\n",
    "encoded_jwt = post_data['id_token']\n",
    "jwt_headers = jwt.get_unverified_header(encoded_jwt)\n",
    "\n",
    "content_item_message = jwt.decode(encoded_jwt, \n",
    "                                  platform_keys[jwt_headers['kid']], \n",
    "                                  jwt_headers['alg'],\n",
    "                                  audience = tool_info['client_id'])\n",
    "\n",
    "print(content_item_message)"
   ]
  },
  {
   "cell_type": "code",
   "execution_count": null,
   "metadata": {},
   "outputs": [],
   "source": []
  }
 ],
 "metadata": {
  "kernelspec": {
   "display_name": "Python 3",
   "language": "python",
   "name": "python3"
  },
  "language_info": {
   "codemirror_mode": {
    "name": "ipython",
    "version": 3
   },
   "file_extension": ".py",
   "mimetype": "text/x-python",
   "name": "python",
   "nbconvert_exporter": "python",
   "pygments_lexer": "ipython3",
   "version": "3.5.2"
  }
 },
 "nbformat": 4,
 "nbformat_minor": 2
}
