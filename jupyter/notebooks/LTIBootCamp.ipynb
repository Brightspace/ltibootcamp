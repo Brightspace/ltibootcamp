{
 "cells": [
  {
   "cell_type": "markdown",
   "metadata": {},
   "source": [
    "# **LTI&trade; Advantage** bootcamp notebook\n",
    "\n",
    "## Introduction\n",
    "\n",
    "The notebook shows how to interact with the LTI Advantage ecosystem from a tool implementer viewpoint. It interacts with an actual test server which has been built as a platform simulator to support this notebook.\n"
   ]
  },
  {
   "cell_type": "markdown",
   "metadata": {},
   "source": [
    "## Setup\n",
    "\n",
    "Here we just import the libraries that will be needed in this notebook, define some utility functions and constants."
   ]
  },
  {
   "cell_type": "code",
   "execution_count": 79,
   "metadata": {},
   "outputs": [],
   "source": [
    "import requests\n",
    "import json\n",
    "import jwt\n",
    "import base64\n",
    "from cryptography.hazmat.primitives.asymmetric.rsa import RSAPublicNumbers\n",
    "from cryptography.hazmat.backends import default_backend\n",
    "from cryptography.hazmat.primitives.serialization import Encoding, PublicFormat\n",
    "from IPython.display import display, Markdown\n",
    "\n",
    "def decode_int(b64value):\n",
    "    return int.from_bytes(base64.urlsafe_b64decode(b64value), byteorder='big')\n",
    "\n",
    "# for concise code, return claim prefixed by ims\n",
    "def fc(claim):\n",
    "    return \"http://imsglobal.org/lti/{0}\".format(claim)\n",
    "\n",
    "def md(mdt):\n",
    "    display(Markdown(mdt))\n",
    "\n",
    "# This notebook queries an actual test server. It needs its location:\n",
    "platform_url='http://localhost:5000'\n"
   ]
  },
  {
   "cell_type": "markdown",
   "metadata": {},
   "source": [
    "First we need to get a new tool deployment from the server for this notebook instance to use.\n",
    "Each tool must have a client_id and a private key that will be used to interact with the platform services and send messages back to the platform.\n",
    "It also needs the keyset URL that exposes the platform public keys needed to validate the incoming messages.\n",
    "\n",
    "While this information is required for each tool, how it is obtained by the tool is NOT currently part of the LTI specifications."
   ]
  },
  {
   "cell_type": "code",
   "execution_count": 81,
   "metadata": {},
   "outputs": [
    {
     "data": {
      "text/markdown": [
       "### Tool information"
      ],
      "text/plain": [
       "<IPython.core.display.Markdown object>"
      ]
     },
     "metadata": {},
     "output_type": "display_data"
    },
    {
     "data": {
      "text/markdown": [
       "Here is the tool information generated for this notebook. It is stored in ```tool_info``` variable."
      ],
      "text/plain": [
       "<IPython.core.display.Markdown object>"
      ]
     },
     "metadata": {},
     "output_type": "display_data"
    },
    {
     "data": {
      "text/markdown": [
       "```json\n",
       "{\n",
       "    \"client_id\": \"10\",\n",
       "    \"deployment_id\": \"deployment_10\",\n",
       "    \"key\": {\n",
       "        \"e\": \"AQAB\",\n",
       "        \"kty\": \"RSA\",\n",
       "        \"use\": \"sig\",\n",
       "        \"alg\": \"RS256\",\n",
       "        \"d\": \"HlnyJFrLiVPoqudQnY3MVVIR5kVghabtTog2TU4ugRynM-PcYhC9dQUVc-RC01lD2gitwVW7YAHt1nzRr3kPaqrmwa9K8MBtaRKYqm1SMujLXQJDXkMec-dTG7RgQNvyzfBzB_0FX8M4vZZyiswhBbWnR27MIoF6jrU7z48uFcgnkI9YklDytNGKXjMsSdU8KOa_K8fG9UsYaJXyLPwYmVOBiOeVfppU07QOICNHrfQ9ds0C_94uyFIuXdRLggDaJK957k-ytlAXMWKqiuogh5Doce-xztEdlwAImEj_4MJP_j1SADr5dYvDHCiBtcdKcatwyljuMcOe0sI3cwIyMQ==\"\n",
       "    }\n",
       "}```"
      ],
      "text/plain": [
       "<IPython.core.display.Markdown object>"
      ]
     },
     "metadata": {},
     "output_type": "display_data"
    }
   ],
   "source": [
    "r = requests.get(platform_url + '/newtool')\n",
    "tool_info = json.loads(r.text)\n",
    "\n",
    "md('### Tool information')\n",
    "md('Here is the tool information generated for this notebook. It is stored in ```tool_info``` variable.')\n",
    "md('```json\\n'+ json.dumps(tool_info, indent=4)+'```')"
   ]
  },
  {
   "cell_type": "markdown",
   "metadata": {},
   "source": [
    "### Getting the public keys from the platform\n",
    "\n",
    "In order to validate the various messages we will receive from the platform, we need to get the key sets. We'll also transform the keys to the `PEM` format that is used by the `jwt` module to decode the messages.\n",
    "\n",
    "The test platform exposes its keys in a keyset format at a well-know location (.well-known/jwks.json). Other platform might just communicate the keyset url as part of the tool deployment information."
   ]
  },
  {
   "cell_type": "code",
   "execution_count": 82,
   "metadata": {},
   "outputs": [
    {
     "data": {
      "text/markdown": [
       "#### Platform keyset"
      ],
      "text/plain": [
       "<IPython.core.display.Markdown object>"
      ]
     },
     "metadata": {},
     "output_type": "display_data"
    },
    {
     "data": {
      "text/markdown": [
       "```json\n",
       "{\n",
       "    \"keys\": [\n",
       "        {\n",
       "            \"e\": \"AQAB\",\n",
       "            \"use\": \"sig\",\n",
       "            \"alg\": \"HS256\",\n",
       "            \"kty\": \"rsa\",\n",
       "            \"n\": \"wb68Yov1n2pe3wrlBsgUGfQJFOe_7oaya-Y45q_yRjMx2YhO5ZER8mhM81OjRnXMdq7tUJxy-PyHmVJFgTGwZAyokNvDmkPA_1ifVv_c0LnJW9C9BTl2ehljUciv1abwOITKEPcQoQj3ISmGCKMEB-eiQMs5mruunb1AalLnJu_TAfl-BnEhBRznd9thyQcoPUrDD2nfsnmVCoMQJaQzl6EBqCI1d-hK4abNHog_KTMpoe3LrSnUiIjtPWkvWNFv0j1h07HlqhOcWQ6fGHxwLEb1phXhb2xlQ79sIvrJp58cERyMrp6VDb8ozVCwBcgfBE8Eqww8gBCyrMgZtYeflQ==\",\n",
       "            \"kid\": \"1517151491_0\"\n",
       "        },\n",
       "        {\n",
       "            \"e\": \"AQAB\",\n",
       "            \"use\": \"sig\",\n",
       "            \"alg\": \"HS256\",\n",
       "            \"kty\": \"rsa\",\n",
       "            \"n\": \"0dqZ5VuLqhjOuW7_YFTUn_dogYbwZhJJdafHyvCdwIdGaMrn6E9dkgx_4jSTonCDhn2LZOWVKn-6Es8pW8gI2S3vjIqxe3CryP-fkCR-Y5ZRG9hUjktIE_suoURTk2VbAmYAyXpV-iECn8Rr0KkFfo6Te4H_VU21VPjXBEVANIxTaXtze3dI-6hhtjYnB2KPcgj5PvDAbQh6IytHcVWHxjACYbVXyb0uQvpRwsE5PsDa2P9ZxxFmr6npyuwM9RblyIF7CDSU6ZrNu-ZPBucdkTy78DCedUPmo6dqZa5t1GeNawZJtLIlj_y696C_sARuFsNGIzBvfleWIsoFMYO10w==\",\n",
       "            \"kid\": \"1517151491_1\"\n",
       "        },\n",
       "        {\n",
       "            \"e\": \"AQAB\",\n",
       "            \"use\": \"sig\",\n",
       "            \"alg\": \"HS256\",\n",
       "            \"kty\": \"rsa\",\n",
       "            \"n\": \"q0lkmWCrMLrB7icb1xvYf1vzKZxmn9Ez5imo2pXPRry7KJdbq3EVrgJ1QClV1mo41Lh6alKf4RK8WitI61IgOI1zDLeNtrj0ef-idXiKS5d3M4VVWuQ80w1fXHeB65ebXpEYH9AZlNDjo9jHahfA_8blYCviK8_v68CTpHWnGSNhGHEUBpy__c_YttsiadVjg7Qf7h9ddmZMXifWPgLtrCWOXbuqHOJ-OKvPEpEvM7lBOaSqqSUxuhQTnAPrXsxJCABPNqpoUBVkLNdfxPnTHDWF-X_kf_gsVRPHuOhUgL-nI3lyoA5l8V4--b-NoWWgI_UzCtGaElI2k6MNEZSdqw==\",\n",
       "            \"kid\": \"1517151491_2\"\n",
       "        },\n",
       "        {\n",
       "            \"e\": \"AQAB\",\n",
       "            \"use\": \"sig\",\n",
       "            \"alg\": \"HS256\",\n",
       "            \"kty\": \"rsa\",\n",
       "            \"n\": \"29AVqbzp1wXw3s4TFod3cPUo7DNWcWh0NnnSC_Z8ZoZSbz3-9iTP1w_hgwqknALCbtRe0Xz4j9htjEjyA8XdzlPq-B2Ik3mGINT6Ya5AyZaLO7dQ4fEBYUP6v3TuTXhW9z-RYxDoRj3L7mvGvJpU0uqCPJhiZ-pat7truZ82LqAuDkjnJLorQxYnJtlrflBkUKSMixW9-OfByPMMJNnZ0gRHOwMne0m6pyrG_5LNw4EFVwS9X5EQ7tedTJ7ndFVN7GuN5Us7uUC-zWZheoOwXDPqVANksmPGy0U5wV9huS51_qUdzOdGnGrnWgtWSgeS2MtisrFoNCi2ObbNfuCYPw==\",\n",
       "            \"kid\": \"1517151491_3\"\n",
       "        }\n",
       "    ]\n",
       "}```"
      ],
      "text/plain": [
       "<IPython.core.display.Markdown object>"
      ]
     },
     "metadata": {},
     "output_type": "display_data"
    }
   ],
   "source": [
    "keyset = json.loads(requests.get(platform_url + '/.well-known/jwks.json').text)\n",
    "\n",
    "md('#### Platform keyset')\n",
    "md('```json\\n'+ json.dumps(keyset, indent=4)+'```')\n",
    "\n",
    "platform_keys = {}\n",
    "\n",
    "# let's transform as a map for ease of use, and just the PEM because this is what is used by JWT lib\n",
    "for key in keyset['keys']:\n",
    "    public_key = RSAPublicNumbers(decode_int(key['e']), decode_int(key['n'])).public_key(default_backend())\n",
    "    pem = public_key.public_bytes(Encoding.PEM, PublicFormat.SubjectPublicKeyInfo)\n",
    "    platform_keys[key['kid']] = pem\n",
    "    \n"
   ]
  },
  {
   "cell_type": "markdown",
   "metadata": {},
   "source": [
    "## Deep Linking - Creating a Link\n",
    "This section will use the deep linking specification to create a Resource Link to the platform. That resource link will be gradable and used in the following sections of that notebook.\n",
    "\n",
    "[Deep Linking](https://www.imsglobal.org/specs/lticiv1p0) is a **UI flow**, it is an important piece that is sometimes missed on 1st reading. The user is redirected from the platform to the tool to pick or create one or multiple piece of content (often, LTI links), and the the tool redirects the UI back to the tool with the actual selection (or an empty payload if nothing was picked or created).\n",
    "\n",
    "So there are 2 messages:\n",
    "\n",
    "1. `ContentItemRequestSelection` from the platform to the tool to start the picking/create session. This is a typical platform launch that contains the context and the user information, and what kind of content items may be created in this flow (for example, this flow might indicate it only wants LTI links).\n",
    "1. `ContentItemSelection` from the tool back to the plaform using the `content_item_return_url` provided in the request.\n",
    "\n",
    "Once a tool is added to a course, usually the first launch from the platform will be a Deep Linking request.\n",
    "\n",
    "![deep linking](assets/lti_advantage_deeplinking.png \"LTI Deep Link\")"
   ]
  },
  {
   "cell_type": "markdown",
   "metadata": {},
   "source": [
    "### Setup: Getting a Deep Linking Request\n",
    "\n",
    "This notebook is not a tool actually launched by the platform, so the test platform as way to give us the token that it would include in an actual HTTP POSTrequest, so we can build a mock POST request including the parameter `post_data`."
   ]
  },
  {
   "cell_type": "code",
   "execution_count": 74,
   "metadata": {},
   "outputs": [],
   "source": [
    "r = requests.get(\"{}/tool/{}/cisr\".format(platform_url, tool_info['client_id']))\n",
    "\n",
    "post_data = {\n",
    "    'id_token':r.text\n",
    "}"
   ]
  },
  {
   "cell_type": "markdown",
   "metadata": {},
   "source": [
    "### Task 1: Verify the JWT is properly signed\n",
    "\n",
    "The first thing before to display to the user the picker/authoring interface to create the link is to validate this request is properly signed. This is done by decoding the JWT using public key from the platform.\n"
   ]
  },
  {
   "cell_type": "code",
   "execution_count": 83,
   "metadata": {},
   "outputs": [
    {
     "ename": "ExpiredSignatureError",
     "evalue": "Signature has expired",
     "output_type": "error",
     "traceback": [
      "\u001b[0;31m---------------------------------------------------------------------------\u001b[0m",
      "\u001b[0;31mExpiredSignatureError\u001b[0m                     Traceback (most recent call last)",
      "\u001b[0;32m<ipython-input-83-1176be558211>\u001b[0m in \u001b[0;36m<module>\u001b[0;34m()\u001b[0m\n\u001b[1;32m      6\u001b[0m                                   \u001b[0mplatform_keys\u001b[0m\u001b[0;34m[\u001b[0m\u001b[0mjwt_headers\u001b[0m\u001b[0;34m[\u001b[0m\u001b[0;34m'kid'\u001b[0m\u001b[0;34m]\u001b[0m\u001b[0;34m]\u001b[0m\u001b[0;34m,\u001b[0m\u001b[0;34m\u001b[0m\u001b[0m\n\u001b[1;32m      7\u001b[0m                                   \u001b[0mjwt_headers\u001b[0m\u001b[0;34m[\u001b[0m\u001b[0;34m'alg'\u001b[0m\u001b[0;34m]\u001b[0m\u001b[0;34m,\u001b[0m\u001b[0;34m\u001b[0m\u001b[0m\n\u001b[0;32m----> 8\u001b[0;31m                                   audience = tool_info['client_id'])\n\u001b[0m\u001b[1;32m      9\u001b[0m \u001b[0;34m\u001b[0m\u001b[0m\n\u001b[1;32m     10\u001b[0m \u001b[0mmd\u001b[0m\u001b[0;34m(\u001b[0m\u001b[0;34m'#### Decoded ContentItemSelectionRequest message'\u001b[0m\u001b[0;34m)\u001b[0m\u001b[0;34m\u001b[0m\u001b[0m\n",
      "\u001b[0;32m~/.py3envs/jupyter/lib/python3.5/site-packages/jwt/api_jwt.py\u001b[0m in \u001b[0;36mdecode\u001b[0;34m(self, jwt, key, verify, algorithms, options, **kwargs)\u001b[0m\n\u001b[1;32m     88\u001b[0m         \u001b[0;32mif\u001b[0m \u001b[0mverify\u001b[0m\u001b[0;34m:\u001b[0m\u001b[0;34m\u001b[0m\u001b[0m\n\u001b[1;32m     89\u001b[0m             \u001b[0mmerged_options\u001b[0m \u001b[0;34m=\u001b[0m \u001b[0mmerge_dict\u001b[0m\u001b[0;34m(\u001b[0m\u001b[0mself\u001b[0m\u001b[0;34m.\u001b[0m\u001b[0moptions\u001b[0m\u001b[0;34m,\u001b[0m \u001b[0moptions\u001b[0m\u001b[0;34m)\u001b[0m\u001b[0;34m\u001b[0m\u001b[0m\n\u001b[0;32m---> 90\u001b[0;31m             \u001b[0mself\u001b[0m\u001b[0;34m.\u001b[0m\u001b[0m_validate_claims\u001b[0m\u001b[0;34m(\u001b[0m\u001b[0mpayload\u001b[0m\u001b[0;34m,\u001b[0m \u001b[0mmerged_options\u001b[0m\u001b[0;34m,\u001b[0m \u001b[0;34m**\u001b[0m\u001b[0mkwargs\u001b[0m\u001b[0;34m)\u001b[0m\u001b[0;34m\u001b[0m\u001b[0m\n\u001b[0m\u001b[1;32m     91\u001b[0m \u001b[0;34m\u001b[0m\u001b[0m\n\u001b[1;32m     92\u001b[0m         \u001b[0;32mreturn\u001b[0m \u001b[0mpayload\u001b[0m\u001b[0;34m\u001b[0m\u001b[0m\n",
      "\u001b[0;32m~/.py3envs/jupyter/lib/python3.5/site-packages/jwt/api_jwt.py\u001b[0m in \u001b[0;36m_validate_claims\u001b[0;34m(self, payload, options, audience, issuer, leeway, **kwargs)\u001b[0m\n\u001b[1;32m    118\u001b[0m \u001b[0;34m\u001b[0m\u001b[0m\n\u001b[1;32m    119\u001b[0m         \u001b[0;32mif\u001b[0m \u001b[0;34m'exp'\u001b[0m \u001b[0;32min\u001b[0m \u001b[0mpayload\u001b[0m \u001b[0;32mand\u001b[0m \u001b[0moptions\u001b[0m\u001b[0;34m.\u001b[0m\u001b[0mget\u001b[0m\u001b[0;34m(\u001b[0m\u001b[0;34m'verify_exp'\u001b[0m\u001b[0;34m)\u001b[0m\u001b[0;34m:\u001b[0m\u001b[0;34m\u001b[0m\u001b[0m\n\u001b[0;32m--> 120\u001b[0;31m             \u001b[0mself\u001b[0m\u001b[0;34m.\u001b[0m\u001b[0m_validate_exp\u001b[0m\u001b[0;34m(\u001b[0m\u001b[0mpayload\u001b[0m\u001b[0;34m,\u001b[0m \u001b[0mnow\u001b[0m\u001b[0;34m,\u001b[0m \u001b[0mleeway\u001b[0m\u001b[0;34m)\u001b[0m\u001b[0;34m\u001b[0m\u001b[0m\n\u001b[0m\u001b[1;32m    121\u001b[0m \u001b[0;34m\u001b[0m\u001b[0m\n\u001b[1;32m    122\u001b[0m         \u001b[0;32mif\u001b[0m \u001b[0moptions\u001b[0m\u001b[0;34m.\u001b[0m\u001b[0mget\u001b[0m\u001b[0;34m(\u001b[0m\u001b[0;34m'verify_iss'\u001b[0m\u001b[0;34m)\u001b[0m\u001b[0;34m:\u001b[0m\u001b[0;34m\u001b[0m\u001b[0m\n",
      "\u001b[0;32m~/.py3envs/jupyter/lib/python3.5/site-packages/jwt/api_jwt.py\u001b[0m in \u001b[0;36m_validate_exp\u001b[0;34m(self, payload, now, leeway)\u001b[0m\n\u001b[1;32m    159\u001b[0m \u001b[0;34m\u001b[0m\u001b[0m\n\u001b[1;32m    160\u001b[0m         \u001b[0;32mif\u001b[0m \u001b[0mexp\u001b[0m \u001b[0;34m<\u001b[0m \u001b[0;34m(\u001b[0m\u001b[0mnow\u001b[0m \u001b[0;34m-\u001b[0m \u001b[0mleeway\u001b[0m\u001b[0;34m)\u001b[0m\u001b[0;34m:\u001b[0m\u001b[0;34m\u001b[0m\u001b[0m\n\u001b[0;32m--> 161\u001b[0;31m             \u001b[0;32mraise\u001b[0m \u001b[0mExpiredSignatureError\u001b[0m\u001b[0;34m(\u001b[0m\u001b[0;34m'Signature has expired'\u001b[0m\u001b[0;34m)\u001b[0m\u001b[0;34m\u001b[0m\u001b[0m\n\u001b[0m\u001b[1;32m    162\u001b[0m \u001b[0;34m\u001b[0m\u001b[0m\n\u001b[1;32m    163\u001b[0m     \u001b[0;32mdef\u001b[0m \u001b[0m_validate_aud\u001b[0m\u001b[0;34m(\u001b[0m\u001b[0mself\u001b[0m\u001b[0;34m,\u001b[0m \u001b[0mpayload\u001b[0m\u001b[0;34m,\u001b[0m \u001b[0maudience\u001b[0m\u001b[0;34m)\u001b[0m\u001b[0;34m:\u001b[0m\u001b[0;34m\u001b[0m\u001b[0m\n",
      "\u001b[0;31mExpiredSignatureError\u001b[0m: Signature has expired"
     ]
    }
   ],
   "source": [
    "# Let's get the kid so we can get the proper public key\n",
    "encoded_jwt = post_data['id_token']\n",
    "jwt_headers = jwt.get_unverified_header(encoded_jwt)\n",
    "\n",
    "content_item_message = jwt.decode(encoded_jwt, \n",
    "                                  platform_keys[jwt_headers['kid']], \n",
    "                                  jwt_headers['alg'],\n",
    "                                  audience = tool_info['client_id'])\n",
    "\n",
    "md('#### Decoded ContentItemSelectionRequest message')\n",
    "md('```json\\n'+ json.dumps(content_item_message, indent=4)+'```')\n"
   ]
  },
  {
   "cell_type": "markdown",
   "metadata": {},
   "source": [
    "### Task 2: extract the information to decide which experience to show\n",
    "\n",
    "If this is the first launch for the user or the course, as a tool you may prompt the user for setup information, including account linking or course setup. Ultimately the user will see the authoring or picking interface that will allow her to create or select the content items to be added to the course.\n",
    "\n",
    "Some key attributes of the `ContentItemSelectionRequest` will drive the experience:"
   ]
  },
  {
   "cell_type": "code",
   "execution_count": 84,
   "metadata": {},
   "outputs": [
    {
     "ename": "NameError",
     "evalue": "name 'content_item' is not defined",
     "output_type": "error",
     "traceback": [
      "\u001b[0;31m---------------------------------------------------------------------------\u001b[0m",
      "\u001b[0;31mNameError\u001b[0m                                 Traceback (most recent call last)",
      "\u001b[0;32m<ipython-input-84-e7f5d28f3a85>\u001b[0m in \u001b[0;36m<module>\u001b[0;34m()\u001b[0m\n\u001b[0;32m----> 1\u001b[0;31m \u001b[0mmd\u001b[0m\u001b[0;34m(\u001b[0m\u001b[0;34m'1. What is the current course id? {0}'\u001b[0m\u001b[0;34m.\u001b[0m\u001b[0mformat\u001b[0m\u001b[0;34m(\u001b[0m\u001b[0mcontent_item\u001b[0m\u001b[0;34m[\u001b[0m\u001b[0mc\u001b[0m\u001b[0;34m(\u001b[0m\u001b[0;34m''\u001b[0m\u001b[0;34m)\u001b[0m\u001b[0;34m]\u001b[0m\u001b[0;34m)\u001b[0m\u001b[0;34m)\u001b[0m\u001b[0;34m\u001b[0m\u001b[0m\n\u001b[0m\u001b[1;32m      2\u001b[0m \u001b[0mmd\u001b[0m\u001b[0;34m(\u001b[0m\u001b[0;34m'1. What is the current user id? {0}'\u001b[0m\u001b[0;34m.\u001b[0m\u001b[0mformat\u001b[0m\u001b[0;34m(\u001b[0m\u001b[0mcontent_item\u001b[0m\u001b[0;34m[\u001b[0m\u001b[0;34m'sub'\u001b[0m\u001b[0;34m]\u001b[0m\u001b[0;34m)\u001b[0m\u001b[0;34m)\u001b[0m\u001b[0;34m\u001b[0m\u001b[0m\n\u001b[1;32m      3\u001b[0m \u001b[0mmd\u001b[0m\u001b[0;34m(\u001b[0m\u001b[0;34m'1. Is this user an instructor? {0}'\u001b[0m\u001b[0;34m.\u001b[0m\u001b[0mformat\u001b[0m\u001b[0;34m(\u001b[0m\u001b[0mcontent_item\u001b[0m\u001b[0;34m[\u001b[0m\u001b[0;34m'sub'\u001b[0m\u001b[0;34m]\u001b[0m\u001b[0;34m)\u001b[0m\u001b[0;34m)\u001b[0m\u001b[0;34m\u001b[0m\u001b[0m\n\u001b[1;32m      4\u001b[0m \u001b[0mmd\u001b[0m\u001b[0;34m(\u001b[0m\u001b[0;34m'1. What kind of content item can be created? {0}'\u001b[0m\u001b[0;34m.\u001b[0m\u001b[0mformat\u001b[0m\u001b[0;34m(\u001b[0m\u001b[0mcontent_item\u001b[0m\u001b[0;34m[\u001b[0m\u001b[0mc\u001b[0m\u001b[0;34m(\u001b[0m\u001b[0;34m''\u001b[0m\u001b[0;34m)\u001b[0m\u001b[0;34m]\u001b[0m\u001b[0;34m)\u001b[0m\u001b[0;34m)\u001b[0m\u001b[0;34m\u001b[0m\u001b[0m\n\u001b[1;32m      5\u001b[0m \u001b[0mmd\u001b[0m\u001b[0;34m(\u001b[0m\u001b[0;34m'1. Can I return more than one items to be added? {0}'\u001b[0m\u001b[0;34m.\u001b[0m\u001b[0mformat\u001b[0m\u001b[0;34m(\u001b[0m\u001b[0mcontent_item\u001b[0m\u001b[0;34m[\u001b[0m\u001b[0mc\u001b[0m\u001b[0;34m(\u001b[0m\u001b[0;34m''\u001b[0m\u001b[0;34m)\u001b[0m\u001b[0;34m]\u001b[0m\u001b[0;34m)\u001b[0m\u001b[0;34m)\u001b[0m\u001b[0;34m\u001b[0m\u001b[0m\n",
      "\u001b[0;31mNameError\u001b[0m: name 'content_item' is not defined"
     ]
    }
   ],
   "source": [
    "md('1. What is the current course id? {0}'.format(content_item[c('')]))\n",
    "md('1. What is the current user id? {0}'.format(content_item['sub']))\n",
    "md('1. Is this user an instructor? {0}'.format(content_item['sub']))\n",
    "md('1. What kind of content item can be created? {0}'.format(content_item[c('')]))\n",
    "md('1. Can I return more than one items to be added? {0}'.format(content_item[c('')]))\n",
    "md('1. Can I return more than one items to be added? {0}'.format(content_item[c('')]))\n",
    "md('1. Where should I redirect the browser too when done? {0}'.format(content_item[c('')]))\n",
    "md('1. Is there any data I must pass back to platform when I return? {0}'.format(content_item[c('')]))"
   ]
  },
  {
   "cell_type": "markdown",
   "metadata": {},
   "source": [
    "### Task 3: redirect the user back to the platform with the content item selection\n",
    "\n",
    "After the end of the interaction, so user is sent back to the platform throught a browser redirection using an HTTP POST containing the JWT `ContentItemResponse` message. In this case, we will return 2 LTI links, one being graded."
   ]
  },
  {
   "cell_type": "code",
   "execution_count": null,
   "metadata": {},
   "outputs": [],
   "source": []
  }
 ],
 "metadata": {
  "kernelspec": {
   "display_name": "Python 3",
   "language": "python",
   "name": "python3"
  },
  "language_info": {
   "codemirror_mode": {
    "name": "ipython",
    "version": 3
   },
   "file_extension": ".py",
   "mimetype": "text/x-python",
   "name": "python",
   "nbconvert_exporter": "python",
   "pygments_lexer": "ipython3",
   "version": "3.5.2"
  }
 },
 "nbformat": 4,
 "nbformat_minor": 2
}
