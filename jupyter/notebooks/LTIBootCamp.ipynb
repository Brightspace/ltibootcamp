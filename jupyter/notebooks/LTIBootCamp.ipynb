{
 "cells": [
  {
   "cell_type": "markdown",
   "metadata": {},
   "source": [
    "# **LTI&trade; Advantage** bootcamp notebook for Tool\n",
    "\n",
    "## Introduction\n",
    "\n",
    "The notebook shows how to interact with the LTI Advantage ecosystem from a tool implementer viewpoint. It interacts with an actual test server which has been built as a platform simulator to support this notebook.\n"
   ]
  },
  {
   "cell_type": "markdown",
   "metadata": {},
   "source": [
    "## Setup\n",
    "\n",
    "Here we just import the libraries that will be needed in this notebook, define some utility functions and constants."
   ]
  },
  {
   "cell_type": "code",
   "execution_count": 207,
   "metadata": {},
   "outputs": [],
   "source": [
    "import requests\n",
    "import json\n",
    "import jwt\n",
    "import base64\n",
    "from time import time\n",
    "from cryptography.hazmat.primitives.asymmetric.rsa import RSAPublicNumbers\n",
    "from cryptography.hazmat.backends import default_backend\n",
    "from cryptography.hazmat.primitives.serialization import Encoding, PublicFormat\n",
    "from IPython.display import display, Markdown, HTML, Javascript\n",
    "\n",
    "def decode_int(b64value):\n",
    "    return int.from_bytes(base64.urlsafe_b64decode(b64value), byteorder='big')\n",
    "\n",
    "# for concise code, return full claim prefixed by ims\n",
    "def fc(claim):\n",
    "    return \"http://imsglobal.org/lti/{0}\".format(claim)\n",
    "\n",
    "def md(mdt):\n",
    "    display(Markdown(mdt))\n",
    "    \n",
    "md_buffer = ''\n",
    "\n",
    "def mdb(mdt=None):\n",
    "    global md_buffer\n",
    "    if mdt:\n",
    "        md_buffer = md_buffer + '\\n' + mdt\n",
    "    else:\n",
    "        md(md_buffer)\n",
    "        md_buffer = ''\n",
    "\n",
    "# This notebook queries an actual test server. It needs its location:\n",
    "platform_url='http://localhost:5000'\n"
   ]
  },
  {
   "cell_type": "markdown",
   "metadata": {},
   "source": [
    "First we need to get a new tool deployment from the server for this notebook instance to use.\n",
    "Each tool must have a client_id and a private key that will be used to interact with the platform services and send messages back to the platform.\n",
    "It also needs the keyset URL that exposes the platform public keys needed to validate the incoming messages.\n",
    "\n",
    "While this information is required for each tool, how it is obtained by the tool is NOT currently part of the LTI specifications."
   ]
  },
  {
   "cell_type": "code",
   "execution_count": 208,
   "metadata": {},
   "outputs": [
    {
     "data": {
      "text/markdown": [
       "### Tool information"
      ],
      "text/plain": [
       "<IPython.core.display.Markdown object>"
      ]
     },
     "metadata": {},
     "output_type": "display_data"
    },
    {
     "data": {
      "text/markdown": [
       "Here is the tool information generated for this notebook. It is stored in ```tool_info``` variable."
      ],
      "text/plain": [
       "<IPython.core.display.Markdown object>"
      ]
     },
     "metadata": {},
     "output_type": "display_data"
    },
    {
     "data": {
      "text/markdown": [
       "```json\n",
       "{\n",
       "    \"client_id\": \"0\",\n",
       "    \"deployment_id\": \"deployment_0\",\n",
       "    \"key\": {\n",
       "        \"e\": \"AQAB\",\n",
       "        \"kty\": \"RSA\",\n",
       "        \"use\": \"sig\",\n",
       "        \"alg\": \"RS256\",\n",
       "        \"d\": \"SF5F2Dp1iwNZV_mFa5i0p-wsYbjo1RbLqSCY6c827OVL3G2Qu24dvUXijIs3LsWSkhcR0XzzzAOb0sJ4wxWjXyDOwrV6EQMZGXBXPRhYFJQG-k6js7_FOzsARUnTkNQ43aLkRvjYyQPT3Pn39NJPdnt74SbfPaJ_w4AI9iP0f8Ie-ueKEqnyp2gJvFIl7SgfMJnK2hLPtxOJEqTTR_kAedDKzlxyHg9z96b_7xi1pB3vRi84OfuDvYk66o93dnUV-oflhK3GV4PAyA417gegvR_bo8N2ZtbVMJYtVqVoUPj2fH-L62dHOxz-IyQzC8fdTc01gg-dAqoDQKql4FSAAQ==\"\n",
       "    }\n",
       "}```"
      ],
      "text/plain": [
       "<IPython.core.display.Markdown object>"
      ]
     },
     "metadata": {},
     "output_type": "display_data"
    }
   ],
   "source": [
    "r = requests.get(platform_url + '/newtool')\n",
    "tool_info = json.loads(r.text)\n",
    "\n",
    "md('### Tool information')\n",
    "md('Here is the tool information generated for this notebook. It is stored in ```tool_info``` variable.')\n",
    "md('```json\\n'+ json.dumps(tool_info, indent=4)+'```')"
   ]
  },
  {
   "cell_type": "markdown",
   "metadata": {},
   "source": [
    "### Getting the public keys from the platform\n",
    "\n",
    "In order to validate the various messages we will receive from the platform, we need to get the key sets. We'll also transform the keys to the `PEM` format that is used by the `jwt` module to decode the messages.\n",
    "\n",
    "The test platform exposes its keys in a keyset format at a well-know location (.well-known/jwks.json). Other platform might just communicate the keyset url as part of the tool deployment information."
   ]
  },
  {
   "cell_type": "code",
   "execution_count": 209,
   "metadata": {},
   "outputs": [
    {
     "data": {
      "text/markdown": [
       "#### Platform keyset"
      ],
      "text/plain": [
       "<IPython.core.display.Markdown object>"
      ]
     },
     "metadata": {},
     "output_type": "display_data"
    },
    {
     "data": {
      "text/markdown": [
       "```json\n",
       "{\n",
       "    \"keys\": [\n",
       "        {\n",
       "            \"e\": \"AQAB\",\n",
       "            \"use\": \"sig\",\n",
       "            \"alg\": \"HS256\",\n",
       "            \"kty\": \"rsa\",\n",
       "            \"n\": \"4CNA0Cu38ux_GZNf8ZvFCHxzX4pfzMqnOvls8LbBQg4Gys_E45xuqPeEQSZ3reDXOHpCqEYiz1FKxi5PfQjJVq4DqCkgOWvZo7qKh2LlG8xeautms4IaVqgxHibiNxKRWJ0oYF2flxKBU5XSRVaIXftg2aCplU__tEKbLKxHYJAK23bnvig8Upmo2YWQ_-70P_AGeVCgfNh7ZKWDDJndJk8teyuymj1Csakm8iqJW8Ogv6-hcw19NQGOSpz8xX6UEUx8R1eCmZXSydTvOHmAdukXjKAPr4DaldswpXWJfaXIWa2t2tKzBJF1-_YwLXZXMUYDokklZf0j60ELvBp4VQ==\",\n",
       "            \"kid\": \"1517791263_0\"\n",
       "        },\n",
       "        {\n",
       "            \"e\": \"AQAB\",\n",
       "            \"use\": \"sig\",\n",
       "            \"alg\": \"HS256\",\n",
       "            \"kty\": \"rsa\",\n",
       "            \"n\": \"vlI9gOIjCkgAbe687rDGROsuU9cqNfB19OPAr5j-pKL5iaT5HbwEKWfaRaMqnksZzne0_7p5anpjx1dF_KvoQ4dA11403bp0W6QfyrfpE4XMh3FshcoLYtARAmxTVXFNj-fHFPiJileR6UegUA2WIyE5m3Hk5xm3OneWuLcSkBNZ5gKYmhxWgVQLrRe7zYwUoIcMZrbRC0eQ8IyR81A7F6KgR-HSFNBsyROg81R4w3KsJ_YHsGulegVRFz3ow-IUc7gBQ3ce2-xW9CJOqRUoTePzE7nbp9n0KtfaOPwmMSyQVvLkaP3jUchs6A-W2ToG7V-FC4I-XmjqA6oRfNn9CQ==\",\n",
       "            \"kid\": \"1517791263_1\"\n",
       "        },\n",
       "        {\n",
       "            \"e\": \"AQAB\",\n",
       "            \"use\": \"sig\",\n",
       "            \"alg\": \"HS256\",\n",
       "            \"kty\": \"rsa\",\n",
       "            \"n\": \"rSht-gF6HDZWE3pYezg7yUdhvPu6viz6xgDhOog3QOGxLOqkJjH2Rrh82xYnKg3i7K1wMVsjKD7J7lnw2RoaGUvovXrMKW95Irlpy_JJ2Xo7VQRb9s_8AMzIOmmjWuVH-6gfLXaaccNU1ITMRtFvStgFIVG5kmADxNmbH_UnRrkT_KJLQIKnbG6k2vAZaI_fzc5TbEhPBCwG0dnRwMD4xAP37wXztkBFPp37QeOMHv9woob6xV6srIVOptlpp3BbTxGhCg2CaDJ2xRItq1UtUDI-KBPTc-71MF1OHBidqt7e7IhNtslYBEnDlFYlb0lWGgernu4Psb3e4eSTuTwAOw==\",\n",
       "            \"kid\": \"1517791263_2\"\n",
       "        },\n",
       "        {\n",
       "            \"e\": \"AQAB\",\n",
       "            \"use\": \"sig\",\n",
       "            \"alg\": \"HS256\",\n",
       "            \"kty\": \"rsa\",\n",
       "            \"n\": \"qq0sw3rV0fxjSxQJ3-O06HiXUnEW31Rx6zM4FAXV9dnUnIdnRv6xEDuhcuj4FezE2NPCUh2cQl7Jv4QpwpRPCchV34GbD0gYeE5xz9JwZS3jG08D-waADZxmmnLDTjMe7jmstCxncECRoTuLsfafAJs8h6CpXGxnTritMAbOrntYYHm8NpIac5xDEGtDXnXMN9b_-u2Xd33TVw4L-m_6IkSzs3cb2TIl4gtLsf94QG2ngM5KVq4En3mbJKa-xZHxK5jQUewG1IIRzihi-XWWDpcKkELzj_hU1a3xUkmBhZ42nL4ESUT1LLW2Yu5C-xRXO6dE1A7ZknwrtTToxsV8jw==\",\n",
       "            \"kid\": \"1517791263_3\"\n",
       "        }\n",
       "    ]\n",
       "}```"
      ],
      "text/plain": [
       "<IPython.core.display.Markdown object>"
      ]
     },
     "metadata": {},
     "output_type": "display_data"
    }
   ],
   "source": [
    "keyset = json.loads(requests.get(platform_url + '/.well-known/jwks.json').text)\n",
    "\n",
    "md('#### Platform keyset')\n",
    "md('```json\\n'+ json.dumps(keyset, indent=4)+'```')\n",
    "\n",
    "platform_keys = {}\n",
    "\n",
    "# let's transform as a map for ease of use, and just the PEM because this is what is used by JWT lib\n",
    "for key in keyset['keys']:\n",
    "    public_key = RSAPublicNumbers(decode_int(key['e']), decode_int(key['n'])).public_key(default_backend())\n",
    "    pem = public_key.public_bytes(Encoding.PEM, PublicFormat.SubjectPublicKeyInfo)\n",
    "    platform_keys[key['kid']] = pem\n",
    "    \n"
   ]
  },
  {
   "cell_type": "markdown",
   "metadata": {},
   "source": [
    "## Deep Linking - Creating a Link\n",
    "This section will use the deep linking specification to create a Resource Link to the platform. That resource link will be gradable and used in the following sections of that notebook.\n",
    "\n",
    "[Deep Linking](https://www.imsglobal.org/specs/lticiv1p0) is a **UI flow**, it is an important piece that is sometimes missed on 1st reading. The user is redirected from the platform to the tool to pick or create one or multiple piece of content (often, LTI links), and the the tool redirects the UI back to the tool with the actual selection (or an empty payload if nothing was picked or created).\n",
    "\n",
    "So there are 2 messages:\n",
    "\n",
    "1. `ContentItemRequestSelection` from the platform to the tool to start the picking/create session. This is a typical platform launch that contains the context and the user information, and what kind of content items may be created in this flow (for example, this flow might indicate it only wants LTI links).\n",
    "1. `ContentItemSelection` from the tool back to the plaform using the `content_item_return_url` provided in the request.\n",
    "\n",
    "Once a tool is added to a course, usually the first launch from the platform will be a Deep Linking request.\n",
    "\n",
    "<img src=\"assets/lti_advantage_deeplinking.png\" width=\"60%\">"
   ]
  },
  {
   "cell_type": "markdown",
   "metadata": {},
   "source": [
    "### Setup: Getting a Deep Linking Request\n",
    "\n",
    "This notebook is not a tool actually launched by the platform, so the test platform as way to give us the token that it would include in an actual HTTP POST request, so we can build a mock POST request including the parameter `post_data`."
   ]
  },
  {
   "cell_type": "code",
   "execution_count": 210,
   "metadata": {},
   "outputs": [
    {
     "data": {
      "text/markdown": [
       "`id_token=<!DOCTYPE HTML PUBLIC \"-//W3C//DTD HTML 3.2 Final//EN\">\n",
       "<title>500 Internal Server Error</title>\n",
       "<h1>Internal Server Error</h1>\n",
       "<p>The server encountered an internal error and was unable to complete your request.  Either the server is overloaded or there is an error in the application.</p>\n",
       "`"
      ],
      "text/plain": [
       "<IPython.core.display.Markdown object>"
      ]
     },
     "metadata": {},
     "output_type": "display_data"
    }
   ],
   "source": [
    "r = requests.get(\"{}/tool/{}/cisr\".format(platform_url, tool_info['client_id']))\n",
    "\n",
    "post_data = {\n",
    "    'id_token':r.text\n",
    "}\n",
    "\n",
    "md('`id_token='+ r.text+'`')"
   ]
  },
  {
   "cell_type": "markdown",
   "metadata": {},
   "source": [
    "### Task 1: Verify the JWT is properly signed\n",
    "\n",
    "The first thing before to display to the user the picker/authoring interface to create the link is to validate this request is properly signed. This is done by decoding the JWT using public key from the platform.\n"
   ]
  },
  {
   "cell_type": "code",
   "execution_count": 211,
   "metadata": {},
   "outputs": [
    {
     "ename": "DecodeError",
     "evalue": "Invalid header padding",
     "output_type": "error",
     "traceback": [
      "\u001b[0;31m---------------------------------------------------------------------------\u001b[0m",
      "\u001b[0;31mError\u001b[0m                                     Traceback (most recent call last)",
      "\u001b[0;32m~/.py3envs/jupyter/lib/python3.5/site-packages/jwt/api_jws.py\u001b[0m in \u001b[0;36m_load\u001b[0;34m(self, jwt)\u001b[0m\n\u001b[1;32m    169\u001b[0m         \u001b[0;32mtry\u001b[0m\u001b[0;34m:\u001b[0m\u001b[0;34m\u001b[0m\u001b[0m\n\u001b[0;32m--> 170\u001b[0;31m             \u001b[0mheader_data\u001b[0m \u001b[0;34m=\u001b[0m \u001b[0mbase64url_decode\u001b[0m\u001b[0;34m(\u001b[0m\u001b[0mheader_segment\u001b[0m\u001b[0;34m)\u001b[0m\u001b[0;34m\u001b[0m\u001b[0m\n\u001b[0m\u001b[1;32m    171\u001b[0m         \u001b[0;32mexcept\u001b[0m \u001b[0;34m(\u001b[0m\u001b[0mTypeError\u001b[0m\u001b[0;34m,\u001b[0m \u001b[0mbinascii\u001b[0m\u001b[0;34m.\u001b[0m\u001b[0mError\u001b[0m\u001b[0;34m)\u001b[0m\u001b[0;34m:\u001b[0m\u001b[0;34m\u001b[0m\u001b[0m\n",
      "\u001b[0;32m~/.py3envs/jupyter/lib/python3.5/site-packages/jwt/utils.py\u001b[0m in \u001b[0;36mbase64url_decode\u001b[0;34m(input)\u001b[0m\n\u001b[1;32m     41\u001b[0m \u001b[0;34m\u001b[0m\u001b[0m\n\u001b[0;32m---> 42\u001b[0;31m     \u001b[0;32mreturn\u001b[0m \u001b[0mbase64\u001b[0m\u001b[0;34m.\u001b[0m\u001b[0murlsafe_b64decode\u001b[0m\u001b[0;34m(\u001b[0m\u001b[0minput\u001b[0m\u001b[0;34m)\u001b[0m\u001b[0;34m\u001b[0m\u001b[0m\n\u001b[0m\u001b[1;32m     43\u001b[0m \u001b[0;34m\u001b[0m\u001b[0m\n",
      "\u001b[0;32m/usr/lib/python3.5/base64.py\u001b[0m in \u001b[0;36murlsafe_b64decode\u001b[0;34m(s)\u001b[0m\n\u001b[1;32m    133\u001b[0m     \u001b[0ms\u001b[0m \u001b[0;34m=\u001b[0m \u001b[0ms\u001b[0m\u001b[0;34m.\u001b[0m\u001b[0mtranslate\u001b[0m\u001b[0;34m(\u001b[0m\u001b[0m_urlsafe_decode_translation\u001b[0m\u001b[0;34m)\u001b[0m\u001b[0;34m\u001b[0m\u001b[0m\n\u001b[0;32m--> 134\u001b[0;31m     \u001b[0;32mreturn\u001b[0m \u001b[0mb64decode\u001b[0m\u001b[0;34m(\u001b[0m\u001b[0ms\u001b[0m\u001b[0;34m)\u001b[0m\u001b[0;34m\u001b[0m\u001b[0m\n\u001b[0m\u001b[1;32m    135\u001b[0m \u001b[0;34m\u001b[0m\u001b[0m\n",
      "\u001b[0;32m/usr/lib/python3.5/base64.py\u001b[0m in \u001b[0;36mb64decode\u001b[0;34m(s, altchars, validate)\u001b[0m\n\u001b[1;32m     87\u001b[0m         \u001b[0;32mraise\u001b[0m \u001b[0mbinascii\u001b[0m\u001b[0;34m.\u001b[0m\u001b[0mError\u001b[0m\u001b[0;34m(\u001b[0m\u001b[0;34m'Non-base64 digit found'\u001b[0m\u001b[0;34m)\u001b[0m\u001b[0;34m\u001b[0m\u001b[0m\n\u001b[0;32m---> 88\u001b[0;31m     \u001b[0;32mreturn\u001b[0m \u001b[0mbinascii\u001b[0m\u001b[0;34m.\u001b[0m\u001b[0ma2b_base64\u001b[0m\u001b[0;34m(\u001b[0m\u001b[0ms\u001b[0m\u001b[0;34m)\u001b[0m\u001b[0;34m\u001b[0m\u001b[0m\n\u001b[0m\u001b[1;32m     89\u001b[0m \u001b[0;34m\u001b[0m\u001b[0m\n",
      "\u001b[0;31mError\u001b[0m: Incorrect padding",
      "\nDuring handling of the above exception, another exception occurred:\n",
      "\u001b[0;31mDecodeError\u001b[0m                               Traceback (most recent call last)",
      "\u001b[0;32m<ipython-input-211-cb500f613a6d>\u001b[0m in \u001b[0;36m<module>\u001b[0;34m()\u001b[0m\n\u001b[1;32m      1\u001b[0m \u001b[0;31m# Let's get the kid so we can get the proper public key\u001b[0m\u001b[0;34m\u001b[0m\u001b[0;34m\u001b[0m\u001b[0m\n\u001b[1;32m      2\u001b[0m \u001b[0mencoded_jwt\u001b[0m \u001b[0;34m=\u001b[0m \u001b[0mpost_data\u001b[0m\u001b[0;34m[\u001b[0m\u001b[0;34m'id_token'\u001b[0m\u001b[0;34m]\u001b[0m\u001b[0;34m\u001b[0m\u001b[0m\n\u001b[0;32m----> 3\u001b[0;31m \u001b[0mjwt_headers\u001b[0m \u001b[0;34m=\u001b[0m \u001b[0mjwt\u001b[0m\u001b[0;34m.\u001b[0m\u001b[0mget_unverified_header\u001b[0m\u001b[0;34m(\u001b[0m\u001b[0mencoded_jwt\u001b[0m\u001b[0;34m)\u001b[0m\u001b[0;34m\u001b[0m\u001b[0m\n\u001b[0m\u001b[1;32m      4\u001b[0m \u001b[0;34m\u001b[0m\u001b[0m\n\u001b[1;32m      5\u001b[0m content_item_message = jwt.decode(encoded_jwt, \n",
      "\u001b[0;32m~/.py3envs/jupyter/lib/python3.5/site-packages/jwt/api_jws.py\u001b[0m in \u001b[0;36mget_unverified_header\u001b[0;34m(self, jwt)\u001b[0m\n\u001b[1;32m    148\u001b[0m         \u001b[0mshould\u001b[0m \u001b[0;32mnot\u001b[0m \u001b[0mbe\u001b[0m \u001b[0mfully\u001b[0m \u001b[0mtrusted\u001b[0m \u001b[0muntil\u001b[0m \u001b[0msignature\u001b[0m \u001b[0mverification\u001b[0m \u001b[0;32mis\u001b[0m \u001b[0mcomplete\u001b[0m\u001b[0;34m\u001b[0m\u001b[0m\n\u001b[1;32m    149\u001b[0m         \"\"\"\n\u001b[0;32m--> 150\u001b[0;31m         \u001b[0mheaders\u001b[0m \u001b[0;34m=\u001b[0m \u001b[0mself\u001b[0m\u001b[0;34m.\u001b[0m\u001b[0m_load\u001b[0m\u001b[0;34m(\u001b[0m\u001b[0mjwt\u001b[0m\u001b[0;34m)\u001b[0m\u001b[0;34m[\u001b[0m\u001b[0;36m2\u001b[0m\u001b[0;34m]\u001b[0m\u001b[0;34m\u001b[0m\u001b[0m\n\u001b[0m\u001b[1;32m    151\u001b[0m         \u001b[0mself\u001b[0m\u001b[0;34m.\u001b[0m\u001b[0m_validate_headers\u001b[0m\u001b[0;34m(\u001b[0m\u001b[0mheaders\u001b[0m\u001b[0;34m)\u001b[0m\u001b[0;34m\u001b[0m\u001b[0m\n\u001b[1;32m    152\u001b[0m \u001b[0;34m\u001b[0m\u001b[0m\n",
      "\u001b[0;32m~/.py3envs/jupyter/lib/python3.5/site-packages/jwt/api_jws.py\u001b[0m in \u001b[0;36m_load\u001b[0;34m(self, jwt)\u001b[0m\n\u001b[1;32m    170\u001b[0m             \u001b[0mheader_data\u001b[0m \u001b[0;34m=\u001b[0m \u001b[0mbase64url_decode\u001b[0m\u001b[0;34m(\u001b[0m\u001b[0mheader_segment\u001b[0m\u001b[0;34m)\u001b[0m\u001b[0;34m\u001b[0m\u001b[0m\n\u001b[1;32m    171\u001b[0m         \u001b[0;32mexcept\u001b[0m \u001b[0;34m(\u001b[0m\u001b[0mTypeError\u001b[0m\u001b[0;34m,\u001b[0m \u001b[0mbinascii\u001b[0m\u001b[0;34m.\u001b[0m\u001b[0mError\u001b[0m\u001b[0;34m)\u001b[0m\u001b[0;34m:\u001b[0m\u001b[0;34m\u001b[0m\u001b[0m\n\u001b[0;32m--> 172\u001b[0;31m             \u001b[0;32mraise\u001b[0m \u001b[0mDecodeError\u001b[0m\u001b[0;34m(\u001b[0m\u001b[0;34m'Invalid header padding'\u001b[0m\u001b[0;34m)\u001b[0m\u001b[0;34m\u001b[0m\u001b[0m\n\u001b[0m\u001b[1;32m    173\u001b[0m \u001b[0;34m\u001b[0m\u001b[0m\n\u001b[1;32m    174\u001b[0m         \u001b[0;32mtry\u001b[0m\u001b[0;34m:\u001b[0m\u001b[0;34m\u001b[0m\u001b[0m\n",
      "\u001b[0;31mDecodeError\u001b[0m: Invalid header padding"
     ]
    }
   ],
   "source": [
    "# Let's get the kid so we can get the proper public key\n",
    "encoded_jwt = post_data['id_token']\n",
    "jwt_headers = jwt.get_unverified_header(encoded_jwt)\n",
    "\n",
    "content_item_message = jwt.decode(encoded_jwt, \n",
    "                                  platform_keys[jwt_headers['kid']], \n",
    "                                  jwt_headers['alg'],\n",
    "                                  audience = tool_info['client_id'])\n",
    "\n",
    "md('#### Message properly signed! Decoded ContentItemSelectionRequest message:')\n",
    "md('```json\\n'+ json.dumps(content_item_message, indent=4)+'```')\n"
   ]
  },
  {
   "cell_type": "markdown",
   "metadata": {},
   "source": [
    "### Task 2: extract the information needed to render the selector/authoring UI\n",
    "\n",
    "If this is the first launch for the user or the course, as a tool you may prompt the user for setup information, including account linking or course setup. Ultimately the user will see the authoring or picking interface that will allow her to create or select the content items to be added to the course.\n",
    "\n",
    "Some key attributes of the `ContentItemSelectionRequest` will drive the experience:"
   ]
  },
  {
   "cell_type": "code",
   "execution_count": 201,
   "metadata": {},
   "outputs": [
    {
     "data": {
      "text/markdown": [
       "\n",
       "1. What is the current course id? efc8b23c-092e-11e8-a22c-c48e8ffb7857\n",
       "1. What is the current user id? LTIBCU_3\n",
       "1. Is this user an instructor? True\n",
       "1. What kind of content item can be created? ['application/vnd.ims.lti.v1.ltilink']\n",
       "1. Can I return more than one items to be added? True\n",
       "1. Will the user be prompted before to actually save the items? False\n",
       "1. Where should I redirect the browser too when done? /tool/efc8b23c-092e-11e8-a22c-c48e8ffb7857/cisr\n",
       "1. Is there any data I must pass back to platform when I return? True"
      ],
      "text/plain": [
       "<IPython.core.display.Markdown object>"
      ]
     },
     "metadata": {},
     "output_type": "display_data"
    }
   ],
   "source": [
    "# fc(claim) prefix the claim with http://imsglobal.org/lti/\n",
    "mdb('1. What is the current course id? {0}'.format(content_item_message[fc('context')]['id']))\n",
    "mdb('1. What is the current user id? {0}'.format(content_item_message['sub']))\n",
    "is_instructor = len(list(filter(lambda x: 'instructor' in x.lower(), content_item_message[fc('roles')])))>0\n",
    "mdb('1. Is this user an instructor? {0}'.format(is_instructor))\n",
    "deep_linking_claim = content_item_message[fc('deep_linking_request')]\n",
    "mdb('1. What kind of content item can be created? {0}'.format(deep_linking_claim['accept_media_types']))\n",
    "mdb('1. Can I return more than one items to be added? {0}'.format(deep_linking_claim['accept_multiple']))\n",
    "mdb('1. Will the user be prompted before to actually save the items? {0}'.format(not deep_linking_claim['auto_create']))\n",
    "deep_linking_return_url = content_item_message[fc('launch_presentation')]['return_url']\n",
    "mdb('1. Where should I redirect the browser too when done? {0}'.format(deep_linking_return_url))\n",
    "mdb('1. Is there any data I must pass back to platform when I return? {0}'.format('data' in deep_linking_claim))\n",
    "mdb()"
   ]
  },
  {
   "cell_type": "markdown",
   "metadata": {},
   "source": [
    "### Task 3: building the response token\n",
    "\n",
    "After the end of the interaction, so user is sent back to the platform throught a browser redirection using an HTTP POST containing the JWT `ContentItemResponse` message. In this case, we will return 2 LTI links, one being graded (since the request supports multiple content items).\n",
    "\n",
    "Here we're creating the actual response token."
   ]
  },
  {
   "cell_type": "code",
   "execution_count": 199,
   "metadata": {},
   "outputs": [],
   "source": [
    "## First let's create our 2 content items\n",
    "## Note that the URLs are phony as for now there is now way to launch in the notebook anyway...\n",
    "simple_link =  {\n",
    "      \"mediaType\": \"application/vnd.ims.lti.v1.ltilink\",\n",
    "      \"url\": \"http://lti.bootcamp/item111\",\n",
    "      \"presentationDocumentTarget\": \"iframe\",\n",
    "      \"title\": \"A simple content item\",\n",
    "      \"text\": \"Some long text\",\n",
    "      \"icon\": {\n",
    "        \"url\": \"http://lti.example.com/image.jpg\",\n",
    "        \"width\": 100,\n",
    "        \"height\": 100\n",
    "      },\n",
    "      \"custom\": {\n",
    "        \"key1\": \"some value\"\n",
    "      }\n",
    "}\n",
    "\n",
    "assignment_link =  {\n",
    "      \"mediaType\": \"application/vnd.ims.lti.v1.ltilink\",\n",
    "      \"url\": \"http://lti.bootcamp/item111\",\n",
    "      \"presentationDocumentTarget\": \"iframe\",\n",
    "      \"title\": \"An assignment\",\n",
    "      \"text\": \"Chemical lab sim\",\n",
    "      \"icon\": {\n",
    "        \"url\": \"http://lti.example.com/image.jpg\",\n",
    "        \"width\": 100,\n",
    "        \"height\": 100\n",
    "      },\n",
    "      \"custom\": {\n",
    "        \"lab\": \"sim3a\",\n",
    "        \"level\": \"easy\"\n",
    "      },\n",
    "      \"lineItem\": {\n",
    "        \"scoreMaximum\": 34,\n",
    "        \"label\": \"Chemical lab sim\",\n",
    "        \"resourceId\": \"sim3a\",\n",
    "        \"tag\": \"final_grade\"\n",
    "      }\n",
    "}\n",
    "\n",
    "now = int(time())\n",
    "\n",
    "content_item_response = {\n",
    "    \"iss\": tool_info['client_id'],\n",
    "    \"aud\": content_item_message['iss'],\n",
    "    \"exp\": now + 60,\n",
    "    \"iat\": now,\n",
    "    \"http://imsglobal.org/lti/message_type\": \"DeepLinkingResponse\",\n",
    "    \"http://imsglobal.org/lti/version\": \"1.3.0\"\n",
    "    \n",
    "    \n",
    "}"
   ]
  },
  {
   "cell_type": "markdown",
   "metadata": {},
   "source": [
    "### Task 4: redirect the user back to the platform with the content item selection\n",
    "\n",
    "Now that we the response token, let's do the actual HTML POST redirection to the platform. Note that because the platform supports `autocreate` there will be no prompt. The 2 items will be added directly to the course.\n"
   ]
  },
  {
   "cell_type": "code",
   "execution_count": 206,
   "metadata": {},
   "outputs": [
    {
     "data": {
      "text/html": [
       "<iframe id=\"deeplinking_frame\" name=\"deeplinking_frame\" style=\"height: 300px; width:100%\"></iframe>"
      ],
      "text/plain": [
       "<IPython.core.display.HTML object>"
      ]
     },
     "metadata": {},
     "output_type": "display_data"
    },
    {
     "data": {
      "application/javascript": [
       "$.getScript(\"https://code.jquery.com/jquery-3.3.1.min.js\", function () {\n",
       "\n",
       "                var ltiForm = $('<form>');                \n",
       "                ltiForm.attr('action', 'http://localhost:5000/tool/efc8b23c-092e-11e8-a22c-c48e8ffb7857/cisr');\n",
       "                ltiForm.attr('method', 'POST');\n",
       "                ltiForm.attr('target', 'deeplinking_frame');\n",
       "                $('#deeplinking_frame').before(ltiForm);\n",
       "                ltiForm.submit();\n",
       "                ltiForm.remove();\n",
       "                });\n"
      ],
      "text/plain": [
       "<IPython.core.display.Javascript object>"
      ]
     },
     "metadata": {},
     "output_type": "display_data"
    }
   ],
   "source": [
    "# Let's start by adding the JWS security claims\n",
    "content_item_response = {\n",
    "    'iss': tool_info['client_id'] ,\n",
    "    'aud': content_item_message['iss']\n",
    "}\n",
    "\n",
    "autosubmit_js = \"\"\"\n",
    "                var ltiForm = $('<form>');                \n",
    "                ltiForm.attr('action', 'http://localhost:5000{0}');\n",
    "                ltiForm.attr('method', 'POST');\n",
    "                ltiForm.attr('target', 'deeplinking_frame');\n",
    "                $('#deeplinking_frame').before(ltiForm);\n",
    "                ltiForm.submit();\n",
    "                ltiForm.remove();\n",
    "                \"\"\"\n",
    "autosubmit_js = autosubmit_js.format(deep_linking_return_url)\n",
    "\n",
    "display(HTML('<iframe id=\"deeplinking_frame\" name=\"deeplinking_frame\" style=\"height: 300px; width:100%\"></iframe>'))\n",
    "display(Javascript(data=autosubmit_js, \n",
    "                   lib=\"https://code.jquery.com/jquery-3.3.1.min.js\"))"
   ]
  },
  {
   "cell_type": "code",
   "execution_count": null,
   "metadata": {},
   "outputs": [],
   "source": []
  }
 ],
 "metadata": {
  "kernelspec": {
   "display_name": "Python 3",
   "language": "python",
   "name": "python3"
  },
  "language_info": {
   "codemirror_mode": {
    "name": "ipython",
    "version": 3
   },
   "file_extension": ".py",
   "mimetype": "text/x-python",
   "name": "python",
   "nbconvert_exporter": "python",
   "pygments_lexer": "ipython3",
   "version": "3.5.2"
  }
 },
 "nbformat": 4,
 "nbformat_minor": 2
}
