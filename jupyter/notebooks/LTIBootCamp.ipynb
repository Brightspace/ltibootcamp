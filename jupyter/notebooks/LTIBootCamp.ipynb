{
 "cells": [
  {
   "cell_type": "markdown",
   "metadata": {},
   "source": [
    "<img src=\"assets/bootcamp.png\">\n",
    "\n",
    "# **LTI&trade; Advantage** bootcamp notebook for Tool\n",
    "\n",
    "Ping me if you have any question or feedback: claude.vervoort@gmail.com\n",
    "\n",
    "This bootcamp code is available on: https://github.com/claudevervoort-perso/ltibootcamp, if you want to run it on your local laptop/network.\n",
    "\n",
    "Availaibility of this notebook online is highly dependent on the depletion rate of my google free tier :)... but it is easy to get running locally.\n",
    "\n",
    "## Introduction\n",
    "\n",
    "The notebook shows how to interact with the LTI Advantage ecosystem from a tool implementer viewpoint. It interacts with an actual test server which has been built as a platform simulator to support this notebook. \n",
    "\n",
    "<img src=\"assets/bootcamp_arch.png\" width=\"60%\">\n",
    "\n",
    "## Limitation\n",
    "\n",
    "The test tool platform cannot launch into the bootcamp. As a workaround, the test tool has APIs to get the launch data that would have been included in an actual launch.\n"
   ]
  },
  {
   "cell_type": "code",
   "execution_count": null,
   "metadata": {},
   "outputs": [],
   "source": [
    "# This notebook queries an actual tool platform test server. It needs its location:\n",
    "platform_url='http://platform:5000'"
   ]
  },
  {
   "cell_type": "markdown",
   "metadata": {},
   "source": [
    "## Setup\n",
    "\n",
    "### Import the python libraries needed by the tool\n",
    "\n",
    "Here we just import the libraries that will be needed in this notebook, define some utility functions and constants."
   ]
  },
  {
   "cell_type": "code",
   "execution_count": null,
   "metadata": {},
   "outputs": [],
   "source": [
    "import requests\n",
    "import json\n",
    "import jwt\n",
    "import base64\n",
    "import re\n",
    "from time import time, sleep\n",
    "from datetime import datetime, timedelta\n",
    "from cryptography.hazmat.primitives.asymmetric.rsa import RSAPublicNumbers\n",
    "from cryptography.hazmat.primitives.asymmetric import rsa\n",
    "from cryptography.hazmat.backends import default_backend\n",
    "from cryptography.hazmat.primitives import serialization\n",
    "from cryptography.hazmat.primitives.serialization import Encoding, PublicFormat\n",
    "from IPython.display import display, Markdown, HTML, Javascript\n",
    "\n",
    "def decode_int(b64value):\n",
    "    return int.from_bytes(base64.urlsafe_b64decode(b64value), byteorder='big')\n",
    "\n",
    "# for concise code, return full claim \n",
    "def fc(claim, s=None):\n",
    "    suffix = ('-'+s) if s else ''\n",
    "    return 'https://purl.imsglobal.org/spec/lti{0}/claim/{1}'.format(suffix, claim)\n",
    "\n",
    "def scope(scope, s=None):\n",
    "    suffix = ('-'+s) if s else ''\n",
    "    return 'https://purl.imsglobal.org/spec/lti{0}/scope/{1}'.format(suffix, scope)\n",
    "    \n",
    "def md(mdt):\n",
    "    display(Markdown(mdt))\n",
    "    \n",
    "md_buffer = ''\n",
    "\n",
    "def mdb(mdt=None):\n",
    "    global md_buffer\n",
    "    if mdt:\n",
    "        md_buffer = md_buffer + '\\n' + mdt\n",
    "    else:\n",
    "        md(md_buffer)\n",
    "        md_buffer = ''\n"
   ]
  },
  {
   "cell_type": "markdown",
   "metadata": {},
   "source": [
    "## Deploying tool and establishing keys\n",
    "\n",
    "### get the tool deployment info to use in this notebook\n",
    "\n",
    "First we need to get a new tool deployment from the server for this notebook instance to use.\n",
    "Each tool must have a `client_id` and a private key that will be used to interact with the platform services and send messages back to the platform. The `client_id` is used to for security purposes. A trust may be shared across multiple deployments of the same tool in a platform, so a `deployment_id` is also communicated to identify the actual deployment of that tool.\n",
    "\n",
    "It also needs the keyset URL that exposes the platform public keys needed to validate the incoming messages.\n",
    "\n",
    "While this information is required for each tool, how it is obtained by the tool is NOT currently part of the LTI specifications.\n",
    "\n",
    "<img src=\"assets/security.png\" width=\"70%\">"
   ]
  },
  {
   "cell_type": "code",
   "execution_count": null,
   "metadata": {},
   "outputs": [],
   "source": [
    "notebook_private_key = rsa.generate_private_key(\n",
    "    public_exponent=65537,\n",
    "    key_size=2048,\n",
    "    backend=default_backend()\n",
    ")\n",
    "\n",
    "notebook_public_key = notebook_private_key.public_key()\n",
    "\n",
    "public_key_pem = notebook_public_key.public_bytes(\n",
    "    encoding=serialization.Encoding.PEM,\n",
    "    format=serialization.PublicFormat.SubjectPublicKeyInfo)\n",
    "\n",
    "\n",
    "mdb(\"Private key asserts the **identity** of the tool. It should be stored securely and \")\n",
    "mdb(\"ideally it should not be possible for a human to even see it, even less share it!\")\n",
    "mdb(\"However the public key can be shared around, here is the public in the common\")\n",
    "mdb(\"PEM format that identifies this notebook instance:\")\n",
    "mdb()\n",
    "md(public_key_pem.decode('utf-8'))"
   ]
  },
  {
   "cell_type": "code",
   "execution_count": null,
   "metadata": {
    "scrolled": false
   },
   "outputs": [],
   "source": [
    "r = requests.post(platform_url + '/newtool', data={'public_key_pem':public_key_pem})\n",
    "tool_info = json.loads(r.text)\n",
    "\n",
    "md('### Tool registration information')\n",
    "md('Here is the tool information generated for this notebook. It is stored in ```tool_info``` variable.')\n",
    "md('```json\\n'+ json.dumps(tool_info, indent=4)+'```')"
   ]
  },
  {
   "cell_type": "markdown",
   "metadata": {},
   "source": [
    "### Getting the public keys from the platform\n",
    "\n",
    "In order to validate the various messages we will receive from the platform, we need to get the key sets. We'll also transform the keys to the `PEM` format that is used by the `jwt` module to decode the messages.\n",
    "\n",
    "The test platform exposes its keys in a keyset format at a well-know location (.well-known/jwks.json). Other platform might just communicate the keyset url as part of the tool deployment information."
   ]
  },
  {
   "cell_type": "code",
   "execution_count": null,
   "metadata": {
    "scrolled": true
   },
   "outputs": [],
   "source": [
    "keyset = json.loads(requests.get(tool_info['keyset_url']).text)\n",
    "\n",
    "md('#### Platform keyset')\n",
    "md('```json\\n'+ json.dumps(keyset, indent=4)+'```')\n",
    "\n",
    "platform_keys = {}\n",
    "\n",
    "# let's transform as a map for ease of use, and just the PEM because this is what is used by JWT lib\n",
    "for key in keyset['keys']:\n",
    "    public_key = RSAPublicNumbers(decode_int(key['e']), decode_int(key['n'])).public_key(default_backend())\n",
    "    pem = public_key.public_bytes(Encoding.PEM, PublicFormat.SubjectPublicKeyInfo)\n",
    "    platform_keys[key['kid']] = pem\n",
    "    \n"
   ]
  },
  {
   "cell_type": "markdown",
   "metadata": {},
   "source": [
    "## Deep Linking - Creating a Link\n",
    "This section will use the deep linking specification to create a Resource Link to the platform. That resource link will be gradable and used in the following sections of that notebook.\n",
    "\n",
    "[Deep Linking](https://www.imsglobal.org/specs/lticiv1p0) is a **UI flow**, it is an important piece that is sometimes missed on 1st reading. The user is redirected from the platform to the tool to pick or create one or multiple piece of content (often, LTI links), and the the tool redirects the UI back to the tool with the actual selection (or an empty payload if nothing was picked or created).\n",
    "\n",
    "So there are 2 messages:\n",
    "\n",
    "1. `LtiDeepLinkingRequest` from the platform to the tool to start the picking/create session. This is a typical platform launch that contains the context and the user information, and what kind of content items may be created in this flow (for example, this flow might indicate it only wants LTI links).\n",
    "1. `LtiDeepLinkingResponse` from the tool back to the plaform using the `content_item_return_url` provided in the request.\n",
    "\n",
    "Once a tool is added to a course, usually the first launch from the platform will be a Deep Linking request.\n",
    "\n",
    "<img src=\"assets/deeplinking.png\" width=\"60%\">"
   ]
  },
  {
   "cell_type": "markdown",
   "metadata": {},
   "source": [
    "### Setup: Getting a Deep Linking Request\n",
    "\n",
    "This notebook is not a tool actually launched by the platform, so the test platform as way to give us the token that it would include in an actual HTTP POST request, so we can build a mock POST request including the parameter `post_data`."
   ]
  },
  {
   "cell_type": "code",
   "execution_count": null,
   "metadata": {},
   "outputs": [],
   "source": [
    "r = requests.get(\"{}/tool/{}/deeplinkingmessage\".format(platform_url, tool_info['client_id']))\n",
    "\n",
    "post_data = {\n",
    "    'id_token':r.text\n",
    "}\n",
    "\n",
    "md('`id_token='+ r.text+'`')"
   ]
  },
  {
   "cell_type": "markdown",
   "metadata": {},
   "source": [
    "### Task 1: Verify the JWT is properly signed\n",
    "\n",
    "The first thing before to display to the user the picker/authoring interface to create the link is to validate this request is properly signed. This is done by decoding the JWT using public key from the platform.\n"
   ]
  },
  {
   "cell_type": "code",
   "execution_count": null,
   "metadata": {},
   "outputs": [],
   "source": [
    "# Let's get the kid so we can get the proper public key\n",
    "\n",
    "# should check ISS first to lookup keyset\n",
    "\n",
    "encoded_jwt = post_data['id_token']\n",
    "jwt_headers = jwt.get_unverified_header(encoded_jwt)\n",
    "\n",
    "md(jwt_headers['kid'])\n",
    "content_item_message = jwt.decode(encoded_jwt, \n",
    "                                  platform_keys[jwt_headers['kid']], \n",
    "                                  jwt_headers['alg'],\n",
    "                                  audience = tool_info['client_id'])\n",
    "\n",
    "md('#### Message properly signed! Decoded ContentItemSelectionRequest message:')\n",
    "md('```json\\n'+ json.dumps(content_item_message, indent=4)+'```')\n"
   ]
  },
  {
   "cell_type": "markdown",
   "metadata": {},
   "source": [
    "### Task 2: extract the information needed to render the selector/authoring UI\n",
    "\n",
    "If this is the first launch for the user or the course, as a tool you may prompt the user for setup information, including account linking or course setup. Ultimately the user will see the authoring or picking interface that will allow her to create or select the content items to be added to the course.\n",
    "\n",
    "Some key attributes of the `ContentItemSelectionRequest` will drive the experience:"
   ]
  },
  {
   "cell_type": "code",
   "execution_count": null,
   "metadata": {},
   "outputs": [],
   "source": [
    "# fc(claim) prefix the claim with http://imsglobal.org/lti/\n",
    "mdb('1. What is the current course id? {0}'.format(content_item_message[fc('context')]['id']))\n",
    "mdb('1. What is the current user id? {0}'.format(content_item_message['sub']))\n",
    "is_instructor = len(list(filter(lambda x: 'instructor' in x.lower(), content_item_message[fc('roles')])))>0\n",
    "mdb('1. Is this user an instructor? {0}'.format(is_instructor))\n",
    "deep_linking_claim = content_item_message[fc('deep_linking_settings', 'dl')]\n",
    "mdb('1. What kind of content item can be created? {0}'.format(deep_linking_claim['accept_types']))\n",
    "mdb('1. Can I return more than one items to be added? {0}'.format(deep_linking_claim['accept_multiple']))\n",
    "mdb('1. Will the user be prompted before to actually save the items? {0}'.format(not deep_linking_claim['auto_create']))\n",
    "deep_linking_return_url = content_item_message[fc('launch_presentation')]['return_url']\n",
    "mdb('1. Where should I redirect the browser too when done? {0}'.format(deep_linking_return_url))\n",
    "mdb('1. Is there any data I must pass back to platform when I return? {0}'.format('data' in deep_linking_claim))\n",
    "mdb()"
   ]
  },
  {
   "cell_type": "markdown",
   "metadata": {},
   "source": [
    "### Task 3: building the response token\n",
    "\n",
    "After the end of the interaction, so user is sent back to the platform throught a browser redirection using an HTTP POST containing the JWT `ContentItemResponse` message. In this case, we will return 2 LTI links, one being graded (since the request supports multiple content items).\n",
    "\n",
    "Here we're creating the actual response token."
   ]
  },
  {
   "cell_type": "code",
   "execution_count": null,
   "metadata": {},
   "outputs": [],
   "source": [
    "## First let's create our 2 content items\n",
    "## Note that the URLs are phony as for now there is now way to launch in the notebook anyway...\n",
    "simple_link =  {\n",
    "      \"type\": \"ltilink\",\n",
    "      \"url\": \"http://lti.bootcamp/item111\",\n",
    "      \"window\": {\n",
    "        \"targetName\": \"bootcamp-win\"\n",
    "      },\n",
    "      \"iframe\": {\n",
    "        \"height\": 890\n",
    "      },\n",
    "      \"title\": \"A simple content item\",\n",
    "      \"text\": \"Some long text\",\n",
    "      \"icon\": {\n",
    "        \"url\": \"http://lti.example.com/image.jpg\",\n",
    "        \"width\": 100,\n",
    "        \"height\": 100\n",
    "      },\n",
    "      \"custom\": {\n",
    "        \"lab\": \"sim4e\"\n",
    "      }\n",
    "}\n",
    "\n",
    "assignment_link =  {\n",
    "      \"type\": \"ltilink\",\n",
    "      \"title\": \"An assignment\",\n",
    "      \"text\": \"Chemical lab sim\",\n",
    "      \"window\": {\n",
    "        \"targetName\": \"examplePublisherContent\"\n",
    "      },\n",
    "      \"iframe\": {\n",
    "        \"height\": 890\n",
    "      },\n",
    "      \"icon\": {\n",
    "        \"url\": \"http://lti.example.com/image.jpg\",\n",
    "        \"width\": 100,\n",
    "        \"height\": 100\n",
    "      },\n",
    "      \"custom\": {\n",
    "        \"lab\": \"sim3a\",\n",
    "        \"level\": \"easy\"\n",
    "      },\n",
    "      \"lineItem\": {\n",
    "        \"scoreMaximum\": 34,\n",
    "        \"label\": \"Chemical lab sim\",\n",
    "        \"resourceId\": \"sim3a\",\n",
    "        \"tag\": \"final_grade\"\n",
    "      }\n",
    "}\n",
    "\n",
    "now = int(time())\n",
    "\n",
    "deep_linking_response = {\n",
    "    \"iss\": tool_info['client_id'],\n",
    "    \"aud\": content_item_message['iss'],\n",
    "    \"exp\": now + 60,\n",
    "    \"iat\": now,\n",
    "    fc('message_type'): \"DeepLinkingResponse\",\n",
    "    fc('version'): \"1.3.0\",\n",
    "    fc('content_items', 'dl'): [\n",
    "        simple_link, assignment_link\n",
    "    ]\n",
    "    \n",
    "}"
   ]
  },
  {
   "cell_type": "markdown",
   "metadata": {},
   "source": [
    "### Task 4: build the signed JWT"
   ]
  },
  {
   "cell_type": "code",
   "execution_count": null,
   "metadata": {},
   "outputs": [],
   "source": [
    "deep_linking_response_token = jwt.encode(deep_linking_response, notebook_private_key, 'RS256').decode()\n",
    "\n",
    "print(deep_linking_response_token)"
   ]
  },
  {
   "cell_type": "markdown",
   "metadata": {},
   "source": [
    "### Task 5: redirect the user back to the platform with the content item selection\n",
    "\n",
    "Now that we the response token, let's do the actual HTML POST redirection to the platform. Note that because the platform supports `autocreate` there will be no prompt. The 2 items will be added directly to the course.\n"
   ]
  },
  {
   "cell_type": "code",
   "execution_count": null,
   "metadata": {},
   "outputs": [],
   "source": [
    "# Let's start by adding the JWS security claims\n",
    "content_item_response = {\n",
    "    'iss': tool_info['client_id'] ,\n",
    "    'aud': content_item_message['iss']\n",
    "}\n",
    "\n",
    "autosubmit_js = \"\"\"\n",
    "                var ltiForm = $('<form>');                \n",
    "                ltiForm.attr('action', '{url}');\n",
    "                ltiForm.attr('method', 'POST');\n",
    "                ltiForm.attr('target', 'deeplinking_frame');\n",
    "                $('<input>').attr({{\n",
    "                    type: 'hidden',\n",
    "                    name: 'jws_token',\n",
    "                    value: '{token}'\n",
    "                }}).appendTo(ltiForm);\n",
    "                $('#deeplinking_frame').before(ltiForm);\n",
    "                ltiForm.submit();\n",
    "                ltiForm.remove();\n",
    "                \"\"\"\n",
    "\n",
    "autosubmit_js = autosubmit_js.format(url=deep_linking_return_url, token=deep_linking_response_token)\n",
    "\n",
    "display(HTML('<iframe id=\"deeplinking_frame\" name=\"deeplinking_frame\" style=\"height: 300px; width:100%\"></iframe>'))\n",
    "display(Javascript(data=autosubmit_js, \n",
    "                   lib=\"https://code.jquery.com/jquery-3.3.1.min.js\"))"
   ]
  },
  {
   "cell_type": "markdown",
   "metadata": {},
   "source": [
    "## Student Resource Link launch\n",
    "\n",
    "Now that we have created resource links, let's handle a student launch from one of them. We're going to use a resource link with a **coupled** line item, so that we can use it to send a score back to the platform.\n",
    "\n",
    "### Setup\n",
    "\n",
    "The first thing we need, as with deep linking, is to get from the test platform the launch token which an actual tool would get in an actual HTML Form Post."
   ]
  },
  {
   "cell_type": "code",
   "execution_count": null,
   "metadata": {},
   "outputs": [],
   "source": [
    "# in automated run, force a sleep for the response above to have been processed\n",
    "sleep(3)\n",
    "\n",
    "# select an id from the ones displayed in the course platform in the IFrame above\n",
    "# if not specified the platform will pick a resource to use\n",
    "\n",
    "resource_link_id = ''\n",
    "context_id = content_item_message[fc('context')]['id']\n",
    "\n",
    "r = requests.get(\"{}/tool/{}/context/{}/studentlaunch?rlid={}\".format(platform_url, \n",
    "                                                           tool_info['client_id'], \n",
    "                                                           context_id, \n",
    "                                                           resource_link_id))\n",
    "\n",
    "post_data = {\n",
    "    'id_token':r.text\n",
    "}\n",
    "\n",
    "md('`id_token='+ r.text+'`')"
   ]
  },
  {
   "cell_type": "markdown",
   "metadata": {},
   "source": [
    "### Task 1: Decode the launch\n",
    "\n",
    "Now, same as with the Deep Linking request, we decode the token:"
   ]
  },
  {
   "cell_type": "code",
   "execution_count": null,
   "metadata": {
    "scrolled": true
   },
   "outputs": [],
   "source": [
    "encoded_jwt = post_data['id_token']\n",
    "jwt_headers = jwt.get_unverified_header(encoded_jwt)\n",
    "\n",
    "student_launch = jwt.decode(encoded_jwt, \n",
    "                            platform_keys[jwt_headers['kid']], \n",
    "                            jwt_headers['alg'],\n",
    "                            audience = tool_info['client_id'])\n",
    "\n",
    "md('```json\\n'+ json.dumps(student_launch, indent=4)+'```')"
   ]
  },
  {
   "cell_type": "markdown",
   "metadata": {},
   "source": [
    "### Task 2: extract information to show the correct activity\n",
    "\n",
    "The launch gives information about the user, her role, the course, but also which actual resource we want to launch into."
   ]
  },
  {
   "cell_type": "code",
   "execution_count": null,
   "metadata": {},
   "outputs": [],
   "source": [
    "# fc(claim) prefix the claim with http://imsglobal.org/lti/\n",
    "mdb('1. Is this a resource link launch? {0}'.format(student_launch[fc('message_type')] == 'LTIResourceLinkLaunch'))\n",
    "mdb('1. What is the id of the resource link that is launched? {0}'.format(student_launch[fc('resource_link')]['id']))\n",
    "mdb('1. What is the name of the resource that is launched? {0}'.format(student_launch[fc('resource_link')]['title']))\n",
    "mdb('1. What is the current course id? {0}'.format(student_launch[fc('context')]['id']))\n",
    "mdb('1. What is the current user id? {0}'.format(student_launch['sub']))\n",
    "is_learner = len(list(filter(lambda x: 'learner' in x.lower(), student_launch[fc('roles')])))>0\n",
    "mdb('1. Is this user a student? {0}'.format(is_learner))\n",
    "return_url = student_launch[fc('launch_presentation')]['return_url']\n",
    "mdb('1. Where should I redirect the browser too when done? {0}'.format(return_url))\n",
    "mdb('1. Which lab should be displayed? {0}'.format(student_launch[fc('custom')]['lab']))\n",
    "ags_claim = student_launch[fc('endpoint', 'ags')]\n",
    "mdb('1. Is there a gradebook column for this resource? {0}'.format('lineitem' in ags_claim))\n",
    "mdb()\n"
   ]
  },
  {
   "cell_type": "markdown",
   "metadata": {},
   "source": [
    "## Assignment and Grade Services: Posting a grade to a coupled line item\n",
    "\n",
    "Now that the student has launched into a grading activity, eventually she will complete it. Let's assume this is an autograded quiz. At the end of the interaction, we're going to send a score.\n",
    "\n",
    "<img src=\"assets/ags.png\" width=\"60%\">\n",
    "\n",
    "The line item (gradebook column) was created declaratively by the platform when the resource link was created (at the end of the deep linking flow). The line item and the resource link are **coupled**. Due to this explicit relationship, the platform passes us directly the associated line item URL, which we will use to send scores. "
   ]
  },
  {
   "cell_type": "markdown",
   "metadata": {},
   "source": [
    "### Task 1: Get an access token\n",
    "\n",
    "To be able to send a grade, or call any service on that matter, we must first get an access token. This is done by using a JWT based client grant flow [RFC-7523](https://tools.ietf.org/html/rfc7523).\n",
    "\n",
    "Here we will re-use the token for the rest of the notebook, so we don't specify scope. If you intend to use the token only for a given operation, it is a good practice to scope it accordingly.\n",
    "\n",
    "The grant type is [client_credentials](https://tools.ietf.org/html/rfc6749#section-1.3.4) as the trust is established between the tool and the platform. The current user and context are not considered.\n"
   ]
  },
  {
   "cell_type": "code",
   "execution_count": null,
   "metadata": {},
   "outputs": [],
   "source": [
    "## Let's define auth functions we can re-use for other calls\n",
    "\n",
    "def get_token(scope):\n",
    "    display(scope)\n",
    "    token_endpoint = tool_info['accesstoken_endpoint']\n",
    "\n",
    "    now = int(time())\n",
    "\n",
    "    assertion = {\n",
    "        \"iss\": tool_info['client_id'],\n",
    "        \"aud\": token_endpoint,\n",
    "        \"exp\": now + 60,\n",
    "        \"iat\": now,\n",
    "        \"jti\": \"{0}-{1}\".format(tool_info['client_id'], now)\n",
    "    }\n",
    "\n",
    "    assertion_jwt = jwt.encode(assertion, tool_info['webkeyPem'], 'RS256').decode()\n",
    "\n",
    "    return json.loads(requests.post(token_endpoint, data = {\n",
    "        'client_assertion': assertion_jwt,\n",
    "        'grant_type': 'client_credentials',\n",
    "        'scope': scope,\n",
    "        'client_assertion_type': 'urn:ietf:params:oauth:client-assertion-type:jwt-bearer'\n",
    "    }).text)\n",
    "\n",
    "# We'll also need to create a proper header, so let's also create a function for that\n",
    "def add_authorization(headers, access_token):\n",
    "    b64token = base64.b64encode(access_token.encode('utf-8')).decode()\n",
    "    headers.update({'Authorization': 'Bearer {0}'.format(b64token)})\n",
    "\n",
    "    \n"
   ]
  },
  {
   "cell_type": "code",
   "execution_count": null,
   "metadata": {},
   "outputs": [],
   "source": [
    "token_info = get_token('{0} {1}'.format(scope('result.readonly', s='ags'), scope('score', s='ags')))\n",
    "md('#### Access token:')\n",
    "md('```json\\n'+ json.dumps(token_info, indent=4)+'```')"
   ]
  },
  {
   "cell_type": "markdown",
   "metadata": {},
   "source": [
    "### Task 2: Publish a score"
   ]
  },
  {
   "cell_type": "code",
   "execution_count": null,
   "metadata": {
    "scrolled": true
   },
   "outputs": [],
   "source": [
    "# Scores in the subpath scores from lineitem.\n",
    "def append_to_path(path, subpath):\n",
    "    p = re.compile('lineitem($|\\?|#)')\n",
    "    return p.sub('lineitem/{0}\\\\1'.format(subpath), path)\n",
    "\n",
    "scores_url = append_to_path(ags_claim['lineitem'], 'scores')\n",
    "\n",
    "score = {\n",
    "    'userId': student_launch['sub'],\n",
    "    'scoreGiven': 9,\n",
    "    'scoreMaximum': 10,\n",
    "    'activityProgress': 'Completed',\n",
    "    'gradingProgress': 'FullyGraded',\n",
    "    'timestamp': datetime.utcnow().isoformat()\n",
    "}\n",
    "\n",
    "headers = {'Content-Type': 'application/vnd.ims.lis.v1.score+json'}\n",
    "add_authorization(headers, token_info['access_token'])\n",
    "\n",
    "r = requests.post(scores_url.encode(), headers=headers, data=json.dumps(score))\n",
    "\n",
    "# let's check it was OK\n",
    "r.raise_for_status()\n",
    "\n",
    "md('The score was processed successfully be the back-end')\n",
    "\n",
    "\n"
   ]
  },
  {
   "cell_type": "markdown",
   "metadata": {},
   "source": [
    "### Task 3: get the results\n",
    "\n",
    "Let's not get the results to see our operation did actually succeed"
   ]
  },
  {
   "cell_type": "code",
   "execution_count": null,
   "metadata": {},
   "outputs": [],
   "source": [
    "results_url = append_to_path(ags_claim['lineitem'], 'results')\n",
    "\n",
    "headers = {'Content-Type': 'application/vnd.ims.lis.v2.resultcontainer+json'}\n",
    "add_authorization(headers, token_info['access_token'])\n",
    "\n",
    "r = requests.get(results_url.encode(), headers=headers)\n",
    "\n",
    "# let's check it was OK\n",
    "r.raise_for_status()\n",
    "\n",
    "md('#### Current results for item')\n",
    "md('```json\\n'+ json.dumps(r.json(), indent=4)+'```')\n",
    "\n"
   ]
  },
  {
   "cell_type": "markdown",
   "metadata": {},
   "source": [
    "### Task 4: marking a score as needing grading\n",
    "Assignment and Grade services allow for more than just passing grade. Let's say we just want to mark a submission was done, and the instructor requires to manually grade the essay. In which case, we can post a Score indicating the status of the activity is completed, and the grading needs manual intervention using the `activityProgress` and `gradingProgress` attributes."
   ]
  },
  {
   "cell_type": "code",
   "execution_count": null,
   "metadata": {},
   "outputs": [],
   "source": [
    "score = {\n",
    "    'userId': student_launch['sub'],\n",
    "    'activityProgress': 'Completed',\n",
    "    'gradingProgress': 'PendingManual',\n",
    "    'timestamp': datetime.utcnow().isoformat()\n",
    "}\n",
    "\n",
    "headers = {'Content-Type': 'application/vnd.ims.lis.v1.score+json'}\n",
    "add_authorization(headers, token_info['access_token'])\n",
    "\n",
    "r = requests.post(scores_url.encode(), headers=headers, data=json.dumps(score))\n",
    "\n",
    "# let's check it was OK\n",
    "r.raise_for_status()\n",
    "\n",
    "md('The score was processed successfully be the back-end')\n"
   ]
  },
  {
   "cell_type": "markdown",
   "metadata": {},
   "source": [
    "We can see it now in the platform gradebook:"
   ]
  },
  {
   "cell_type": "code",
   "execution_count": null,
   "metadata": {},
   "outputs": [],
   "source": [
    "platform_gradebook_url = '{0}/course/{1}/gradebook'.format(platform_url, student_launch[fc('context')]['id'])\n",
    "display(HTML('<iframe src=\"{0}\" style=\"height: 300px; width:100%\"></iframe>'.format(platform_gradebook_url)))"
   ]
  },
  {
   "cell_type": "markdown",
   "metadata": {},
   "source": [
    "## Assignment and Grade Services - Uncoupled\n",
    "\n",
    "The assignment and grade services support an alternate way to create line items: rather than having the platform creates a line item when it creates a link, a tool may use the API to create standalone line items, i.e. uncoupled from any lti link (the API may optionaly include an ltiLinkId to tie the one or many line items to a single resource link, although platforms will often treat this association as weaker than a declarative flow).\n",
    "\n",
    "Let's use the API to add a new line item, send some scores to it, then delete it.\n"
   ]
  },
  {
   "cell_type": "markdown",
   "metadata": {},
   "source": [
    "### Task 1: get a properly scoped token\n",
    "\n",
    "Same as before, we just need to now ask also for the scope to allow line item management."
   ]
  },
  {
   "cell_type": "code",
   "execution_count": null,
   "metadata": {},
   "outputs": [],
   "source": [
    "token_info = get_token(' '.join([scope('lineitem', s='ags'), scope('score', s='ags'), scope('result.readonly', 'ags')]))\n",
    "\n",
    "md('#### Access token with all assignment and grade services scopes:')\n",
    "md('```json\\n'+ json.dumps(token_info, indent=4)+'```')"
   ]
  },
  {
   "cell_type": "markdown",
   "metadata": {},
   "source": [
    "### Task 2: create a new line item and post score\n",
    "\n",
    "The `lineitems` is the URL representating all the line items in the current context bound to our tool. We can do a GET to see all the existing items, and a POST to add a new one. Let's start by adding one:"
   ]
  },
  {
   "cell_type": "code",
   "execution_count": null,
   "metadata": {},
   "outputs": [],
   "source": [
    "# note the specific mediatype\n",
    "headers = {'Content-Type': 'application/vnd.ims.lis.v2.lineitem+json'}\n",
    "add_authorization(headers, token_info['access_token'])\n",
    "\n",
    "lineitem = {\n",
    "    \"resourceId\": \"bootcamp\",\n",
    "    \"tag\": \"participation\",\n",
    "    \"label\": \"Participation in Bootcamp\",\n",
    "    \"scoreMaximum\": 25\n",
    "}\n",
    "\n",
    "r = requests.post(ags_claim['lineitems'], headers=headers, data=json.dumps(lineitem))\n",
    "\n",
    "r.raise_for_status()\n",
    "\n",
    "uncoupled_item = r.json();\n",
    "\n",
    "md('#### Successfully added line item:')\n",
    "md('```json\\n'+ json.dumps(uncoupled_item, indent=4)+'```')\n",
    "\n"
   ]
  },
  {
   "cell_type": "code",
   "execution_count": null,
   "metadata": {},
   "outputs": [],
   "source": [
    "r = requests.get(ags_claim['lineitems'], headers=headers)\n",
    "\n",
    "# let's check it was OK\n",
    "r.raise_for_status()\n",
    "\n",
    "md('#### Current line items for this tool in the context')\n",
    "md('```json\\n'+ json.dumps(r.json(), indent=4)+'```')"
   ]
  },
  {
   "cell_type": "markdown",
   "metadata": {},
   "source": [
    "Sending the score to the uncoupled line item is the same as with the coupled one, the id being the line item URL."
   ]
  },
  {
   "cell_type": "code",
   "execution_count": null,
   "metadata": {},
   "outputs": [],
   "source": [
    "scores_url = append_to_path(uncoupled_item['id'], 'scores')\n",
    "\n",
    "score = {\n",
    "    'userId': student_launch['sub'],\n",
    "    'scoreGiven': 10,\n",
    "    'scoreMaximum': 10,\n",
    "    'activityProgress': 'Completed',\n",
    "    'gradingProgress': 'FullyGraded',\n",
    "    'timestamp': datetime.utcnow().isoformat()\n",
    "}\n",
    "\n",
    "headers = {'Content-Type': 'application/vnd.ims.lis.v1.score+json'}\n",
    "add_authorization(headers, token_info['access_token'])\n",
    "\n",
    "r = requests.post(scores_url.encode(), headers=headers, data=json.dumps(score))\n",
    "\n",
    "# let's check it was OK\n",
    "r.raise_for_status()\n",
    "\n",
    "md('The score was processed successfully be the back-end')\n"
   ]
  },
  {
   "cell_type": "markdown",
   "metadata": {},
   "source": [
    "### Task 3: Updating the line item\n",
    "\n",
    "Update is done by PUTting the updated definition to the line item  URL (id)."
   ]
  },
  {
   "cell_type": "code",
   "execution_count": null,
   "metadata": {},
   "outputs": [],
   "source": [
    "# note the specific mediatype\n",
    "headers = {'Content-Type': 'application/vnd.ims.lis.v2.lineitem+json'}\n",
    "add_authorization(headers, token_info['access_token'])\n",
    "\n",
    "lineitem = {\n",
    "    \"resourceId\": \"bootcamp\",\n",
    "    \"tag\": \"participation\",\n",
    "    \"label\": \"Participation (uncoupled)\",\n",
    "    \"scoreMaximum\": 30\n",
    "}\n",
    "\n",
    "r = requests.put(uncoupled_item['id'], headers=headers, data=json.dumps(lineitem))\n",
    "                           \n",
    "r.raise_for_status()\n",
    "\n",
    "uncoupled_item = r.json();\n",
    "\n",
    "md('#### Successfully updated line item:')\n",
    "md('```json\\n'+ json.dumps(uncoupled_item, indent=4)+'```')\n"
   ]
  },
  {
   "cell_type": "markdown",
   "metadata": {},
   "source": [
    "You can also scroll back up where the platform UI is displayed and check in the gradebook to see the item is present (and scores have been rescaled)."
   ]
  },
  {
   "cell_type": "markdown",
   "metadata": {},
   "source": [
    "### Task 4: Delete the uncoupled line item\n",
    "\n",
    "Deleting is just issuing a DELETE command the line item URL."
   ]
  },
  {
   "cell_type": "code",
   "execution_count": null,
   "metadata": {},
   "outputs": [],
   "source": [
    "# no content type, it's a delete\n",
    "headers = {}\n",
    "add_authorization(headers, token_info['access_token'])\n",
    "\n",
    "r = requests.delete(uncoupled_item['id'], headers=headers)\n",
    "                           \n",
    "r.raise_for_status()\n",
    "\n",
    "md('#### Successfully deleted line item')\n"
   ]
  },
  {
   "cell_type": "markdown",
   "metadata": {},
   "source": [
    "## Names and Role Provisioning Service\n",
    "\n",
    "Or more simply, membership service, lets you get the roster of the course.\n",
    "\n",
    "<img src=\"assets/membership.png\" width=\"60%\">\n",
    "\n",
    "This service does not allow any modification of the course roster. At a minimum, the platform will apply the same privacy restrictions that applies to actual launches.\n",
    "\n",
    "### Task 1: Get the full course roster\n",
    "\n",
    "The Assignment and Grade Service endpoint is communicated in the LTI message under the claim `https://purl.imsglobal.org/lti/claim/arps`. The scope to request is `https://purl.imsglobal.org/lti/scope/nrps`.\n",
    "\n"
   ]
  },
  {
   "cell_type": "code",
   "execution_count": null,
   "metadata": {},
   "outputs": [],
   "source": [
    "## Get An Access Token\n",
    "\n",
    "membership_token = get_token(scope('contextmembership.readonly', s='nrps'))\n",
    "\n",
    "## Request the enrollment\n",
    "\n",
    "headers = {'Content-Type': 'application/vnd.ims.lis.v2.membershipcontainer+json'}\n",
    "add_authorization(headers, membership_token['access_token'])\n",
    "membership_url = student_launch[fc('namesroleservice', s='nrps')]['context_memberships_url']\n",
    "\n",
    "r = requests.get(membership_url.encode(), headers=headers)\n",
    "\n",
    "r.raise_for_status()\n",
    "\n",
    "roster = r.json();\n",
    "\n",
    "md('#### Successfully retrieved course roster:')\n",
    "md('```json\\n'+ json.dumps(roster, indent=4)+'```')\n"
   ]
  },
  {
   "cell_type": "markdown",
   "metadata": {},
   "source": [
    "## Task 2: Get all changes since previous sync\n",
    "\n",
    "Some platforms will include in their membership payload a `differences` url. This url, when present, allows the tool to update the roster based on the changes since last time the membership was returned, avoiding to transfer the full roster each time.\n",
    "\n",
    "Use the differences url above to check for updates in roster.\n",
    "\n"
   ]
  },
  {
   "cell_type": "code",
   "execution_count": null,
   "metadata": {},
   "outputs": [],
   "source": [
    "r = requests.get(roster['differences'].encode(), headers=headers)\n",
    "\n",
    "r.raise_for_status()\n",
    "\n",
    "roster_updates = r.json();\n",
    "\n",
    "md('#### Successfully retrieved roster update:')\n",
    "md('```json\\n'+ json.dumps(roster_updates, indent=4)+'```')\n"
   ]
  },
  {
   "cell_type": "markdown",
   "metadata": {},
   "source": [
    "## Task 3: get all students and paging\n",
    "\n",
    "The service allows also to filter by roles using the `role` parameter. Both short and long version of roles can be used to filter (for example `Learner` and `http://purl.imsglobal.org/vocab/lis/v2/membership#Learner`). So let's limit the results to 3 students using the `limit` parameter."
   ]
  },
  {
   "cell_type": "code",
   "execution_count": null,
   "metadata": {
    "scrolled": false
   },
   "outputs": [],
   "source": [
    "params = {'role':'Learner', 'limit': 3}\n",
    "\n",
    "r = requests.get(membership_url.encode(), params=params, headers=headers)\n",
    "\n",
    "r.raise_for_status()\n",
    "\n",
    "roster = r.json();\n",
    "\n",
    "md('#### Students only:')\n",
    "md('```json\\n'+ json.dumps(roster, indent=4)+'```')"
   ]
  },
  {
   "cell_type": "markdown",
   "metadata": {},
   "source": [
    "# Substitution parameters - tailor your launch\n",
    "\n",
    "Substitution parameters allow to have custom parameters resolve at runtime information from the platform. For example, if you would like to know the context history, i.e. from which course this course is a copy from, there is the substitution parameter: `$Context.id.history`. Substitution parameters always start will $ . If the platform supports it, the value will be substituted at runtime, otherwise it will remain `$Context.id.history`.\n",
    "\n",
    "Substitution parameters really allow the tool to tailor its launches based on its particular needs. Substitution parameters may be set during the tool deployment. But it really shines with Deep Linking where the custom parameters can express the substitution parameters to resolve for the added LTI Link.\n",
    "\n",
    "## Task 1: create an LTI Link with a line item and due date support\n",
    "\n",
    "In this exercise, we're going to ask the platform to give us the due date of the activity (when a student is last authorized to submit) `$ResourceLink.submission.endDateTime` and the context history `$Context.id.history`. Since we're at it, we're also going to communicate an initial due date time using the `submission.endDateTime` property in the deep linking item.\n"
   ]
  },
  {
   "cell_type": "code",
   "execution_count": null,
   "metadata": {
    "scrolled": true
   },
   "outputs": [],
   "source": [
    "# Getting a deep linking request from the platform\n",
    "\n",
    "r = requests.get(\"{}/tool/{}/deeplinkingmessage\".format(platform_url, tool_info['client_id']))\n",
    "\n",
    "post_data = {\n",
    "    'id_token':r.text\n",
    "}\n",
    "encoded_jwt = post_data['id_token']\n",
    "jwt_headers = jwt.get_unverified_header(encoded_jwt)\n",
    "\n",
    "content_item_message = jwt.decode(encoded_jwt, \n",
    "                                  platform_keys[jwt_headers['kid']], \n",
    "                                  jwt_headers['alg'],\n",
    "                                  audience = tool_info['client_id'])\n",
    "\n",
    "# Adding an LTI link with a line item and end date\n",
    "\n",
    "due_date = datetime.utcnow() + timedelta(days=7)\n",
    "\n",
    "duedate_assignment_link =  {\n",
    "      \"type\": \"ltilink\",\n",
    "      \"url\": \"http://lti.bootcamp/item111\",\n",
    "      \"title\": \"Assignment with Dates\",\n",
    "      \"text\": \"Do the assignment before the due date\",\n",
    "      \"icon\": {\n",
    "        \"url\": \"http://lti.example.com/image.jpg\",\n",
    "        \"width\": 100,\n",
    "        \"height\": 100\n",
    "      },\n",
    "      \"custom\": {\n",
    "        \"lab\": \"sim3b\",\n",
    "        \"dueDate\": \"$ResourceLink.submission.endDateTime\",\n",
    "        \"contextHistory\": \"$Context.id.history\"\n",
    "      },\n",
    "      \"lineItem\": {\n",
    "        \"scoreMaximum\": 34,\n",
    "        \"label\": \"Chemical lab sim\",\n",
    "        \"resourceId\": \"sim3a\",\n",
    "        \"tag\": \"final_grade\"\n",
    "      },\n",
    "      \"submission\": {\n",
    "          \"endDateTime\": due_date.isoformat()\n",
    "      },\n",
    "      \"window\": {\n",
    "        \"targetName\": \"ltibootcamp-win\"\n",
    "      },\n",
    "      \"iframe\": {\n",
    "        \"height\": 890\n",
    "      }\n",
    "}\n",
    "\n",
    "now = int(time())\n",
    "\n",
    "\n",
    "deep_linking_response = {\n",
    "    \"iss\": tool_info['client_id'],\n",
    "    \"aud\": content_item_message['iss'],\n",
    "    \"exp\": now + 60,\n",
    "    \"iat\": now,\n",
    "    fc(\"message_type\"): \"DeepLinkingResponse\",\n",
    "    fc(\"version\"): \"1.3.0\",\n",
    "    fc(\"content_items\", s='dl'): [\n",
    "        duedate_assignment_link\n",
    "    ]\n",
    "    \n",
    "}\n",
    "\n",
    "# and return to the platform with the selection\n",
    "\n",
    "deep_linking_response_token = jwt.encode(deep_linking_response, tool_info['webkeyPem'], 'RS256').decode()\n",
    "\n",
    "content_item_response = {\n",
    "    'iss': tool_info['client_id'] ,\n",
    "    'aud': content_item_message['iss']\n",
    "}\n",
    "\n",
    "autosubmit_js = \"\"\"\n",
    "                var ltiForm = $('<form>');                \n",
    "                ltiForm.attr('action', '{url}');\n",
    "                ltiForm.attr('method', 'POST');\n",
    "                ltiForm.attr('target', 'deeplinking_frame_2');\n",
    "                $('<input>').attr({{\n",
    "                    type: 'hidden',\n",
    "                    name: 'jws_token',\n",
    "                    value: '{token}'\n",
    "                }}).appendTo(ltiForm);\n",
    "                $('#deeplinking_frame_2').before(ltiForm);\n",
    "                ltiForm.submit();\n",
    "                ltiForm.remove();\n",
    "                \"\"\"\n",
    "\n",
    "autosubmit_js = autosubmit_js.format(url=deep_linking_return_url, token=deep_linking_response_token)\n",
    "\n",
    "display(HTML('<iframe id=\"deeplinking_frame_2\" name=\"deeplinking_frame_2\" style=\"height: 300px; width:100%\"></iframe>'))\n",
    "display(Javascript(data=autosubmit_js, \n",
    "                   lib=\"https://code.jquery.com/jquery-3.3.1.min.js\"))"
   ]
  },
  {
   "cell_type": "markdown",
   "metadata": {},
   "source": [
    "## Task 2: launch the activity and verify substitution parameters\n",
    "\n",
    "Now that we have created a link, let's get a student launch and see if on launch we can get the current due date time. Those could indeed have been changed on the platform, or that student may benefit from an actual extension."
   ]
  },
  {
   "cell_type": "code",
   "execution_count": null,
   "metadata": {},
   "outputs": [],
   "source": [
    "sleep(3)"
   ]
  },
  {
   "cell_type": "code",
   "execution_count": null,
   "metadata": {},
   "outputs": [],
   "source": [
    "# select an id from the ones displayed in the course platform in the IFrame above\n",
    "# if not specified the platform will pick a resource to use\n",
    "\n",
    "resource_link_id = 'fec7ac2d-562f-11e8-a10d-c48e8ffb7857'\n",
    "context_id = content_item_message[fc('context')]['id']\n",
    "\n",
    "r = requests.get(\"{}/tool/{}/context/{}/studentlaunch?rlid={}&accomodation={}\".format(platform_url, \n",
    "                                                           tool_info['client_id'], \n",
    "                                                           context_id, \n",
    "                                                           resource_link_id, 3))\n",
    "\n",
    "post_data = {\n",
    "    'id_token':r.text\n",
    "}\n",
    "\n",
    "encoded_jwt = post_data['id_token']\n",
    "jwt_headers = jwt.get_unverified_header(encoded_jwt)\n",
    "\n",
    "launch = jwt.decode(encoded_jwt, \n",
    "                            platform_keys[jwt_headers['kid']], \n",
    "                            jwt_headers['alg'],\n",
    "                            audience = tool_info['client_id'])\n",
    "\n",
    "md('Student `{0}` assignment is due on `{1}`'.format(launch['name'], launch[fc('custom')]['dueDate']))\n",
    "md('The history of this course context is `{0}`'.format(launch[fc('custom')]['contextHistory']))\n"
   ]
  },
  {
   "cell_type": "code",
   "execution_count": null,
   "metadata": {},
   "outputs": [],
   "source": []
  }
 ],
 "metadata": {
  "kernelspec": {
   "display_name": "Python 3",
   "language": "python",
   "name": "python3"
  },
  "language_info": {
   "codemirror_mode": {
    "name": "ipython",
    "version": 3
   },
   "file_extension": ".py",
   "mimetype": "text/x-python",
   "name": "python",
   "nbconvert_exporter": "python",
   "pygments_lexer": "ipython3",
   "version": "3.6.6"
  }
 },
 "nbformat": 4,
 "nbformat_minor": 2
}
