{
 "cells": [
  {
   "cell_type": "markdown",
   "metadata": {},
   "source": [
    "# **LTI&trade; Advantage** bootcamp notebook for Tool\n",
    "\n",
    "## Introduction\n",
    "\n",
    "The notebook shows how to interact with the LTI Advantage ecosystem from a tool implementer viewpoint. It interacts with an actual test server which has been built as a platform simulator to support this notebook.\n"
   ]
  },
  {
   "cell_type": "markdown",
   "metadata": {},
   "source": [
    "## Setup\n",
    "\n",
    "Here we just import the libraries that will be needed in this notebook, define some utility functions and constants."
   ]
  },
  {
   "cell_type": "code",
   "execution_count": 178,
   "metadata": {},
   "outputs": [],
   "source": [
    "import requests\n",
    "import json\n",
    "import jwt\n",
    "import base64\n",
    "from cryptography.hazmat.primitives.asymmetric.rsa import RSAPublicNumbers\n",
    "from cryptography.hazmat.backends import default_backend\n",
    "from cryptography.hazmat.primitives.serialization import Encoding, PublicFormat\n",
    "from IPython.display import display, Markdown, HTML, Javascript\n",
    "\n",
    "def decode_int(b64value):\n",
    "    return int.from_bytes(base64.urlsafe_b64decode(b64value), byteorder='big')\n",
    "\n",
    "# for concise code, return full claim prefixed by ims\n",
    "def fc(claim):\n",
    "    return \"http://imsglobal.org/lti/{0}\".format(claim)\n",
    "\n",
    "def md(mdt):\n",
    "    display(Markdown(mdt))\n",
    "    \n",
    "md_buffer = ''\n",
    "\n",
    "def mdb(mdt=None):\n",
    "    global md_buffer\n",
    "    if mdt:\n",
    "        md_buffer = md_buffer + '\\n' + mdt\n",
    "    else:\n",
    "        md(md_buffer)\n",
    "        md_buffer = ''\n",
    "\n",
    "# This notebook queries an actual test server. It needs its location:\n",
    "platform_url='http://localhost:5000'\n"
   ]
  },
  {
   "cell_type": "markdown",
   "metadata": {},
   "source": [
    "First we need to get a new tool deployment from the server for this notebook instance to use.\n",
    "Each tool must have a client_id and a private key that will be used to interact with the platform services and send messages back to the platform.\n",
    "It also needs the keyset URL that exposes the platform public keys needed to validate the incoming messages.\n",
    "\n",
    "While this information is required for each tool, how it is obtained by the tool is NOT currently part of the LTI specifications."
   ]
  },
  {
   "cell_type": "code",
   "execution_count": 163,
   "metadata": {},
   "outputs": [
    {
     "data": {
      "text/markdown": [
       "### Tool information"
      ],
      "text/plain": [
       "<IPython.core.display.Markdown object>"
      ]
     },
     "metadata": {},
     "output_type": "display_data"
    },
    {
     "data": {
      "text/markdown": [
       "Here is the tool information generated for this notebook. It is stored in ```tool_info``` variable."
      ],
      "text/plain": [
       "<IPython.core.display.Markdown object>"
      ]
     },
     "metadata": {},
     "output_type": "display_data"
    },
    {
     "data": {
      "text/markdown": [
       "```json\n",
       "{\n",
       "    \"client_id\": \"0\",\n",
       "    \"deployment_id\": \"deployment_0\",\n",
       "    \"key\": {\n",
       "        \"e\": \"AQAB\",\n",
       "        \"kty\": \"RSA\",\n",
       "        \"use\": \"sig\",\n",
       "        \"alg\": \"RS256\",\n",
       "        \"d\": \"A3p4hVUZbViDnx0STEtz1jnZ_gtjkl9yMX3288QSvdjUvSsv8gIpSJQh3z8caZ5-HrQ7k8OFsMZcQkWPLa9O8XmZ5tTViJ3iU4-w2hrX5jdYbgLjMJI4cmXlyw1KNUt1xQs5bjoG_d7XRPdxGC-BhqbJNalHQ94Tek8CiLnSBv3CNEd4l9scHc88yfR7qfyJzMhPviugetGhPoN7VTW3VTffCUDk52u31sqEid1LzQI393MmV7mHZ9eu_baGvPZ86fr65uBQBxfMrW66SE0v5XZ6cXRUbK_74XLJg4ioQU77gmwOm1wBUE5EfI_xNWChPdRp_eCZ2YTX4A1a2D_DAQ==\"\n",
       "    }\n",
       "}```"
      ],
      "text/plain": [
       "<IPython.core.display.Markdown object>"
      ]
     },
     "metadata": {},
     "output_type": "display_data"
    }
   ],
   "source": [
    "r = requests.get(platform_url + '/newtool')\n",
    "tool_info = json.loads(r.text)\n",
    "\n",
    "md('### Tool information')\n",
    "md('Here is the tool information generated for this notebook. It is stored in ```tool_info``` variable.')\n",
    "md('```json\\n'+ json.dumps(tool_info, indent=4)+'```')"
   ]
  },
  {
   "cell_type": "markdown",
   "metadata": {},
   "source": [
    "### Getting the public keys from the platform\n",
    "\n",
    "In order to validate the various messages we will receive from the platform, we need to get the key sets. We'll also transform the keys to the `PEM` format that is used by the `jwt` module to decode the messages.\n",
    "\n",
    "The test platform exposes its keys in a keyset format at a well-know location (.well-known/jwks.json). Other platform might just communicate the keyset url as part of the tool deployment information."
   ]
  },
  {
   "cell_type": "code",
   "execution_count": 164,
   "metadata": {},
   "outputs": [
    {
     "data": {
      "text/markdown": [
       "#### Platform keyset"
      ],
      "text/plain": [
       "<IPython.core.display.Markdown object>"
      ]
     },
     "metadata": {},
     "output_type": "display_data"
    },
    {
     "data": {
      "text/markdown": [
       "```json\n",
       "{\n",
       "    \"keys\": [\n",
       "        {\n",
       "            \"e\": \"AQAB\",\n",
       "            \"use\": \"sig\",\n",
       "            \"alg\": \"HS256\",\n",
       "            \"kty\": \"rsa\",\n",
       "            \"n\": \"vU8vT0BbopWi3MHJJYgExZ9PtJH1DQTeq_N2GEah05KFuRJ6XQaBQoaZ6znrwM0r-AaOp3Yo727oPgduAQMEWB3T72HRA8fJK3eIb0Q7wQG5h0ON3ZiCElARPCV0_DqNgvxUjfZXrQXRIyRMUprY1_Y36lkGo337HUQxn7s1ClehNMp6tqPqaO_G8xlmRhTRVqQgd84UObpEwoCOcGeJ942sdP1xBggNfBef4sE9ebYahhtSJyNbEw1pAF6_wEcHnn9mmd7_tCuSQeAD3IQkxyiHZQrqxbVNTc4wRKo4woXz6mOQT8Wiq8eXqMpSHtrzqRII2XjiqEPbyJHGx9LF3Q==\",\n",
       "            \"kid\": \"1517695759_0\"\n",
       "        },\n",
       "        {\n",
       "            \"e\": \"AQAB\",\n",
       "            \"use\": \"sig\",\n",
       "            \"alg\": \"HS256\",\n",
       "            \"kty\": \"rsa\",\n",
       "            \"n\": \"7FqiFCafD2OeuRokS6LMv9UheuYnkzB_N_JImUQp2juT0yc10Z_g1Dfo_opPLI7SK6nA9VzmL6ZKxasY6e2vOppJ0Fu8-gaXOL2Jvvr7cQLB1PxpLJfRF6tmASX0A-vdG_5fgvw0O1BRdUl2O2O2DpnSFDS9CGVt3COzbZp5v6EEuy9_PgmA64-cmt7Sq3F4mUbc5IO2mpnJm4ns_2JGAYZe0qGGFqFljI8wSIkBnlfaq1uiObSorimzGSwdgYNU9UxWLC_tZPON3rTyI3OQpArJ8hbzdHDP2gSwJ8pj7TUsmjV2xAvlXC77R8N8bVsBNuWQS7hvDnGu5hTCKRF1cw==\",\n",
       "            \"kid\": \"1517695759_1\"\n",
       "        },\n",
       "        {\n",
       "            \"e\": \"AQAB\",\n",
       "            \"use\": \"sig\",\n",
       "            \"alg\": \"HS256\",\n",
       "            \"kty\": \"rsa\",\n",
       "            \"n\": \"0vT_Br6OuzGPouAv6w7jAr2-Pe9O_UwFxWhnt3h54BfmvBEY6CGttSJaY_3H1Ymu5RKCd95utWI_2YFeI5kRnJPGTLOvgQ0_3-0VbXGQ_DWCYWOufMdW55viFZFWkcLwjxA8vqssF86MbOS8GOk-gUa2hixbiIoCZLLNyqmKu6og-uf7yeuMqm7AlMnNEf-nuT2q91LJeB6HHUtOJh8me63qCstB0kN_cSGeLSdYJ6U6flsKRZN0b75zTeAhNP4N8GUgczt481UOR26ANkrbCtaO3XqKAsUT3W2S7ticfgqojUH3OOifvldme8H1L5xrznQIwFRq7_DnEwjWMxqMjw==\",\n",
       "            \"kid\": \"1517695759_2\"\n",
       "        },\n",
       "        {\n",
       "            \"e\": \"AQAB\",\n",
       "            \"use\": \"sig\",\n",
       "            \"alg\": \"HS256\",\n",
       "            \"kty\": \"rsa\",\n",
       "            \"n\": \"pFHfq1YRoDK9jcqeVjLW-6wIhnOGxM1XQmTvPToZ4qoAaSe2HOnTVoMVoO1snCZUaJZJitFCkrQsplKxMeh1L2Y9whQ31MXN2LM3ORoY_MQHb8jhK_IXykVyRnYF2L_yyKc1Wan11vVhzPhem3QzxOTVQiN8YLX2pqwaG3fIoqvznh9SILI3lNUYiBpVtNHIvg0MPSqZe7J4We8J5YIXL12_KoBRdbLetJHd8jI7XhC1GTzTEGicg7Y6AOJw8UqtipGam10Y9z_pdLnMOIIq5yzMey3_ksJ9qqWH6dB2kn8jJFmxF9htCgsGXfSTmkUIgdUSpSIdRzMYAG4myTD1Vw==\",\n",
       "            \"kid\": \"1517695759_3\"\n",
       "        }\n",
       "    ]\n",
       "}```"
      ],
      "text/plain": [
       "<IPython.core.display.Markdown object>"
      ]
     },
     "metadata": {},
     "output_type": "display_data"
    }
   ],
   "source": [
    "keyset = json.loads(requests.get(platform_url + '/.well-known/jwks.json').text)\n",
    "\n",
    "md('#### Platform keyset')\n",
    "md('```json\\n'+ json.dumps(keyset, indent=4)+'```')\n",
    "\n",
    "platform_keys = {}\n",
    "\n",
    "# let's transform as a map for ease of use, and just the PEM because this is what is used by JWT lib\n",
    "for key in keyset['keys']:\n",
    "    public_key = RSAPublicNumbers(decode_int(key['e']), decode_int(key['n'])).public_key(default_backend())\n",
    "    pem = public_key.public_bytes(Encoding.PEM, PublicFormat.SubjectPublicKeyInfo)\n",
    "    platform_keys[key['kid']] = pem\n",
    "    \n"
   ]
  },
  {
   "cell_type": "markdown",
   "metadata": {},
   "source": [
    "## Deep Linking - Creating a Link\n",
    "This section will use the deep linking specification to create a Resource Link to the platform. That resource link will be gradable and used in the following sections of that notebook.\n",
    "\n",
    "[Deep Linking](https://www.imsglobal.org/specs/lticiv1p0) is a **UI flow**, it is an important piece that is sometimes missed on 1st reading. The user is redirected from the platform to the tool to pick or create one or multiple piece of content (often, LTI links), and the the tool redirects the UI back to the tool with the actual selection (or an empty payload if nothing was picked or created).\n",
    "\n",
    "So there are 2 messages:\n",
    "\n",
    "1. `ContentItemRequestSelection` from the platform to the tool to start the picking/create session. This is a typical platform launch that contains the context and the user information, and what kind of content items may be created in this flow (for example, this flow might indicate it only wants LTI links).\n",
    "1. `ContentItemSelection` from the tool back to the plaform using the `content_item_return_url` provided in the request.\n",
    "\n",
    "Once a tool is added to a course, usually the first launch from the platform will be a Deep Linking request.\n",
    "\n",
    "<img src=\"assets/lti_advantage_deeplinking.png\" width=\"60%\">"
   ]
  },
  {
   "cell_type": "markdown",
   "metadata": {},
   "source": [
    "### Setup: Getting a Deep Linking Request\n",
    "\n",
    "This notebook is not a tool actually launched by the platform, so the test platform as way to give us the token that it would include in an actual HTTP POST request, so we can build a mock POST request including the parameter `post_data`."
   ]
  },
  {
   "cell_type": "code",
   "execution_count": 168,
   "metadata": {},
   "outputs": [
    {
     "data": {
      "text/markdown": [
       "`id_token=eyJraWQiOiIxNTE3Njk1NzU5XzAiLCJ0eXAiOiJKV1QiLCJhbGciOiJSUzI1NiJ9.eyJodHRwOi8vaW1zZ2xvYmFsLm9yZy9sdGkvbWVzc2FnZV90eXBlIjoiQ29udGVudEl0ZW1TZWxlY3Rpb25SZXF1ZXN0IiwiZXhwIjoxNTE3Njk1OTE2LCJmYW1pbHlfbmFtZSI6IkNvbmNoXHUwMGZhciIsIm5vbmNlIjoiMWI3NjQ1YzAtMDkyZi0xMWU4LWEyMmMtYzQ4ZThmZmI3ODU3IiwibmFtZSI6IkNocmlzdGFsIENvbmNoXHUwMGZhciIsImlhdCI6MTUxNzY5NTg1NiwiaHR0cDovL2ltc2dsb2JhbC5vcmcvbHRpL2RlcGxveW1lbnRfaWQiOiJkZXBsb3ltZW50XzAiLCJhdWQiOiIwIiwiaHR0cDovL2ltc2dsb2JhbC5vcmcvbHRpL2xhdW5jaF9wcmVzZW50YXRpb24iOnsiZG9jdW1lbnRfdGFyZ2V0IjoiaWZyYW1lIiwicmV0dXJuX3VybCI6Ii90b29sL2VmYzhiMjNjLTA5MmUtMTFlOC1hMjJjLWM0OGU4ZmZiNzg1Ny9jaXNyIn0sImVtYWlsIjoiQ2hyaXN0YWwuQ29uY2hcdTAwZmFyQGV4YW1wbGUuY29tIiwiaHR0cDovL2ltc2dsb2JhbC5vcmcvbHRpL2NvbnRleHQiOnsidGl0bGUiOiJMVEkgQm9vdGNhbXAgQ291cnNlIiwiaWQiOiJlZmM4YjIzYy0wOTJlLTExZTgtYTIyYy1jNDhlOGZmYjc4NTciLCJsYWJlbCI6IkxUSSBCb290Y2FtcCBDb3Vyc2UiLCJ0eXBlIjpbIkNvdXJzZVNlY3Rpb24iXX0sImdpdmVuX25hbWUiOiJDaHJpc3RhbCIsInN1YiI6IkxUSUJDVV8zIiwiaHR0cDovL2ltc2dsb2JhbC5vcmcvbHRpL3JvbGVzIjpbImh0dHA6Ly9wdXJsLmltc2dsb2JhbC5vcmcvdm9jYWIvbGlzL3YyL21lbWJlcnNoaXAjSW5zdHJ1Y3RvciJdLCJodHRwOi8vaW1zZ2xvYmFsLm9yZy9sdGkvdmVyc2lvbiI6IjEuMy4wIiwiaXNzIjoiaHR0cDovL2xvY2FsaG9zdDo1MDAwIiwiaHR0cDovL2ltc2dsb2JhbC5vcmcvbHRpL2RlZXBfbGlua2luZ19yZXF1ZXN0Ijp7ImF1dG9fY3JlYXRlIjp0cnVlLCJhY2NlcHRfbXVsdGlwbGUiOnRydWUsImRhdGEiOiJvcD0zMjEmdj00NCIsImFjY2VwdF9tZWRpYV90eXBlcyI6WyJhcHBsaWNhdGlvbi92bmQuaW1zLmx0aS52MS5sdGlsaW5rIl0sImFjY2VwdF9wcmVzZW50YXRpb25fZG9jdW1lbnRfdGFyZ2V0cyI6WyJpZnJhbWUiLCJ3aW5kb3ciXX0sImh0dHA6Ly9pbXNnbG9iYWwub3JnL2x0aS90b29sX3BsYXRmb3JtIjp7Im5hbWUiOiJMVEkgQm9vdGNhbXAgUGxhdGZvcm0iLCJndWlkIjoibHRpYmNfYXRfMTUxNzY5NTc2MCJ9fQ.Xcj_RDaInTRToEWuBUufslT2LTbBAF5gHhM4g6i856Oltpu2IB9UvvBrlylQO5KH8e9kn-T4Kyrr8BMlIPdyd5tKTWiMC89bMMi64E5JZNHQ7diaCUdvPiySm9ybglAEofaexyzZxjERBExKlSJwdOyMmBRxlVTrjBeelj7JuCuealN_0XVoqcM9Tbnnbg4lLwZmeE_2CABUZSm6n8WPl459UWAAL73AuS-OvtzrlJR-srbkMOx9gvkuJl0HI6eULfBkep-W-FJJjMjM7X06kusXZbw8ldD5yJvUrIOZkrbnxxCe1phl7ZTxEfCU9aYw8f1JuBKZLdc3n5qmVSgg3A`"
      ],
      "text/plain": [
       "<IPython.core.display.Markdown object>"
      ]
     },
     "metadata": {},
     "output_type": "display_data"
    }
   ],
   "source": [
    "r = requests.get(\"{}/tool/{}/cisr\".format(platform_url, tool_info['client_id']))\n",
    "\n",
    "post_data = {\n",
    "    'id_token':r.text\n",
    "}\n",
    "\n",
    "md('`id_token='+ r.text+'`')"
   ]
  },
  {
   "cell_type": "markdown",
   "metadata": {},
   "source": [
    "### Task 1: Verify the JWT is properly signed\n",
    "\n",
    "The first thing before to display to the user the picker/authoring interface to create the link is to validate this request is properly signed. This is done by decoding the JWT using public key from the platform.\n"
   ]
  },
  {
   "cell_type": "code",
   "execution_count": 169,
   "metadata": {},
   "outputs": [
    {
     "data": {
      "text/markdown": [
       "#### Message properly signed! Decoded ContentItemSelectionRequest message:"
      ],
      "text/plain": [
       "<IPython.core.display.Markdown object>"
      ]
     },
     "metadata": {},
     "output_type": "display_data"
    },
    {
     "data": {
      "text/markdown": [
       "```json\n",
       "{\n",
       "    \"given_name\": \"Christal\",\n",
       "    \"http://imsglobal.org/lti/version\": \"1.3.0\",\n",
       "    \"sub\": \"LTIBCU_3\",\n",
       "    \"http://imsglobal.org/lti/context\": {\n",
       "        \"title\": \"LTI Bootcamp Course\",\n",
       "        \"type\": [\n",
       "            \"CourseSection\"\n",
       "        ],\n",
       "        \"id\": \"efc8b23c-092e-11e8-a22c-c48e8ffb7857\",\n",
       "        \"label\": \"LTI Bootcamp Course\"\n",
       "    },\n",
       "    \"http://imsglobal.org/lti/roles\": [\n",
       "        \"http://purl.imsglobal.org/vocab/lis/v2/membership#Instructor\"\n",
       "    ],\n",
       "    \"email\": \"Christal.Conch\\u00far@example.com\",\n",
       "    \"family_name\": \"Conch\\u00far\",\n",
       "    \"iat\": 1517695856,\n",
       "    \"http://imsglobal.org/lti/deep_linking_request\": {\n",
       "        \"accept_media_types\": [\n",
       "            \"application/vnd.ims.lti.v1.ltilink\"\n",
       "        ],\n",
       "        \"accept_multiple\": true,\n",
       "        \"auto_create\": true,\n",
       "        \"data\": \"op=321&v=44\",\n",
       "        \"accept_presentation_document_targets\": [\n",
       "            \"iframe\",\n",
       "            \"window\"\n",
       "        ]\n",
       "    },\n",
       "    \"exp\": 1517695916,\n",
       "    \"nonce\": \"1b7645c0-092f-11e8-a22c-c48e8ffb7857\",\n",
       "    \"http://imsglobal.org/lti/deployment_id\": \"deployment_0\",\n",
       "    \"aud\": \"0\",\n",
       "    \"http://imsglobal.org/lti/message_type\": \"ContentItemSelectionRequest\",\n",
       "    \"http://imsglobal.org/lti/tool_platform\": {\n",
       "        \"guid\": \"ltibc_at_1517695760\",\n",
       "        \"name\": \"LTI Bootcamp Platform\"\n",
       "    },\n",
       "    \"iss\": \"http://localhost:5000\",\n",
       "    \"name\": \"Christal Conch\\u00far\",\n",
       "    \"http://imsglobal.org/lti/launch_presentation\": {\n",
       "        \"document_target\": \"iframe\",\n",
       "        \"return_url\": \"/tool/efc8b23c-092e-11e8-a22c-c48e8ffb7857/cisr\"\n",
       "    }\n",
       "}```"
      ],
      "text/plain": [
       "<IPython.core.display.Markdown object>"
      ]
     },
     "metadata": {},
     "output_type": "display_data"
    }
   ],
   "source": [
    "# Let's get the kid so we can get the proper public key\n",
    "encoded_jwt = post_data['id_token']\n",
    "jwt_headers = jwt.get_unverified_header(encoded_jwt)\n",
    "\n",
    "content_item_message = jwt.decode(encoded_jwt, \n",
    "                                  platform_keys[jwt_headers['kid']], \n",
    "                                  jwt_headers['alg'],\n",
    "                                  audience = tool_info['client_id'])\n",
    "\n",
    "md('#### Message properly signed! Decoded ContentItemSelectionRequest message:')\n",
    "md('```json\\n'+ json.dumps(content_item_message, indent=4)+'```')\n"
   ]
  },
  {
   "cell_type": "markdown",
   "metadata": {},
   "source": [
    "### Task 2: extract the information needed to render the selector/authoring UI\n",
    "\n",
    "If this is the first launch for the user or the course, as a tool you may prompt the user for setup information, including account linking or course setup. Ultimately the user will see the authoring or picking interface that will allow her to create or select the content items to be added to the course.\n",
    "\n",
    "Some key attributes of the `ContentItemSelectionRequest` will drive the experience:"
   ]
  },
  {
   "cell_type": "code",
   "execution_count": 174,
   "metadata": {},
   "outputs": [
    {
     "data": {
      "text/markdown": [
       "\n",
       "1. What is the current course id? efc8b23c-092e-11e8-a22c-c48e8ffb7857\n",
       "1. What is the current user id? LTIBCU_3\n",
       "1. Is this user an instructor? True\n",
       "1. What kind of content item can be created? ['application/vnd.ims.lti.v1.ltilink']\n",
       "1. Can I return more than one items to be added? True\n",
       "1. Will the user be prompted before to actually save the items? False\n",
       "1. Where should I redirect the browser too when done? /tool/efc8b23c-092e-11e8-a22c-c48e8ffb7857/cisr\n",
       "1. Is there any data I must pass back to platform when I return? True"
      ],
      "text/plain": [
       "<IPython.core.display.Markdown object>"
      ]
     },
     "metadata": {},
     "output_type": "display_data"
    }
   ],
   "source": [
    "# fc(claim) prefix the claim with http://imsglobal.org/lti/\n",
    "mdb('1. What is the current course id? {0}'.format(content_item_message[fc('context')]['id']))\n",
    "mdb('1. What is the current user id? {0}'.format(content_item_message['sub']))\n",
    "is_instructor = len(list(filter(lambda x: 'instructor' in x.lower(), content_item_message[fc('roles')])))>0\n",
    "mdb('1. Is this user an instructor? {0}'.format(is_instructor))\n",
    "deep_linking_claim = content_item_message[fc('deep_linking_request')]\n",
    "mdb('1. What kind of content item can be created? {0}'.format(deep_linking_claim['accept_media_types']))\n",
    "mdb('1. Can I return more than one items to be added? {0}'.format(deep_linking_claim['accept_multiple']))\n",
    "mdb('1. Will the user be prompted before to actually save the items? {0}'.format(not deep_linking_claim['auto_create']))\n",
    "mdb('1. Where should I redirect the browser too when done? {0}'.format(content_item_message[fc('launch_presentation')]['return_url']))\n",
    "mdb('1. Is there any data I must pass back to platform when I return? {0}'.format('data' in deep_linking_claim))\n",
    "mdb()"
   ]
  },
  {
   "cell_type": "markdown",
   "metadata": {},
   "source": [
    "### Task 3: building the response token\n",
    "\n",
    "After the end of the interaction, so user is sent back to the platform throught a browser redirection using an HTTP POST containing the JWT `ContentItemResponse` message. In this case, we will return 2 LTI links, one being graded (since the request supports multiple content items).\n",
    "\n",
    "Here we're creating the actual response token."
   ]
  },
  {
   "cell_type": "code",
   "execution_count": 195,
   "metadata": {},
   "outputs": [],
   "source": [
    "## First let's create our 2 content items\n",
    "## Note that the URLs are phony as for now there is now way to launch in the notebook anyway...\n",
    "simple_link =  {\n",
    "      \"mediaType\": \"application/vnd.ims.lti.v1.ltilink\",\n",
    "      \"url\": \"http://lti.bootcamp/item111\",\n",
    "      \"presentationDocumentTarget\": \"iframe\",\n",
    "      \"title\": \"A simple content item\",\n",
    "      \"text\": \"Some long text\",\n",
    "      \"icon\": {\n",
    "        \"url\": \"http://lti.example.com/image.jpg\",\n",
    "        \"width\": 100,\n",
    "        \"height\": 100\n",
    "      },\n",
    "      \"custom\": {\n",
    "        \"key1\": \"some value\"\n",
    "      }\n",
    "}\n",
    "\n",
    "assignment_link =  {\n",
    "      \"mediaType\": \"application/vnd.ims.lti.v1.ltilink\",\n",
    "      \"url\": \"http://lti.bootcamp/item111\",\n",
    "      \"presentationDocumentTarget\": \"iframe\",\n",
    "      \"title\": \"An assignment\",\n",
    "      \"text\": \"Chemical lab sim\",\n",
    "      \"icon\": {\n",
    "        \"url\": \"http://lti.example.com/image.jpg\",\n",
    "        \"width\": 100,\n",
    "        \"height\": 100\n",
    "      },\n",
    "      \"custom\": {\n",
    "        \"lab\": \"sim3a\",\n",
    "        \"level\": \"easy\"\n",
    "      },\n",
    "      \"lineItem\": {\n",
    "        \"scoreMaximum\": 87,\n",
    "        \"label\": \"Chapter 12 quiz\",\n",
    "        \"resourceId\": \"xyzpdq1234\",\n",
    "        \"tag\": \"originality\"\n",
    "      }\n",
    "}"
   ]
  },
  {
   "cell_type": "markdown",
   "metadata": {},
   "source": [
    "### Task 4: redirect the user back to the platform with the content item selection\n",
    "\n",
    "Now that we the response token, let's do the actual HTML POST redirection to the platform. Note that because the platform supports `autocreate` there will be no prompt. The 2 items will be added directly to the course.\n"
   ]
  },
  {
   "cell_type": "code",
   "execution_count": 193,
   "metadata": {},
   "outputs": [
    {
     "data": {
      "text/html": [
       "<iframe id=\"deeplinking_frame\" name=\"deeplinking_frame\" style=\"height: 300px; width:100%\"></iframe>"
      ],
      "text/plain": [
       "<IPython.core.display.HTML object>"
      ]
     },
     "metadata": {},
     "output_type": "display_data"
    },
    {
     "data": {
      "application/javascript": [
       "$.getScript(\"https://code.jquery.com/jquery-3.3.1.min.js\", function () {\n",
       "\n",
       "                var ltiForm = $('<form>');                \n",
       "                ltiForm.attr('action', 'http://localhost:5000');\n",
       "                ltiForm.attr('method', 'get');\n",
       "                ltiForm.attr('target', 'deeplinking_frame');\n",
       "                $('#deeplinking_frame').before(ltiForm);\n",
       "                ltiForm.submit();\n",
       "                ltiForm.remove();\n",
       "                });\n"
      ],
      "text/plain": [
       "<IPython.core.display.Javascript object>"
      ]
     },
     "metadata": {},
     "output_type": "display_data"
    }
   ],
   "source": [
    "# Let's start by adding the JWS security claims\n",
    "content_item_response = {\n",
    "    'iss': tool_info['client_id'] ,\n",
    "    'aud': content_item_message['iss']\n",
    "}\n",
    "\n",
    "autosubmit_js = \"\"\"\n",
    "                var ltiForm = $('<form>');                \n",
    "                ltiForm.attr('action', 'http://localhost:5000');\n",
    "                ltiForm.attr('method', 'get');\n",
    "                ltiForm.attr('target', 'deeplinking_frame');\n",
    "                $('#deeplinking_frame').before(ltiForm);\n",
    "                ltiForm.submit();\n",
    "                ltiForm.remove();\n",
    "                \"\"\"\n",
    "\n",
    "display(HTML('<iframe id=\"deeplinking_frame\" name=\"deeplinking_frame\" style=\"height: 300px; width:100%\"></iframe>'))\n",
    "display(Javascript(data=autosubmit_js, \n",
    "                   lib=\"https://code.jquery.com/jquery-3.3.1.min.js\"))"
   ]
  },
  {
   "cell_type": "code",
   "execution_count": null,
   "metadata": {},
   "outputs": [],
   "source": []
  }
 ],
 "metadata": {
  "kernelspec": {
   "display_name": "Python 3",
   "language": "python",
   "name": "python3"
  },
  "language_info": {
   "codemirror_mode": {
    "name": "ipython",
    "version": 3
   },
   "file_extension": ".py",
   "mimetype": "text/x-python",
   "name": "python",
   "nbconvert_exporter": "python",
   "pygments_lexer": "ipython3",
   "version": "3.5.2"
  }
 },
 "nbformat": 4,
 "nbformat_minor": 2
}
