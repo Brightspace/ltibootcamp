{
 "cells": [
  {
   "cell_type": "markdown",
   "metadata": {},
   "source": [
    "# **LTI&trade; Advantage** bootcamp notebook for Tool\n",
    "\n",
    "## Introduction\n",
    "\n",
    "The notebook shows how to interact with the LTI Advantage ecosystem from a tool implementer viewpoint. It interacts with an actual test server which has been built as a platform simulator to support this notebook.\n"
   ]
  },
  {
   "cell_type": "markdown",
   "metadata": {},
   "source": [
    "## Setup\n",
    "\n",
    "Here we just import the libraries that will be needed in this notebook, define some utility functions and constants."
   ]
  },
  {
   "cell_type": "code",
   "execution_count": 111,
   "metadata": {},
   "outputs": [],
   "source": [
    "import requests\n",
    "import json\n",
    "import jwt\n",
    "import base64\n",
    "from cryptography.hazmat.primitives.asymmetric.rsa import RSAPublicNumbers\n",
    "from cryptography.hazmat.backends import default_backend\n",
    "from cryptography.hazmat.primitives.serialization import Encoding, PublicFormat\n",
    "from IPython.display import display, Markdown\n",
    "\n",
    "def decode_int(b64value):\n",
    "    return int.from_bytes(base64.urlsafe_b64decode(b64value), byteorder='big')\n",
    "\n",
    "# for concise code, return full claim prefixed by ims\n",
    "def fc(claim):\n",
    "    return \"http://imsglobal.org/lti/{0}\".format(claim)\n",
    "\n",
    "def md(mdt):\n",
    "    display(Markdown(mdt))\n",
    "    \n",
    "md_buffer = ''\n",
    "\n",
    "def mdb(mdt=None):\n",
    "    global md_buffer\n",
    "    if mdt:\n",
    "        md_buffer = md_buffer + '\\n' + mdt\n",
    "    else:\n",
    "        md(md_buffer)\n",
    "        md_buffer = ''\n",
    "\n",
    "# This notebook queries an actual test server. It needs its location:\n",
    "platform_url='http://localhost:5000'\n"
   ]
  },
  {
   "cell_type": "markdown",
   "metadata": {},
   "source": [
    "First we need to get a new tool deployment from the server for this notebook instance to use.\n",
    "Each tool must have a client_id and a private key that will be used to interact with the platform services and send messages back to the platform.\n",
    "It also needs the keyset URL that exposes the platform public keys needed to validate the incoming messages.\n",
    "\n",
    "While this information is required for each tool, how it is obtained by the tool is NOT currently part of the LTI specifications."
   ]
  },
  {
   "cell_type": "code",
   "execution_count": 143,
   "metadata": {},
   "outputs": [
    {
     "data": {
      "text/markdown": [
       "### Tool information"
      ],
      "text/plain": [
       "<IPython.core.display.Markdown object>"
      ]
     },
     "metadata": {},
     "output_type": "display_data"
    },
    {
     "data": {
      "text/markdown": [
       "Here is the tool information generated for this notebook. It is stored in ```tool_info``` variable."
      ],
      "text/plain": [
       "<IPython.core.display.Markdown object>"
      ]
     },
     "metadata": {},
     "output_type": "display_data"
    },
    {
     "data": {
      "text/markdown": [
       "```json\n",
       "{\n",
       "    \"client_id\": \"0\",\n",
       "    \"deployment_id\": \"deployment_0\",\n",
       "    \"key\": {\n",
       "        \"e\": \"AQAB\",\n",
       "        \"kty\": \"RSA\",\n",
       "        \"use\": \"sig\",\n",
       "        \"alg\": \"RS256\",\n",
       "        \"d\": \"X5O4Ad4fEO2OiGIRplQlHywX_rqKukf2HzlM1cl9i5PR7elPbj_JwLE3ilDEY52oJgFoXL7eKiXMi3lV7bQpEz8pD2TUN-ZfTksX250uTH7T3pdffyYH3S4B9NTl6gbn7R5X3madqetvy0oZ8GR9Si_KyXTznrnWJNo6LJCKs4-dPNt4n2TFUSTPi8JoOWk66Q5L0T5IwFHtBHbXgq5b7T2OkrWP7T-N0CjGO1HcZuKHGxMtJmZdAXK586X1PiY_Pwy37YrHatTXGwmL-AK4SpZzWcM-vBlR5-E1Zhrjmr1xw04HRJtpaolPe2H13ACIn-zyb44o61z0MHF5uZyyEQ==\"\n",
       "    }\n",
       "}```"
      ],
      "text/plain": [
       "<IPython.core.display.Markdown object>"
      ]
     },
     "metadata": {},
     "output_type": "display_data"
    }
   ],
   "source": [
    "r = requests.get(platform_url + '/newtool')\n",
    "tool_info = json.loads(r.text)\n",
    "\n",
    "md('### Tool information')\n",
    "md('Here is the tool information generated for this notebook. It is stored in ```tool_info``` variable.')\n",
    "md('```json\\n'+ json.dumps(tool_info, indent=4)+'```')"
   ]
  },
  {
   "cell_type": "markdown",
   "metadata": {},
   "source": [
    "### Getting the public keys from the platform\n",
    "\n",
    "In order to validate the various messages we will receive from the platform, we need to get the key sets. We'll also transform the keys to the `PEM` format that is used by the `jwt` module to decode the messages.\n",
    "\n",
    "The test platform exposes its keys in a keyset format at a well-know location (.well-known/jwks.json). Other platform might just communicate the keyset url as part of the tool deployment information."
   ]
  },
  {
   "cell_type": "code",
   "execution_count": 144,
   "metadata": {},
   "outputs": [
    {
     "data": {
      "text/markdown": [
       "#### Platform keyset"
      ],
      "text/plain": [
       "<IPython.core.display.Markdown object>"
      ]
     },
     "metadata": {},
     "output_type": "display_data"
    },
    {
     "data": {
      "text/markdown": [
       "```json\n",
       "{\n",
       "    \"keys\": [\n",
       "        {\n",
       "            \"e\": \"AQAB\",\n",
       "            \"use\": \"sig\",\n",
       "            \"alg\": \"HS256\",\n",
       "            \"kty\": \"rsa\",\n",
       "            \"n\": \"kgaCSJ0X4TnruUjHDl-bADcYCRehKgf7pDsJeSWVpdxuaoIzwf8W2vpUqTD0i1xSrZ0dcGLFO9IMAA08ipbaB7XnIgevbc_PAXsfjK6xDcRS7tNtATtcjs-80SAceXslz92fg3M-6Ur3FhfgVjNigP7LCTT9FcJO7OZvRO4YRZcWTH2-whxfK45JfSuiYQj3PxSznX4hQlDG5PiwZBBXR5_m_AsX1gbhAj186yfExjgOmM7Wk4z0-5RyNt9dE-Z2yelqcVoNY42kiwtE7zB3R81S-jYnfM_zTzU6GYbCCgZLmxE25MmphjowTXqyzFRfqG806hfpSnBh3-XH3OR8UQ==\",\n",
       "            \"kid\": \"1517533449_0\"\n",
       "        },\n",
       "        {\n",
       "            \"e\": \"AQAB\",\n",
       "            \"use\": \"sig\",\n",
       "            \"alg\": \"HS256\",\n",
       "            \"kty\": \"rsa\",\n",
       "            \"n\": \"sYCeSp5Cs1Tr5n0w2eH1PsfGwzr8YZskvSudpcDM8abi05c2W7xr2YW7GETfKAb7ypvDwTn4kK1yq1bk-0dy074GqIWZ3WGAidRJpIYmkV0IZKYWkmGmRg2GwYxbepHhNaTfQjDNfvWNhfbaQg_fIvV0ZHdrYKrTRsAhbGpB_xp1D9hIvC9yVLLHWDhket3YkbM_h0V8czX0Q4ooxTw4w3zVGeVQmH0UW4w5C5WgoFPM1o5D3jEUOcIkrvZu43ZATxNTJP0vl7GIaG_hvE66E5PD1Q1jKQ5we_3I3qgMdGaFeNU95zAcrdKJB_wnQglLKcFtx76Lr6laPnIuzT_MbQ==\",\n",
       "            \"kid\": \"1517533449_1\"\n",
       "        },\n",
       "        {\n",
       "            \"e\": \"AQAB\",\n",
       "            \"use\": \"sig\",\n",
       "            \"alg\": \"HS256\",\n",
       "            \"kty\": \"rsa\",\n",
       "            \"n\": \"ohmRx-cM0x8eBUGd8cV2GTy0Xc-7Rlo9EmV53Uwf9QhwvHAy8qWyEuhXjmdQSucsHHLMLPz98Z82DA2ZEIzqnajwQoQ11dgUX_LxvZ8KQVn8A4ICFMYU7jwG_wohS9o7yay6uzgNtPoVVCpoU5w4kwBm8Mq8-uiuygEqZS_ob4cMQ3iy0udFqFGW9eg4B-ZvfU26ASRYecZwUmgVS40QPOaCFo1RtgGELcgcYHR6IarUFA3VAeglA4p8Fp33pxfRvZ14oSKDeMf5RqKZNcznm8Jp90Gt_WER8AY0RqZ_hf3K3pNfGz5nQS8T-77nO3Z0BTX4egKW0xKENLlaTs3-YQ==\",\n",
       "            \"kid\": \"1517533449_2\"\n",
       "        },\n",
       "        {\n",
       "            \"e\": \"AQAB\",\n",
       "            \"use\": \"sig\",\n",
       "            \"alg\": \"HS256\",\n",
       "            \"kty\": \"rsa\",\n",
       "            \"n\": \"rLR_sy2KOL443VaTpl6G0bA8RUhB5fbvMq8_5YGDlgLU10ufNk1vVVTWPAnefOLM-pngqY6J6hw1IfKZjXPRDs-b6qp7VovSqNZHmDGE8cL_-KcyunmnMLYqgLfvfRZ3ZuNcOqoWXw3C-WpW4c1U3XzkCn67ARmqlSjg4f0B8UtkPtIDbvJ8mIKdYKg_rVVDPGBo-A-6qZrU-_LUFigsfZuvCvf_G_fSUtiuNESgBJOezQV0ktxBL60_fQyxrki_v39Z1t7kYhY03Pbn2hAzqoxzLF_bT-k-tAIhbSTNWOypOdtHzZzRIkUpU6tQhrzUAxXDkUd9dtBSXHq_Te3QxQ==\",\n",
       "            \"kid\": \"1517533449_3\"\n",
       "        }\n",
       "    ]\n",
       "}```"
      ],
      "text/plain": [
       "<IPython.core.display.Markdown object>"
      ]
     },
     "metadata": {},
     "output_type": "display_data"
    }
   ],
   "source": [
    "keyset = json.loads(requests.get(platform_url + '/.well-known/jwks.json').text)\n",
    "\n",
    "md('#### Platform keyset')\n",
    "md('```json\\n'+ json.dumps(keyset, indent=4)+'```')\n",
    "\n",
    "platform_keys = {}\n",
    "\n",
    "# let's transform as a map for ease of use, and just the PEM because this is what is used by JWT lib\n",
    "for key in keyset['keys']:\n",
    "    public_key = RSAPublicNumbers(decode_int(key['e']), decode_int(key['n'])).public_key(default_backend())\n",
    "    pem = public_key.public_bytes(Encoding.PEM, PublicFormat.SubjectPublicKeyInfo)\n",
    "    platform_keys[key['kid']] = pem\n",
    "    \n"
   ]
  },
  {
   "cell_type": "markdown",
   "metadata": {},
   "source": [
    "## Deep Linking - Creating a Link\n",
    "This section will use the deep linking specification to create a Resource Link to the platform. That resource link will be gradable and used in the following sections of that notebook.\n",
    "\n",
    "[Deep Linking](https://www.imsglobal.org/specs/lticiv1p0) is a **UI flow**, it is an important piece that is sometimes missed on 1st reading. The user is redirected from the platform to the tool to pick or create one or multiple piece of content (often, LTI links), and the the tool redirects the UI back to the tool with the actual selection (or an empty payload if nothing was picked or created).\n",
    "\n",
    "So there are 2 messages:\n",
    "\n",
    "1. `ContentItemRequestSelection` from the platform to the tool to start the picking/create session. This is a typical platform launch that contains the context and the user information, and what kind of content items may be created in this flow (for example, this flow might indicate it only wants LTI links).\n",
    "1. `ContentItemSelection` from the tool back to the plaform using the `content_item_return_url` provided in the request.\n",
    "\n",
    "Once a tool is added to a course, usually the first launch from the platform will be a Deep Linking request.\n",
    "\n",
    "![deep linking](assets/lti_advantage_deeplinking.png \"LTI Deep Link\")"
   ]
  },
  {
   "cell_type": "markdown",
   "metadata": {},
   "source": [
    "### Setup: Getting a Deep Linking Request\n",
    "\n",
    "This notebook is not a tool actually launched by the platform, so the test platform as way to give us the token that it would include in an actual HTTP POSTrequest, so we can build a mock POST request including the parameter `post_data`."
   ]
  },
  {
   "cell_type": "code",
   "execution_count": 145,
   "metadata": {},
   "outputs": [],
   "source": [
    "r = requests.get(\"{}/tool/{}/cisr\".format(platform_url, tool_info['client_id']))\n",
    "\n",
    "post_data = {\n",
    "    'id_token':r.text\n",
    "}"
   ]
  },
  {
   "cell_type": "markdown",
   "metadata": {},
   "source": [
    "### Task 1: Verify the JWT is properly signed\n",
    "\n",
    "The first thing before to display to the user the picker/authoring interface to create the link is to validate this request is properly signed. This is done by decoding the JWT using public key from the platform.\n"
   ]
  },
  {
   "cell_type": "code",
   "execution_count": 146,
   "metadata": {},
   "outputs": [
    {
     "data": {
      "text/markdown": [
       "#### Message properly signed! Decoded ContentItemSelectionRequest message:"
      ],
      "text/plain": [
       "<IPython.core.display.Markdown object>"
      ]
     },
     "metadata": {},
     "output_type": "display_data"
    },
    {
     "data": {
      "text/markdown": [
       "```json\n",
       "{\n",
       "    \"http://imsglobal.org/lti/version\": \"1.3.0\",\n",
       "    \"iss\": \"http://localhost:5000\",\n",
       "    \"sub\": \"LTIBCU_12\",\n",
       "    \"http://imsglobal.org/lti/context\": {\n",
       "        \"title\": \"LTI Bootcamp Course\",\n",
       "        \"type\": [\n",
       "            \"CourseSection\"\n",
       "        ],\n",
       "        \"id\": \"ffe7b882-07b4-11e8-a22c-c48e8ffb7857\",\n",
       "        \"label\": \"LTI Bootcamp Course\"\n",
       "    },\n",
       "    \"http://imsglobal.org/lti/roles\": [\n",
       "        \"http://purl.imsglobal.org/vocab/lis/v2/membership#Instructor\"\n",
       "    ],\n",
       "    \"aud\": \"0\",\n",
       "    \"family_name\": \"Talulla\",\n",
       "    \"iat\": 1517533470,\n",
       "    \"http://imsglobal.org/lti/deep_linking_request\": {\n",
       "        \"accept_media_types\": [\n",
       "            \"application/vnd.ims.lti.v1.ltilink\"\n",
       "        ],\n",
       "        \"accept_multiple\": true,\n",
       "        \"auto_create\": true,\n",
       "        \"data\": \"op=321&v=44\",\n",
       "        \"accept_presentation_document_targets\": [\n",
       "            \"iframe\",\n",
       "            \"window\"\n",
       "        ]\n",
       "    },\n",
       "    \"http://imsglobal.org/lti/message_type\": \"ContentItemSelectionRequest\",\n",
       "    \"nonce\": \"05d66bb2-07b5-11e8-a22c-c48e8ffb7857\",\n",
       "    \"http://imsglobal.org/lti/deployment_id\": \"deployment_0\",\n",
       "    \"email\": \"Linwood.Talulla@example.com\",\n",
       "    \"exp\": 1517533530,\n",
       "    \"http://imsglobal.org/lti/tool_platform\": {\n",
       "        \"guid\": \"ltibc_at_1517533450\",\n",
       "        \"name\": \"LTI Bootcamp Platform\"\n",
       "    },\n",
       "    \"given_name\": \"Linwood\",\n",
       "    \"name\": \"Linwood Talulla\"\n",
       "}```"
      ],
      "text/plain": [
       "<IPython.core.display.Markdown object>"
      ]
     },
     "metadata": {},
     "output_type": "display_data"
    }
   ],
   "source": [
    "# Let's get the kid so we can get the proper public key\n",
    "encoded_jwt = post_data['id_token']\n",
    "jwt_headers = jwt.get_unverified_header(encoded_jwt)\n",
    "\n",
    "content_item_message = jwt.decode(encoded_jwt, \n",
    "                                  platform_keys[jwt_headers['kid']], \n",
    "                                  jwt_headers['alg'],\n",
    "                                  audience = tool_info['client_id'])\n",
    "\n",
    "md('#### Message properly signed! Decoded ContentItemSelectionRequest message:')\n",
    "md('```json\\n'+ json.dumps(content_item_message, indent=4)+'```')\n"
   ]
  },
  {
   "cell_type": "markdown",
   "metadata": {},
   "source": [
    "### Task 2: extract the information to decide which experience to show\n",
    "\n",
    "If this is the first launch for the user or the course, as a tool you may prompt the user for setup information, including account linking or course setup. Ultimately the user will see the authoring or picking interface that will allow her to create or select the content items to be added to the course.\n",
    "\n",
    "Some key attributes of the `ContentItemSelectionRequest` will drive the experience:"
   ]
  },
  {
   "cell_type": "code",
   "execution_count": 150,
   "metadata": {},
   "outputs": [
    {
     "data": {
      "text/markdown": [
       "\n",
       "1. What is the current course id? ffe7b882-07b4-11e8-a22c-c48e8ffb7857\n",
       "1. What is the current user id? LTIBCU_12\n",
       "1. Is this user an instructor? True\n",
       "1. What kind of content item can be created? ['application/vnd.ims.lti.v1.ltilink']\n",
       "1. Can I return more than one items to be added? True\n",
       "1. Will the user be prompted before to actually save the items? False"
      ],
      "text/plain": [
       "<IPython.core.display.Markdown object>"
      ]
     },
     "metadata": {},
     "output_type": "display_data"
    },
    {
     "ename": "NameError",
     "evalue": "name 'content_item' is not defined",
     "output_type": "error",
     "traceback": [
      "\u001b[0;31m---------------------------------------------------------------------------\u001b[0m",
      "\u001b[0;31mNameError\u001b[0m                                 Traceback (most recent call last)",
      "\u001b[0;32m<ipython-input-150-6e94a20bc447>\u001b[0m in \u001b[0;36m<module>\u001b[0;34m()\u001b[0m\n\u001b[1;32m      9\u001b[0m \u001b[0mmdb\u001b[0m\u001b[0;34m(\u001b[0m\u001b[0;34m'1. Will the user be prompted before to actually save the items? {0}'\u001b[0m\u001b[0;34m.\u001b[0m\u001b[0mformat\u001b[0m\u001b[0;34m(\u001b[0m\u001b[0;32mnot\u001b[0m \u001b[0mdeep_linking_claim\u001b[0m\u001b[0;34m[\u001b[0m\u001b[0;34m'auto_create'\u001b[0m\u001b[0;34m]\u001b[0m\u001b[0;34m)\u001b[0m\u001b[0;34m)\u001b[0m\u001b[0;34m\u001b[0m\u001b[0m\n\u001b[1;32m     10\u001b[0m \u001b[0mmdb\u001b[0m\u001b[0;34m(\u001b[0m\u001b[0;34m)\u001b[0m\u001b[0;34m\u001b[0m\u001b[0m\n\u001b[0;32m---> 11\u001b[0;31m \u001b[0mmd\u001b[0m\u001b[0;34m(\u001b[0m\u001b[0;34m'1. Where should I redirect the browser too when done? {0}'\u001b[0m\u001b[0;34m.\u001b[0m\u001b[0mformat\u001b[0m\u001b[0;34m(\u001b[0m\u001b[0mcontent_item\u001b[0m\u001b[0;34m[\u001b[0m\u001b[0mc\u001b[0m\u001b[0;34m(\u001b[0m\u001b[0;34m''\u001b[0m\u001b[0;34m)\u001b[0m\u001b[0;34m]\u001b[0m\u001b[0;34m)\u001b[0m\u001b[0;34m)\u001b[0m\u001b[0;34m\u001b[0m\u001b[0m\n\u001b[0m\u001b[1;32m     12\u001b[0m \u001b[0mmd\u001b[0m\u001b[0;34m(\u001b[0m\u001b[0;34m'1. Is there any data I must pass back to platform when I return? {0}'\u001b[0m\u001b[0;34m.\u001b[0m\u001b[0mformat\u001b[0m\u001b[0;34m(\u001b[0m\u001b[0mcontent_item\u001b[0m\u001b[0;34m[\u001b[0m\u001b[0mc\u001b[0m\u001b[0;34m(\u001b[0m\u001b[0;34m''\u001b[0m\u001b[0;34m)\u001b[0m\u001b[0;34m]\u001b[0m\u001b[0;34m)\u001b[0m\u001b[0;34m)\u001b[0m\u001b[0;34m\u001b[0m\u001b[0m\n",
      "\u001b[0;31mNameError\u001b[0m: name 'content_item' is not defined"
     ]
    }
   ],
   "source": [
    "\n",
    "mdb('1. What is the current course id? {0}'.format(content_item_message[fc('context')]['id']))\n",
    "mdb('1. What is the current user id? {0}'.format(content_item_message['sub']))\n",
    "is_instructor = len(list(filter(lambda x: 'instructor' in x.lower(), content_item_message[fc('roles')])))>0\n",
    "mdb('1. Is this user an instructor? {0}'.format(is_instructor))\n",
    "deep_linking_claim = content_item_message[fc('deep_linking_request')]\n",
    "mdb('1. What kind of content item can be created? {0}'.format(deep_linking_claim['accept_media_types']))\n",
    "mdb('1. Can I return more than one items to be added? {0}'.format(deep_linking_claim['accept_multiple']))\n",
    "mdb('1. Will the user be prompted before to actually save the items? {0}'.format(not deep_linking_claim['auto_create']))\n",
    "mdb()\n",
    "md('1. Where should I redirect the browser too when done? {0}'.format(content_item[c('')]))\n",
    "md('1. Is there any data I must pass back to platform when I return? {0}'.format(content_item[c('')]))"
   ]
  },
  {
   "cell_type": "markdown",
   "metadata": {},
   "source": [
    "### Task 3: redirect the user back to the platform with the content item selection\n",
    "\n",
    "After the end of the interaction, so user is sent back to the platform throught a browser redirection using an HTTP POST containing the JWT `ContentItemResponse` message. In this case, we will return 2 LTI links, one being graded."
   ]
  },
  {
   "cell_type": "code",
   "execution_count": null,
   "metadata": {},
   "outputs": [],
   "source": [
    "# Let's start by adding the JWS security claims\n",
    "content_item_response = {\n",
    "    'iss': tool_info.client_id,\n",
    "    'aud': content_item_message['iss']\n",
    "}"
   ]
  }
 ],
 "metadata": {
  "kernelspec": {
   "display_name": "Python 3",
   "language": "python",
   "name": "python3"
  },
  "language_info": {
   "codemirror_mode": {
    "name": "ipython",
    "version": 3
   },
   "file_extension": ".py",
   "mimetype": "text/x-python",
   "name": "python",
   "nbconvert_exporter": "python",
   "pygments_lexer": "ipython3",
   "version": "3.5.2"
  }
 },
 "nbformat": 4,
 "nbformat_minor": 2
}
