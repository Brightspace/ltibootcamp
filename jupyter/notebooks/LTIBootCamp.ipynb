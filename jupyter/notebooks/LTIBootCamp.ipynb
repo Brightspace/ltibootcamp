{
 "cells": [
  {
   "cell_type": "markdown",
   "metadata": {},
   "source": [
    "<img src=\"assets/bootcamp.png\">\n",
    "\n",
    "# **LTI&trade; Advantage** bootcamp notebook for Tool\n",
    "\n",
    "claude.vervoort@gmail.com\n",
    "\n",
    "## Introduction\n",
    "\n",
    "The notebook shows how to interact with the LTI Advantage ecosystem from a tool implementer viewpoint. It interacts with an actual test server which has been built as a platform simulator to support this notebook. \n"
   ]
  },
  {
   "cell_type": "code",
   "execution_count": 155,
   "metadata": {},
   "outputs": [],
   "source": [
    "# This notebook queries an actual tool platform test server. It needs its location:\n",
    "platform_url='http://localhost:5000'"
   ]
  },
  {
   "cell_type": "markdown",
   "metadata": {},
   "source": [
    "## Setup\n",
    "\n",
    "Here we just import the libraries that will be needed in this notebook, define some utility functions and constants."
   ]
  },
  {
   "cell_type": "code",
   "execution_count": 156,
   "metadata": {},
   "outputs": [],
   "source": [
    "import requests\n",
    "import json\n",
    "import jwt\n",
    "import base64\n",
    "from time import time\n",
    "from cryptography.hazmat.primitives.asymmetric.rsa import RSAPublicNumbers\n",
    "from cryptography.hazmat.backends import default_backend\n",
    "from cryptography.hazmat.primitives.serialization import Encoding, PublicFormat\n",
    "from IPython.display import display, Markdown, HTML, Javascript\n",
    "\n",
    "def decode_int(b64value):\n",
    "    return int.from_bytes(base64.urlsafe_b64decode(b64value), byteorder='big')\n",
    "\n",
    "# for concise code, return full claim prefixed by ims\n",
    "def fc(claim):\n",
    "    return \"http://imsglobal.org/lti/{0}\".format(claim)\n",
    "\n",
    "def md(mdt):\n",
    "    display(Markdown(mdt))\n",
    "    \n",
    "md_buffer = ''\n",
    "\n",
    "def mdb(mdt=None):\n",
    "    global md_buffer\n",
    "    if mdt:\n",
    "        md_buffer = md_buffer + '\\n' + mdt\n",
    "    else:\n",
    "        md(md_buffer)\n",
    "        md_buffer = ''\n"
   ]
  },
  {
   "cell_type": "markdown",
   "metadata": {},
   "source": [
    "First we need to get a new tool deployment from the server for this notebook instance to use.\n",
    "Each tool must have a client_id and a private key that will be used to interact with the platform services and send messages back to the platform.\n",
    "It also needs the keyset URL that exposes the platform public keys needed to validate the incoming messages.\n",
    "\n",
    "While this information is required for each tool, how it is obtained by the tool is NOT currently part of the LTI specifications."
   ]
  },
  {
   "cell_type": "code",
   "execution_count": 157,
   "metadata": {
    "scrolled": false
   },
   "outputs": [
    {
     "ename": "JSONDecodeError",
     "evalue": "Expecting value: line 1 column 1 (char 0)",
     "output_type": "error",
     "traceback": [
      "\u001b[0;31m---------------------------------------------------------------------------\u001b[0m",
      "\u001b[0;31mJSONDecodeError\u001b[0m                           Traceback (most recent call last)",
      "\u001b[0;32m<ipython-input-157-4379c1f7d17e>\u001b[0m in \u001b[0;36m<module>\u001b[0;34m()\u001b[0m\n\u001b[1;32m      1\u001b[0m \u001b[0mr\u001b[0m \u001b[0;34m=\u001b[0m \u001b[0mrequests\u001b[0m\u001b[0;34m.\u001b[0m\u001b[0mget\u001b[0m\u001b[0;34m(\u001b[0m\u001b[0mplatform_url\u001b[0m \u001b[0;34m+\u001b[0m \u001b[0;34m'/newtool'\u001b[0m\u001b[0;34m)\u001b[0m\u001b[0;34m\u001b[0m\u001b[0m\n\u001b[0;32m----> 2\u001b[0;31m \u001b[0mtool_info\u001b[0m \u001b[0;34m=\u001b[0m \u001b[0mjson\u001b[0m\u001b[0;34m.\u001b[0m\u001b[0mloads\u001b[0m\u001b[0;34m(\u001b[0m\u001b[0mr\u001b[0m\u001b[0;34m.\u001b[0m\u001b[0mtext\u001b[0m\u001b[0;34m)\u001b[0m\u001b[0;34m\u001b[0m\u001b[0m\n\u001b[0m\u001b[1;32m      3\u001b[0m \u001b[0;34m\u001b[0m\u001b[0m\n\u001b[1;32m      4\u001b[0m \u001b[0mmd\u001b[0m\u001b[0;34m(\u001b[0m\u001b[0;34m'### Tool information'\u001b[0m\u001b[0;34m)\u001b[0m\u001b[0;34m\u001b[0m\u001b[0m\n\u001b[1;32m      5\u001b[0m \u001b[0mmd\u001b[0m\u001b[0;34m(\u001b[0m\u001b[0;34m'Here is the tool information generated for this notebook. It is stored in ```tool_info``` variable.'\u001b[0m\u001b[0;34m)\u001b[0m\u001b[0;34m\u001b[0m\u001b[0m\n",
      "\u001b[0;32m/usr/lib/python3.5/json/__init__.py\u001b[0m in \u001b[0;36mloads\u001b[0;34m(s, encoding, cls, object_hook, parse_float, parse_int, parse_constant, object_pairs_hook, **kw)\u001b[0m\n\u001b[1;32m    317\u001b[0m             \u001b[0mparse_int\u001b[0m \u001b[0;32mis\u001b[0m \u001b[0;32mNone\u001b[0m \u001b[0;32mand\u001b[0m \u001b[0mparse_float\u001b[0m \u001b[0;32mis\u001b[0m \u001b[0;32mNone\u001b[0m \u001b[0;32mand\u001b[0m\u001b[0;34m\u001b[0m\u001b[0m\n\u001b[1;32m    318\u001b[0m             parse_constant is None and object_pairs_hook is None and not kw):\n\u001b[0;32m--> 319\u001b[0;31m         \u001b[0;32mreturn\u001b[0m \u001b[0m_default_decoder\u001b[0m\u001b[0;34m.\u001b[0m\u001b[0mdecode\u001b[0m\u001b[0;34m(\u001b[0m\u001b[0ms\u001b[0m\u001b[0;34m)\u001b[0m\u001b[0;34m\u001b[0m\u001b[0m\n\u001b[0m\u001b[1;32m    320\u001b[0m     \u001b[0;32mif\u001b[0m \u001b[0mcls\u001b[0m \u001b[0;32mis\u001b[0m \u001b[0;32mNone\u001b[0m\u001b[0;34m:\u001b[0m\u001b[0;34m\u001b[0m\u001b[0m\n\u001b[1;32m    321\u001b[0m         \u001b[0mcls\u001b[0m \u001b[0;34m=\u001b[0m \u001b[0mJSONDecoder\u001b[0m\u001b[0;34m\u001b[0m\u001b[0m\n",
      "\u001b[0;32m/usr/lib/python3.5/json/decoder.py\u001b[0m in \u001b[0;36mdecode\u001b[0;34m(self, s, _w)\u001b[0m\n\u001b[1;32m    337\u001b[0m \u001b[0;34m\u001b[0m\u001b[0m\n\u001b[1;32m    338\u001b[0m         \"\"\"\n\u001b[0;32m--> 339\u001b[0;31m         \u001b[0mobj\u001b[0m\u001b[0;34m,\u001b[0m \u001b[0mend\u001b[0m \u001b[0;34m=\u001b[0m \u001b[0mself\u001b[0m\u001b[0;34m.\u001b[0m\u001b[0mraw_decode\u001b[0m\u001b[0;34m(\u001b[0m\u001b[0ms\u001b[0m\u001b[0;34m,\u001b[0m \u001b[0midx\u001b[0m\u001b[0;34m=\u001b[0m\u001b[0m_w\u001b[0m\u001b[0;34m(\u001b[0m\u001b[0ms\u001b[0m\u001b[0;34m,\u001b[0m \u001b[0;36m0\u001b[0m\u001b[0;34m)\u001b[0m\u001b[0;34m.\u001b[0m\u001b[0mend\u001b[0m\u001b[0;34m(\u001b[0m\u001b[0;34m)\u001b[0m\u001b[0;34m)\u001b[0m\u001b[0;34m\u001b[0m\u001b[0m\n\u001b[0m\u001b[1;32m    340\u001b[0m         \u001b[0mend\u001b[0m \u001b[0;34m=\u001b[0m \u001b[0m_w\u001b[0m\u001b[0;34m(\u001b[0m\u001b[0ms\u001b[0m\u001b[0;34m,\u001b[0m \u001b[0mend\u001b[0m\u001b[0;34m)\u001b[0m\u001b[0;34m.\u001b[0m\u001b[0mend\u001b[0m\u001b[0;34m(\u001b[0m\u001b[0;34m)\u001b[0m\u001b[0;34m\u001b[0m\u001b[0m\n\u001b[1;32m    341\u001b[0m         \u001b[0;32mif\u001b[0m \u001b[0mend\u001b[0m \u001b[0;34m!=\u001b[0m \u001b[0mlen\u001b[0m\u001b[0;34m(\u001b[0m\u001b[0ms\u001b[0m\u001b[0;34m)\u001b[0m\u001b[0;34m:\u001b[0m\u001b[0;34m\u001b[0m\u001b[0m\n",
      "\u001b[0;32m/usr/lib/python3.5/json/decoder.py\u001b[0m in \u001b[0;36mraw_decode\u001b[0;34m(self, s, idx)\u001b[0m\n\u001b[1;32m    355\u001b[0m             \u001b[0mobj\u001b[0m\u001b[0;34m,\u001b[0m \u001b[0mend\u001b[0m \u001b[0;34m=\u001b[0m \u001b[0mself\u001b[0m\u001b[0;34m.\u001b[0m\u001b[0mscan_once\u001b[0m\u001b[0;34m(\u001b[0m\u001b[0ms\u001b[0m\u001b[0;34m,\u001b[0m \u001b[0midx\u001b[0m\u001b[0;34m)\u001b[0m\u001b[0;34m\u001b[0m\u001b[0m\n\u001b[1;32m    356\u001b[0m         \u001b[0;32mexcept\u001b[0m \u001b[0mStopIteration\u001b[0m \u001b[0;32mas\u001b[0m \u001b[0merr\u001b[0m\u001b[0;34m:\u001b[0m\u001b[0;34m\u001b[0m\u001b[0m\n\u001b[0;32m--> 357\u001b[0;31m             \u001b[0;32mraise\u001b[0m \u001b[0mJSONDecodeError\u001b[0m\u001b[0;34m(\u001b[0m\u001b[0;34m\"Expecting value\"\u001b[0m\u001b[0;34m,\u001b[0m \u001b[0ms\u001b[0m\u001b[0;34m,\u001b[0m \u001b[0merr\u001b[0m\u001b[0;34m.\u001b[0m\u001b[0mvalue\u001b[0m\u001b[0;34m)\u001b[0m \u001b[0;32mfrom\u001b[0m \u001b[0;32mNone\u001b[0m\u001b[0;34m\u001b[0m\u001b[0m\n\u001b[0m\u001b[1;32m    358\u001b[0m         \u001b[0;32mreturn\u001b[0m \u001b[0mobj\u001b[0m\u001b[0;34m,\u001b[0m \u001b[0mend\u001b[0m\u001b[0;34m\u001b[0m\u001b[0m\n",
      "\u001b[0;31mJSONDecodeError\u001b[0m: Expecting value: line 1 column 1 (char 0)"
     ]
    }
   ],
   "source": [
    "r = requests.get(platform_url + '/newtool')\n",
    "tool_info = json.loads(r.text)\n",
    "\n",
    "md('### Tool information')\n",
    "md('Here is the tool information generated for this notebook. It is stored in ```tool_info``` variable.')\n",
    "md('```json\\n'+ json.dumps(tool_info, indent=4)+'```')"
   ]
  },
  {
   "cell_type": "markdown",
   "metadata": {},
   "source": [
    "### Getting the public keys from the platform\n",
    "\n",
    "In order to validate the various messages we will receive from the platform, we need to get the key sets. We'll also transform the keys to the `PEM` format that is used by the `jwt` module to decode the messages.\n",
    "\n",
    "The test platform exposes its keys in a keyset format at a well-know location (.well-known/jwks.json). Other platform might just communicate the keyset url as part of the tool deployment information."
   ]
  },
  {
   "cell_type": "code",
   "execution_count": 154,
   "metadata": {},
   "outputs": [
    {
     "ename": "JSONDecodeError",
     "evalue": "Expecting value: line 1 column 1 (char 0)",
     "output_type": "error",
     "traceback": [
      "\u001b[0;31m---------------------------------------------------------------------------\u001b[0m",
      "\u001b[0;31mJSONDecodeError\u001b[0m                           Traceback (most recent call last)",
      "\u001b[0;32m<ipython-input-154-8b77a6424111>\u001b[0m in \u001b[0;36m<module>\u001b[0;34m()\u001b[0m\n\u001b[0;32m----> 1\u001b[0;31m \u001b[0mkeyset\u001b[0m \u001b[0;34m=\u001b[0m \u001b[0mjson\u001b[0m\u001b[0;34m.\u001b[0m\u001b[0mloads\u001b[0m\u001b[0;34m(\u001b[0m\u001b[0mrequests\u001b[0m\u001b[0;34m.\u001b[0m\u001b[0mget\u001b[0m\u001b[0;34m(\u001b[0m\u001b[0mplatform_url\u001b[0m \u001b[0;34m+\u001b[0m \u001b[0;34m'/.well-known/jwks.json'\u001b[0m\u001b[0;34m)\u001b[0m\u001b[0;34m.\u001b[0m\u001b[0mtext\u001b[0m\u001b[0;34m)\u001b[0m\u001b[0;34m\u001b[0m\u001b[0m\n\u001b[0m\u001b[1;32m      2\u001b[0m \u001b[0;34m\u001b[0m\u001b[0m\n\u001b[1;32m      3\u001b[0m \u001b[0mmd\u001b[0m\u001b[0;34m(\u001b[0m\u001b[0;34m'#### Platform keyset'\u001b[0m\u001b[0;34m)\u001b[0m\u001b[0;34m\u001b[0m\u001b[0m\n\u001b[1;32m      4\u001b[0m \u001b[0mmd\u001b[0m\u001b[0;34m(\u001b[0m\u001b[0;34m'```json\\n'\u001b[0m\u001b[0;34m+\u001b[0m \u001b[0mjson\u001b[0m\u001b[0;34m.\u001b[0m\u001b[0mdumps\u001b[0m\u001b[0;34m(\u001b[0m\u001b[0mkeyset\u001b[0m\u001b[0;34m,\u001b[0m \u001b[0mindent\u001b[0m\u001b[0;34m=\u001b[0m\u001b[0;36m4\u001b[0m\u001b[0;34m)\u001b[0m\u001b[0;34m+\u001b[0m\u001b[0;34m'```'\u001b[0m\u001b[0;34m)\u001b[0m\u001b[0;34m\u001b[0m\u001b[0m\n\u001b[1;32m      5\u001b[0m \u001b[0;34m\u001b[0m\u001b[0m\n",
      "\u001b[0;32m/usr/lib/python3.5/json/__init__.py\u001b[0m in \u001b[0;36mloads\u001b[0;34m(s, encoding, cls, object_hook, parse_float, parse_int, parse_constant, object_pairs_hook, **kw)\u001b[0m\n\u001b[1;32m    317\u001b[0m             \u001b[0mparse_int\u001b[0m \u001b[0;32mis\u001b[0m \u001b[0;32mNone\u001b[0m \u001b[0;32mand\u001b[0m \u001b[0mparse_float\u001b[0m \u001b[0;32mis\u001b[0m \u001b[0;32mNone\u001b[0m \u001b[0;32mand\u001b[0m\u001b[0;34m\u001b[0m\u001b[0m\n\u001b[1;32m    318\u001b[0m             parse_constant is None and object_pairs_hook is None and not kw):\n\u001b[0;32m--> 319\u001b[0;31m         \u001b[0;32mreturn\u001b[0m \u001b[0m_default_decoder\u001b[0m\u001b[0;34m.\u001b[0m\u001b[0mdecode\u001b[0m\u001b[0;34m(\u001b[0m\u001b[0ms\u001b[0m\u001b[0;34m)\u001b[0m\u001b[0;34m\u001b[0m\u001b[0m\n\u001b[0m\u001b[1;32m    320\u001b[0m     \u001b[0;32mif\u001b[0m \u001b[0mcls\u001b[0m \u001b[0;32mis\u001b[0m \u001b[0;32mNone\u001b[0m\u001b[0;34m:\u001b[0m\u001b[0;34m\u001b[0m\u001b[0m\n\u001b[1;32m    321\u001b[0m         \u001b[0mcls\u001b[0m \u001b[0;34m=\u001b[0m \u001b[0mJSONDecoder\u001b[0m\u001b[0;34m\u001b[0m\u001b[0m\n",
      "\u001b[0;32m/usr/lib/python3.5/json/decoder.py\u001b[0m in \u001b[0;36mdecode\u001b[0;34m(self, s, _w)\u001b[0m\n\u001b[1;32m    337\u001b[0m \u001b[0;34m\u001b[0m\u001b[0m\n\u001b[1;32m    338\u001b[0m         \"\"\"\n\u001b[0;32m--> 339\u001b[0;31m         \u001b[0mobj\u001b[0m\u001b[0;34m,\u001b[0m \u001b[0mend\u001b[0m \u001b[0;34m=\u001b[0m \u001b[0mself\u001b[0m\u001b[0;34m.\u001b[0m\u001b[0mraw_decode\u001b[0m\u001b[0;34m(\u001b[0m\u001b[0ms\u001b[0m\u001b[0;34m,\u001b[0m \u001b[0midx\u001b[0m\u001b[0;34m=\u001b[0m\u001b[0m_w\u001b[0m\u001b[0;34m(\u001b[0m\u001b[0ms\u001b[0m\u001b[0;34m,\u001b[0m \u001b[0;36m0\u001b[0m\u001b[0;34m)\u001b[0m\u001b[0;34m.\u001b[0m\u001b[0mend\u001b[0m\u001b[0;34m(\u001b[0m\u001b[0;34m)\u001b[0m\u001b[0;34m)\u001b[0m\u001b[0;34m\u001b[0m\u001b[0m\n\u001b[0m\u001b[1;32m    340\u001b[0m         \u001b[0mend\u001b[0m \u001b[0;34m=\u001b[0m \u001b[0m_w\u001b[0m\u001b[0;34m(\u001b[0m\u001b[0ms\u001b[0m\u001b[0;34m,\u001b[0m \u001b[0mend\u001b[0m\u001b[0;34m)\u001b[0m\u001b[0;34m.\u001b[0m\u001b[0mend\u001b[0m\u001b[0;34m(\u001b[0m\u001b[0;34m)\u001b[0m\u001b[0;34m\u001b[0m\u001b[0m\n\u001b[1;32m    341\u001b[0m         \u001b[0;32mif\u001b[0m \u001b[0mend\u001b[0m \u001b[0;34m!=\u001b[0m \u001b[0mlen\u001b[0m\u001b[0;34m(\u001b[0m\u001b[0ms\u001b[0m\u001b[0;34m)\u001b[0m\u001b[0;34m:\u001b[0m\u001b[0;34m\u001b[0m\u001b[0m\n",
      "\u001b[0;32m/usr/lib/python3.5/json/decoder.py\u001b[0m in \u001b[0;36mraw_decode\u001b[0;34m(self, s, idx)\u001b[0m\n\u001b[1;32m    355\u001b[0m             \u001b[0mobj\u001b[0m\u001b[0;34m,\u001b[0m \u001b[0mend\u001b[0m \u001b[0;34m=\u001b[0m \u001b[0mself\u001b[0m\u001b[0;34m.\u001b[0m\u001b[0mscan_once\u001b[0m\u001b[0;34m(\u001b[0m\u001b[0ms\u001b[0m\u001b[0;34m,\u001b[0m \u001b[0midx\u001b[0m\u001b[0;34m)\u001b[0m\u001b[0;34m\u001b[0m\u001b[0m\n\u001b[1;32m    356\u001b[0m         \u001b[0;32mexcept\u001b[0m \u001b[0mStopIteration\u001b[0m \u001b[0;32mas\u001b[0m \u001b[0merr\u001b[0m\u001b[0;34m:\u001b[0m\u001b[0;34m\u001b[0m\u001b[0m\n\u001b[0;32m--> 357\u001b[0;31m             \u001b[0;32mraise\u001b[0m \u001b[0mJSONDecodeError\u001b[0m\u001b[0;34m(\u001b[0m\u001b[0;34m\"Expecting value\"\u001b[0m\u001b[0;34m,\u001b[0m \u001b[0ms\u001b[0m\u001b[0;34m,\u001b[0m \u001b[0merr\u001b[0m\u001b[0;34m.\u001b[0m\u001b[0mvalue\u001b[0m\u001b[0;34m)\u001b[0m \u001b[0;32mfrom\u001b[0m \u001b[0;32mNone\u001b[0m\u001b[0;34m\u001b[0m\u001b[0m\n\u001b[0m\u001b[1;32m    358\u001b[0m         \u001b[0;32mreturn\u001b[0m \u001b[0mobj\u001b[0m\u001b[0;34m,\u001b[0m \u001b[0mend\u001b[0m\u001b[0;34m\u001b[0m\u001b[0m\n",
      "\u001b[0;31mJSONDecodeError\u001b[0m: Expecting value: line 1 column 1 (char 0)"
     ]
    }
   ],
   "source": [
    "keyset = json.loads(requests.get(platform_url + '/.well-known/jwks.json').text)\n",
    "\n",
    "md('#### Platform keyset')\n",
    "md('```json\\n'+ json.dumps(keyset, indent=4)+'```')\n",
    "\n",
    "platform_keys = {}\n",
    "\n",
    "# let's transform as a map for ease of use, and just the PEM because this is what is used by JWT lib\n",
    "for key in keyset['keys']:\n",
    "    public_key = RSAPublicNumbers(decode_int(key['e']), decode_int(key['n'])).public_key(default_backend())\n",
    "    pem = public_key.public_bytes(Encoding.PEM, PublicFormat.SubjectPublicKeyInfo)\n",
    "    platform_keys[key['kid']] = pem\n",
    "    \n"
   ]
  },
  {
   "cell_type": "markdown",
   "metadata": {},
   "source": [
    "## Deep Linking - Creating a Link\n",
    "This section will use the deep linking specification to create a Resource Link to the platform. That resource link will be gradable and used in the following sections of that notebook.\n",
    "\n",
    "[Deep Linking](https://www.imsglobal.org/specs/lticiv1p0) is a **UI flow**, it is an important piece that is sometimes missed on 1st reading. The user is redirected from the platform to the tool to pick or create one or multiple piece of content (often, LTI links), and the the tool redirects the UI back to the tool with the actual selection (or an empty payload if nothing was picked or created).\n",
    "\n",
    "So there are 2 messages:\n",
    "\n",
    "1. `LTIDeepLinkingRequest` from the platform to the tool to start the picking/create session. This is a typical platform launch that contains the context and the user information, and what kind of content items may be created in this flow (for example, this flow might indicate it only wants LTI links).\n",
    "1. `LTIDeepLinkingResponse` from the tool back to the plaform using the `content_item_return_url` provided in the request.\n",
    "\n",
    "Once a tool is added to a course, usually the first launch from the platform will be a Deep Linking request.\n",
    "\n",
    "<img src=\"assets/lti_advantage_deeplinking.png\" width=\"60%\">"
   ]
  },
  {
   "cell_type": "markdown",
   "metadata": {},
   "source": [
    "### Setup: Getting a Deep Linking Request\n",
    "\n",
    "This notebook is not a tool actually launched by the platform, so the test platform as way to give us the token that it would include in an actual HTTP POST request, so we can build a mock POST request including the parameter `post_data`."
   ]
  },
  {
   "cell_type": "code",
   "execution_count": 142,
   "metadata": {},
   "outputs": [
    {
     "data": {
      "text/markdown": [
       "`id_token=eyJ0eXAiOiJKV1QiLCJhbGciOiJSUzI1NiIsImtpZCI6IjE1MTg2NjUwMDlfMSJ9.eyJub25jZSI6ImI4MjBiNjM0LTExZmYtMTFlOC05NDY5LWM0OGU4ZmZiNzg1NyIsImh0dHA6Ly9pbXNnbG9iYWwub3JnL2x0aS92ZXJzaW9uIjoiMS4zLjAiLCJodHRwOi8vaW1zZ2xvYmFsLm9yZy9sdGkvdG9vbF9wbGF0Zm9ybSI6eyJndWlkIjoibHRpYmNfYXRfMTUxODY2NTAxMiIsIm5hbWUiOiJMVEkgQm9vdGNhbXAgUGxhdGZvcm0ifSwiaHR0cDovL2ltc2dsb2JhbC5vcmcvbHRpL2FncyI6eyJzY29wZSI6WyJodHRwOi8vaW1zZ2xvYmFsLm9yZy9hZ3MvbGluZWl0ZW0iLCJodHRwOi8vaW1zZ2xvYmFsLm9yZy9hZ3MvcmVzdWx0L3JlYWQiLCJodHRwOi8vaW1zZ2xvYmFsLm9yZy9hZ3Mvc2NvcmUvcHVibGlzaCJdLCJsaW5laXRlbXMiOiJodHRwOi8vbG9jYWxob3N0OjUwMDAvYjY2YTBhNWMtMTFmZi0xMWU4LTk0NjktYzQ4ZThmZmI3ODU3L2xpbmVpdGVtcyJ9LCJpc3MiOiJodHRwOi8vbG9jYWxob3N0OjUwMDAiLCJodHRwOi8vaW1zZ2xvYmFsLm9yZy9sdGkvZGVwbG95bWVudF9pZCI6ImRlcGxveW1lbnRfMCIsImVtYWlsIjoiS2FyYS5UaHJhY2VAZXhhbXBsZS5jb20iLCJmYW1pbHlfbmFtZSI6IlRocmFjZSIsImV4cCI6MTUxODY2NTEyMywiaHR0cDovL2ltc2dsb2JhbC5vcmcvbHRpL2xhdW5jaF9wcmVzZW50YXRpb24iOnsiZG9jdW1lbnRfdGFyZ2V0IjoiaWZyYW1lIiwicmV0dXJuX3VybCI6Imh0dHA6Ly9sb2NhbGhvc3Q6NTAwMC90b29sL2I2NmEwYTVjLTExZmYtMTFlOC05NDY5LWM0OGU4ZmZiNzg1Ny9jaXIifSwiaHR0cDovL2ltc2dsb2JhbC5vcmcvbHRpL2RlZXBfbGlua2luZ19yZXF1ZXN0Ijp7ImF1dG9fY3JlYXRlIjp0cnVlLCJhY2NlcHRfbXVsdGlwbGUiOnRydWUsImFjY2VwdF9tZWRpYV90eXBlcyI6WyJhcHBsaWNhdGlvbi92bmQuaW1zLmx0aS52MS5sdGlsaW5rIl0sImFjY2VwdF9wcmVzZW50YXRpb25fZG9jdW1lbnRfdGFyZ2V0cyI6WyJpZnJhbWUiLCJ3aW5kb3ciXSwiZGF0YSI6Im9wPTMyMSZ2PTQ0In0sImlhdCI6MTUxODY2NTA2MywiaHR0cDovL2ltc2dsb2JhbC5vcmcvbHRpL3Rva2VuIjoiaHR0cDovL2xvY2FsaG9zdDo1MDAwL2F1dGgvdG9rZW4iLCJhdWQiOiIwIiwiaHR0cDovL2ltc2dsb2JhbC5vcmcvbHRpL21lc3NhZ2VfdHlwZSI6IkxUSURlZXBMaW5raW5nUmVxdWVzdCIsImdpdmVuX25hbWUiOiJLYXJhIiwibmFtZSI6IkthcmEgVGhyYWNlIiwic3ViIjoiTFRJQkNVXzEzIiwiaHR0cDovL2ltc2dsb2JhbC5vcmcvbHRpL2NvbnRleHQiOnsiaWQiOiJiNjZhMGE1Yy0xMWZmLTExZTgtOTQ2OS1jNDhlOGZmYjc4NTciLCJsYWJlbCI6IkxUSSBCb290Y2FtcCBDb3Vyc2UiLCJ0eXBlIjpbIkNvdXJzZVNlY3Rpb24iXSwidGl0bGUiOiJMVEkgQm9vdGNhbXAgQ291cnNlIn0sImh0dHA6Ly9pbXNnbG9iYWwub3JnL2x0aS9yb2xlcyI6WyJodHRwOi8vcHVybC5pbXNnbG9iYWwub3JnL3ZvY2FiL2xpcy92Mi9tZW1iZXJzaGlwI0luc3RydWN0b3IiXX0.HPbKFddZxO3YCkhWNaPmkSpxLLy6XABABIv9KsXf-xr4R8t4UQikQltAFSnWPrTXWXmTbLOcV8FFKkVQXAnoIzSdAnsNyYmFxzNg8ZgRVWLEsNBT67wC9sve5s1mJYPqAA1T0SoPPN9tpPgNAZ1WEBq1JjQco6A2CEDdGVBK7TtV1taj688QahPYLb2RaQHGeQ3KFToeLz6zZLdO7QmQ9ZrSUKYwtNW0tMaPn0wJZQdpVphD65bdTM9vbfRnRkPWoDy1Qrr3G52iPlu8qR07BLn7s6Jg9_D4v2IUKSQMAnsyMXrbG6CgtgfiX0AK3KmNpPQMNDp07ID3vX2a6yKUCw`"
      ],
      "text/plain": [
       "<IPython.core.display.Markdown object>"
      ]
     },
     "metadata": {},
     "output_type": "display_data"
    }
   ],
   "source": [
    "r = requests.get(\"{}/tool/{}/cisr\".format(platform_url, tool_info['client_id']))\n",
    "\n",
    "post_data = {\n",
    "    'id_token':r.text\n",
    "}\n",
    "\n",
    "md('`id_token='+ r.text+'`')"
   ]
  },
  {
   "cell_type": "markdown",
   "metadata": {},
   "source": [
    "### Task 1: Verify the JWT is properly signed\n",
    "\n",
    "The first thing before to display to the user the picker/authoring interface to create the link is to validate this request is properly signed. This is done by decoding the JWT using public key from the platform.\n"
   ]
  },
  {
   "cell_type": "code",
   "execution_count": 143,
   "metadata": {},
   "outputs": [
    {
     "data": {
      "text/markdown": [
       "#### Message properly signed! Decoded ContentItemSelectionRequest message:"
      ],
      "text/plain": [
       "<IPython.core.display.Markdown object>"
      ]
     },
     "metadata": {},
     "output_type": "display_data"
    },
    {
     "data": {
      "text/markdown": [
       "```json\n",
       "{\n",
       "    \"http://imsglobal.org/lti/context\": {\n",
       "        \"id\": \"b66a0a5c-11ff-11e8-9469-c48e8ffb7857\",\n",
       "        \"label\": \"LTI Bootcamp Course\",\n",
       "        \"type\": [\n",
       "            \"CourseSection\"\n",
       "        ],\n",
       "        \"title\": \"LTI Bootcamp Course\"\n",
       "    },\n",
       "    \"http://imsglobal.org/lti/ags\": {\n",
       "        \"lineitems\": \"http://localhost:5000/b66a0a5c-11ff-11e8-9469-c48e8ffb7857/lineitems\",\n",
       "        \"scope\": [\n",
       "            \"http://imsglobal.org/ags/lineitem\",\n",
       "            \"http://imsglobal.org/ags/result/read\",\n",
       "            \"http://imsglobal.org/ags/score/publish\"\n",
       "        ]\n",
       "    },\n",
       "    \"http://imsglobal.org/lti/version\": \"1.3.0\",\n",
       "    \"name\": \"Kara Thrace\",\n",
       "    \"aud\": \"0\",\n",
       "    \"exp\": 1518665123,\n",
       "    \"nonce\": \"b820b634-11ff-11e8-9469-c48e8ffb7857\",\n",
       "    \"family_name\": \"Thrace\",\n",
       "    \"http://imsglobal.org/lti/launch_presentation\": {\n",
       "        \"document_target\": \"iframe\",\n",
       "        \"return_url\": \"http://localhost:5000/tool/b66a0a5c-11ff-11e8-9469-c48e8ffb7857/cir\"\n",
       "    },\n",
       "    \"iss\": \"http://localhost:5000\",\n",
       "    \"http://imsglobal.org/lti/roles\": [\n",
       "        \"http://purl.imsglobal.org/vocab/lis/v2/membership#Instructor\"\n",
       "    ],\n",
       "    \"email\": \"Kara.Thrace@example.com\",\n",
       "    \"http://imsglobal.org/lti/deployment_id\": \"deployment_0\",\n",
       "    \"http://imsglobal.org/lti/tool_platform\": {\n",
       "        \"guid\": \"ltibc_at_1518665012\",\n",
       "        \"name\": \"LTI Bootcamp Platform\"\n",
       "    },\n",
       "    \"iat\": 1518665063,\n",
       "    \"http://imsglobal.org/lti/deep_linking_request\": {\n",
       "        \"accept_multiple\": true,\n",
       "        \"accept_presentation_document_targets\": [\n",
       "            \"iframe\",\n",
       "            \"window\"\n",
       "        ],\n",
       "        \"data\": \"op=321&v=44\",\n",
       "        \"auto_create\": true,\n",
       "        \"accept_media_types\": [\n",
       "            \"application/vnd.ims.lti.v1.ltilink\"\n",
       "        ]\n",
       "    },\n",
       "    \"http://imsglobal.org/lti/message_type\": \"LTIDeepLinkingRequest\",\n",
       "    \"sub\": \"LTIBCU_13\",\n",
       "    \"given_name\": \"Kara\",\n",
       "    \"http://imsglobal.org/lti/token\": \"http://localhost:5000/auth/token\"\n",
       "}```"
      ],
      "text/plain": [
       "<IPython.core.display.Markdown object>"
      ]
     },
     "metadata": {},
     "output_type": "display_data"
    }
   ],
   "source": [
    "# Let's get the kid so we can get the proper public key\n",
    "\n",
    "# should check ISS first to lookup keyset\n",
    "\n",
    "encoded_jwt = post_data['id_token']\n",
    "jwt_headers = jwt.get_unverified_header(encoded_jwt)\n",
    "\n",
    "content_item_message = jwt.decode(encoded_jwt, \n",
    "                                  platform_keys[jwt_headers['kid']], \n",
    "                                  jwt_headers['alg'],\n",
    "                                  audience = tool_info['client_id'])\n",
    "\n",
    "md('#### Message properly signed! Decoded ContentItemSelectionRequest message:')\n",
    "md('```json\\n'+ json.dumps(content_item_message, indent=4)+'```')\n"
   ]
  },
  {
   "cell_type": "markdown",
   "metadata": {},
   "source": [
    "### Task 2: extract the information needed to render the selector/authoring UI\n",
    "\n",
    "If this is the first launch for the user or the course, as a tool you may prompt the user for setup information, including account linking or course setup. Ultimately the user will see the authoring or picking interface that will allow her to create or select the content items to be added to the course.\n",
    "\n",
    "Some key attributes of the `ContentItemSelectionRequest` will drive the experience:"
   ]
  },
  {
   "cell_type": "code",
   "execution_count": 144,
   "metadata": {},
   "outputs": [
    {
     "data": {
      "text/markdown": [
       "\n",
       "1. What is the current course id? b66a0a5c-11ff-11e8-9469-c48e8ffb7857\n",
       "1. What is the current user id? LTIBCU_13\n",
       "1. Is this user an instructor? True\n",
       "1. What kind of content item can be created? ['application/vnd.ims.lti.v1.ltilink']\n",
       "1. Can I return more than one items to be added? True\n",
       "1. Will the user be prompted before to actually save the items? False\n",
       "1. Where should I redirect the browser too when done? http://localhost:5000/tool/b66a0a5c-11ff-11e8-9469-c48e8ffb7857/cir\n",
       "1. Is there any data I must pass back to platform when I return? True"
      ],
      "text/plain": [
       "<IPython.core.display.Markdown object>"
      ]
     },
     "metadata": {},
     "output_type": "display_data"
    }
   ],
   "source": [
    "# fc(claim) prefix the claim with http://imsglobal.org/lti/\n",
    "mdb('1. What is the current course id? {0}'.format(content_item_message[fc('context')]['id']))\n",
    "mdb('1. What is the current user id? {0}'.format(content_item_message['sub']))\n",
    "is_instructor = len(list(filter(lambda x: 'instructor' in x.lower(), content_item_message[fc('roles')])))>0\n",
    "mdb('1. Is this user an instructor? {0}'.format(is_instructor))\n",
    "deep_linking_claim = content_item_message[fc('deep_linking_request')]\n",
    "mdb('1. What kind of content item can be created? {0}'.format(deep_linking_claim['accept_media_types']))\n",
    "mdb('1. Can I return more than one items to be added? {0}'.format(deep_linking_claim['accept_multiple']))\n",
    "mdb('1. Will the user be prompted before to actually save the items? {0}'.format(not deep_linking_claim['auto_create']))\n",
    "deep_linking_return_url = content_item_message[fc('launch_presentation')]['return_url']\n",
    "mdb('1. Where should I redirect the browser too when done? {0}'.format(deep_linking_return_url))\n",
    "mdb('1. Is there any data I must pass back to platform when I return? {0}'.format('data' in deep_linking_claim))\n",
    "mdb()"
   ]
  },
  {
   "cell_type": "markdown",
   "metadata": {},
   "source": [
    "### Task 3: building the response token\n",
    "\n",
    "After the end of the interaction, so user is sent back to the platform throught a browser redirection using an HTTP POST containing the JWT `ContentItemResponse` message. In this case, we will return 2 LTI links, one being graded (since the request supports multiple content items).\n",
    "\n",
    "Here we're creating the actual response token."
   ]
  },
  {
   "cell_type": "code",
   "execution_count": 145,
   "metadata": {},
   "outputs": [],
   "source": [
    "## First let's create our 2 content items\n",
    "## Note that the URLs are phony as for now there is now way to launch in the notebook anyway...\n",
    "simple_link =  {\n",
    "      \"mediaType\": \"application/vnd.ims.lti.v1.ltilink\",\n",
    "      \"url\": \"http://lti.bootcamp/item111\",\n",
    "      \"presentationDocumentTarget\": \"iframe\",\n",
    "      \"title\": \"A simple content item\",\n",
    "      \"text\": \"Some long text\",\n",
    "      \"icon\": {\n",
    "        \"url\": \"http://lti.example.com/image.jpg\",\n",
    "        \"width\": 100,\n",
    "        \"height\": 100\n",
    "      },\n",
    "      \"custom\": {\n",
    "        \"lab\": \"sim4e\"\n",
    "      }\n",
    "}\n",
    "\n",
    "assignment_link =  {\n",
    "      \"mediaType\": \"application/vnd.ims.lti.v1.ltilink\",\n",
    "      \"url\": \"http://lti.bootcamp/item111\",\n",
    "      \"presentationDocumentTarget\": \"iframe\",\n",
    "      \"title\": \"An assignment\",\n",
    "      \"text\": \"Chemical lab sim\",\n",
    "      \"icon\": {\n",
    "        \"url\": \"http://lti.example.com/image.jpg\",\n",
    "        \"width\": 100,\n",
    "        \"height\": 100\n",
    "      },\n",
    "      \"custom\": {\n",
    "        \"lab\": \"sim3a\",\n",
    "        \"level\": \"easy\"\n",
    "      },\n",
    "      \"lineItem\": {\n",
    "        \"scoreMaximum\": 34,\n",
    "        \"label\": \"Chemical lab sim\",\n",
    "        \"resourceId\": \"sim3a\",\n",
    "        \"tag\": \"final_grade\"\n",
    "      }\n",
    "}\n",
    "\n",
    "now = int(time())\n",
    "\n",
    "deep_linking_response = {\n",
    "    \"iss\": tool_info['client_id'],\n",
    "    \"aud\": content_item_message['iss'],\n",
    "    \"exp\": now + 60,\n",
    "    \"iat\": now,\n",
    "    \"http://imsglobal.org/lti/message_type\": \"DeepLinkingResponse\",\n",
    "    \"http://imsglobal.org/lti/version\": \"1.3.0\",\n",
    "    \"http://imsglobal.org/lti/content_items\": [\n",
    "        simple_link, assignment_link\n",
    "    ]\n",
    "    \n",
    "}"
   ]
  },
  {
   "cell_type": "markdown",
   "metadata": {},
   "source": [
    "### Task 4: build the signed JWT"
   ]
  },
  {
   "cell_type": "code",
   "execution_count": 146,
   "metadata": {},
   "outputs": [
    {
     "name": "stdout",
     "output_type": "stream",
     "text": [
      "eyJ0eXAiOiJKV1QiLCJhbGciOiJSUzI1NiJ9.eyJodHRwOi8vaW1zZ2xvYmFsLm9yZy9sdGkvdmVyc2lvbiI6IjEuMy4wIiwiaWF0IjoxNTE4NjY1MDY4LCJodHRwOi8vaW1zZ2xvYmFsLm9yZy9sdGkvY29udGVudF9pdGVtcyI6W3sidXJsIjoiaHR0cDovL2x0aS5ib290Y2FtcC9pdGVtMTExIiwibWVkaWFUeXBlIjoiYXBwbGljYXRpb24vdm5kLmltcy5sdGkudjEubHRpbGluayIsInRpdGxlIjoiQSBzaW1wbGUgY29udGVudCBpdGVtIiwidGV4dCI6IlNvbWUgbG9uZyB0ZXh0IiwiY3VzdG9tIjp7ImxhYiI6InNpbTRlIn0sInByZXNlbnRhdGlvbkRvY3VtZW50VGFyZ2V0IjoiaWZyYW1lIiwiaWNvbiI6eyJ3aWR0aCI6MTAwLCJ1cmwiOiJodHRwOi8vbHRpLmV4YW1wbGUuY29tL2ltYWdlLmpwZyIsImhlaWdodCI6MTAwfX0seyJ1cmwiOiJodHRwOi8vbHRpLmJvb3RjYW1wL2l0ZW0xMTEiLCJwcmVzZW50YXRpb25Eb2N1bWVudFRhcmdldCI6ImlmcmFtZSIsInRpdGxlIjoiQW4gYXNzaWdubWVudCIsInRleHQiOiJDaGVtaWNhbCBsYWIgc2ltIiwiY3VzdG9tIjp7ImxldmVsIjoiZWFzeSIsImxhYiI6InNpbTNhIn0sImxpbmVJdGVtIjp7InNjb3JlTWF4aW11bSI6MzQsInJlc291cmNlSWQiOiJzaW0zYSIsInRhZyI6ImZpbmFsX2dyYWRlIiwibGFiZWwiOiJDaGVtaWNhbCBsYWIgc2ltIn0sIm1lZGlhVHlwZSI6ImFwcGxpY2F0aW9uL3ZuZC5pbXMubHRpLnYxLmx0aWxpbmsiLCJpY29uIjp7IndpZHRoIjoxMDAsInVybCI6Imh0dHA6Ly9sdGkuZXhhbXBsZS5jb20vaW1hZ2UuanBnIiwiaGVpZ2h0IjoxMDB9fV0sImV4cCI6MTUxODY2NTEyOCwiaXNzIjoiMCIsImF1ZCI6Imh0dHA6Ly9sb2NhbGhvc3Q6NTAwMCIsImh0dHA6Ly9pbXNnbG9iYWwub3JnL2x0aS9tZXNzYWdlX3R5cGUiOiJEZWVwTGlua2luZ1Jlc3BvbnNlIn0.Oletqd-QaGnj01H1t4qcstFrZkwnNhztWDnypqNFKFSIIUbBj6tVPhKKe3niEXwoVY4N8kKLmU8sI2hNBk8QYa68NrjvXCGNmolA9iSDpZnqRqrJFJdLyZMURPxEHdwMeYh8uRE9_XlbxEjbjW03CJmRVYtNROLC3ZMSTw8O1lK5xGLpbC5JfNahMnTYJlU6k-uJ1jAA8neJnBfobSGfMYH3_jUlW3NQMaLCRd9p3N3U5h34LLwCGxffNumVh-xjd4B4IwO2iLkcdejaq-qCRL2KA87og6UG7mmohePeWtbHI48EJvWADOgDSOvkfZiZXcRK4C0KE6wDHSuv-8FgEg\n"
     ]
    }
   ],
   "source": [
    "deep_linking_response_token = jwt.encode(deep_linking_response, tool_info['webkeyPem'], 'RS256').decode()\n",
    "\n",
    "print(deep_linking_response_token)"
   ]
  },
  {
   "cell_type": "markdown",
   "metadata": {},
   "source": [
    "### Task 5: redirect the user back to the platform with the content item selection\n",
    "\n",
    "Now that we the response token, let's do the actual HTML POST redirection to the platform. Note that because the platform supports `autocreate` there will be no prompt. The 2 items will be added directly to the course.\n"
   ]
  },
  {
   "cell_type": "code",
   "execution_count": 147,
   "metadata": {},
   "outputs": [
    {
     "data": {
      "text/html": [
       "<iframe id=\"deeplinking_frame\" name=\"deeplinking_frame\" style=\"height: 300px; width:100%\"></iframe>"
      ],
      "text/plain": [
       "<IPython.core.display.HTML object>"
      ]
     },
     "metadata": {},
     "output_type": "display_data"
    },
    {
     "data": {
      "application/javascript": [
       "$.getScript(\"https://code.jquery.com/jquery-3.3.1.min.js\", function () {\n",
       "\n",
       "                var ltiForm = $('<form>');                \n",
       "                ltiForm.attr('action', 'http://localhost:5000/tool/b66a0a5c-11ff-11e8-9469-c48e8ffb7857/cir');\n",
       "                ltiForm.attr('method', 'POST');\n",
       "                ltiForm.attr('target', 'deeplinking_frame');\n",
       "                $('<input>').attr({\n",
       "                    type: 'hidden',\n",
       "                    name: 'jws_token',\n",
       "                    value: 'eyJ0eXAiOiJKV1QiLCJhbGciOiJSUzI1NiJ9.eyJodHRwOi8vaW1zZ2xvYmFsLm9yZy9sdGkvdmVyc2lvbiI6IjEuMy4wIiwiaWF0IjoxNTE4NjY1MDY4LCJodHRwOi8vaW1zZ2xvYmFsLm9yZy9sdGkvY29udGVudF9pdGVtcyI6W3sidXJsIjoiaHR0cDovL2x0aS5ib290Y2FtcC9pdGVtMTExIiwibWVkaWFUeXBlIjoiYXBwbGljYXRpb24vdm5kLmltcy5sdGkudjEubHRpbGluayIsInRpdGxlIjoiQSBzaW1wbGUgY29udGVudCBpdGVtIiwidGV4dCI6IlNvbWUgbG9uZyB0ZXh0IiwiY3VzdG9tIjp7ImxhYiI6InNpbTRlIn0sInByZXNlbnRhdGlvbkRvY3VtZW50VGFyZ2V0IjoiaWZyYW1lIiwiaWNvbiI6eyJ3aWR0aCI6MTAwLCJ1cmwiOiJodHRwOi8vbHRpLmV4YW1wbGUuY29tL2ltYWdlLmpwZyIsImhlaWdodCI6MTAwfX0seyJ1cmwiOiJodHRwOi8vbHRpLmJvb3RjYW1wL2l0ZW0xMTEiLCJwcmVzZW50YXRpb25Eb2N1bWVudFRhcmdldCI6ImlmcmFtZSIsInRpdGxlIjoiQW4gYXNzaWdubWVudCIsInRleHQiOiJDaGVtaWNhbCBsYWIgc2ltIiwiY3VzdG9tIjp7ImxldmVsIjoiZWFzeSIsImxhYiI6InNpbTNhIn0sImxpbmVJdGVtIjp7InNjb3JlTWF4aW11bSI6MzQsInJlc291cmNlSWQiOiJzaW0zYSIsInRhZyI6ImZpbmFsX2dyYWRlIiwibGFiZWwiOiJDaGVtaWNhbCBsYWIgc2ltIn0sIm1lZGlhVHlwZSI6ImFwcGxpY2F0aW9uL3ZuZC5pbXMubHRpLnYxLmx0aWxpbmsiLCJpY29uIjp7IndpZHRoIjoxMDAsInVybCI6Imh0dHA6Ly9sdGkuZXhhbXBsZS5jb20vaW1hZ2UuanBnIiwiaGVpZ2h0IjoxMDB9fV0sImV4cCI6MTUxODY2NTEyOCwiaXNzIjoiMCIsImF1ZCI6Imh0dHA6Ly9sb2NhbGhvc3Q6NTAwMCIsImh0dHA6Ly9pbXNnbG9iYWwub3JnL2x0aS9tZXNzYWdlX3R5cGUiOiJEZWVwTGlua2luZ1Jlc3BvbnNlIn0.Oletqd-QaGnj01H1t4qcstFrZkwnNhztWDnypqNFKFSIIUbBj6tVPhKKe3niEXwoVY4N8kKLmU8sI2hNBk8QYa68NrjvXCGNmolA9iSDpZnqRqrJFJdLyZMURPxEHdwMeYh8uRE9_XlbxEjbjW03CJmRVYtNROLC3ZMSTw8O1lK5xGLpbC5JfNahMnTYJlU6k-uJ1jAA8neJnBfobSGfMYH3_jUlW3NQMaLCRd9p3N3U5h34LLwCGxffNumVh-xjd4B4IwO2iLkcdejaq-qCRL2KA87og6UG7mmohePeWtbHI48EJvWADOgDSOvkfZiZXcRK4C0KE6wDHSuv-8FgEg'\n",
       "                }).appendTo(ltiForm);\n",
       "                $('#deeplinking_frame').before(ltiForm);\n",
       "                ltiForm.submit();\n",
       "                ltiForm.remove();\n",
       "                });\n"
      ],
      "text/plain": [
       "<IPython.core.display.Javascript object>"
      ]
     },
     "metadata": {},
     "output_type": "display_data"
    }
   ],
   "source": [
    "# Let's start by adding the JWS security claims\n",
    "content_item_response = {\n",
    "    'iss': tool_info['client_id'] ,\n",
    "    'aud': content_item_message['iss']\n",
    "}\n",
    "\n",
    "autosubmit_js = \"\"\"\n",
    "                var ltiForm = $('<form>');                \n",
    "                ltiForm.attr('action', '{url}');\n",
    "                ltiForm.attr('method', 'POST');\n",
    "                ltiForm.attr('target', 'deeplinking_frame');\n",
    "                $('<input>').attr({{\n",
    "                    type: 'hidden',\n",
    "                    name: 'jws_token',\n",
    "                    value: '{token}'\n",
    "                }}).appendTo(ltiForm);\n",
    "                $('#deeplinking_frame').before(ltiForm);\n",
    "                ltiForm.submit();\n",
    "                ltiForm.remove();\n",
    "                \"\"\"\n",
    "\n",
    "autosubmit_js = autosubmit_js.format(url=deep_linking_return_url, token=deep_linking_response_token)\n",
    "\n",
    "display(HTML('<iframe id=\"deeplinking_frame\" name=\"deeplinking_frame\" style=\"height: 300px; width:100%\"></iframe>'))\n",
    "display(Javascript(data=autosubmit_js, \n",
    "                   lib=\"https://code.jquery.com/jquery-3.3.1.min.js\"))"
   ]
  },
  {
   "cell_type": "markdown",
   "metadata": {},
   "source": [
    "## Student Resource Link launch\n",
    "\n",
    "Now that we have created resource links, let's handle a student launch from one of them. We're going to use a resource link with a **coupled** line item, so that we can use it to send a score back to the platform.\n",
    "\n",
    "### Setup\n",
    "\n",
    "The first thing we need, as with deep linking, is to get from the test platform the launch token which an actual tool would get in an actual HTML Form Post."
   ]
  },
  {
   "cell_type": "code",
   "execution_count": 150,
   "metadata": {},
   "outputs": [
    {
     "data": {
      "text/markdown": [
       "`id_token=<!DOCTYPE HTML PUBLIC \"-//W3C//DTD HTML 4.01 Transitional//EN\"\n",
       "  \"http://www.w3.org/TR/html4/loose.dtd\">\n",
       "<html>\n",
       "  <head>\n",
       "    <title>AttributeError: 'LineItem' object has no attribute 'id' // Werkzeug Debugger</title>\n",
       "    <link rel=\"stylesheet\" href=\"?__debugger__=yes&amp;cmd=resource&amp;f=style.css\"\n",
       "        type=\"text/css\">\n",
       "    <!-- We need to make sure this has a favicon so that the debugger does\n",
       "         not by accident trigger a request to /favicon.ico which might\n",
       "         change the application state. -->\n",
       "    <link rel=\"shortcut icon\"\n",
       "        href=\"?__debugger__=yes&amp;cmd=resource&amp;f=console.png\">\n",
       "    <script src=\"?__debugger__=yes&amp;cmd=resource&amp;f=jquery.js\"></script>\n",
       "    <script src=\"?__debugger__=yes&amp;cmd=resource&amp;f=debugger.js\"></script>\n",
       "    <script type=\"text/javascript\">\n",
       "      var TRACEBACK = 140714606927656,\n",
       "          CONSOLE_MODE = false,\n",
       "          EVALEX = true,\n",
       "          EVALEX_TRUSTED = false,\n",
       "          SECRET = \"sbxeTaweHc39TMEVsQ10\";\n",
       "    </script>\n",
       "  </head>\n",
       "  <body style=\"background-color: #fff\">\n",
       "    <div class=\"debugger\">\n",
       "<h1>builtins.AttributeError</h1>\n",
       "<div class=\"detail\">\n",
       "  <p class=\"errormsg\">AttributeError: 'LineItem' object has no attribute 'id'</p>\n",
       "</div>\n",
       "<h2 class=\"traceback\">Traceback <em>(most recent call last)</em></h2>\n",
       "<div class=\"traceback\">\n",
       "  \n",
       "  <ul><li><div class=\"frame\" id=\"frame-140714606927824\">\n",
       "  <h4>File <cite class=\"filename\">\"/home/claude/.py3envs/lti_bootcamp/lib/python3.5/site-packages/flask/app.py\"</cite>,\n",
       "      line <em class=\"line\">1997</em>,\n",
       "      in <code class=\"function\">__call__</code></h4>\n",
       "  <div class=\"source\"><pre class=\"line before\"><span class=\"ws\">                </span>error = None</pre>\n",
       "<pre class=\"line before\"><span class=\"ws\">            </span>ctx.auto_pop(error)</pre>\n",
       "<pre class=\"line before\"><span class=\"ws\"></span> </pre>\n",
       "<pre class=\"line before\"><span class=\"ws\">    </span>def __call__(self, environ, start_response):</pre>\n",
       "<pre class=\"line before\"><span class=\"ws\">        </span>&quot;&quot;&quot;Shortcut for :attr:`wsgi_app`.&quot;&quot;&quot;</pre>\n",
       "<pre class=\"line current\"><span class=\"ws\">        </span>return self.wsgi_app(environ, start_response)</pre>\n",
       "<pre class=\"line after\"><span class=\"ws\"></span> </pre>\n",
       "<pre class=\"line after\"><span class=\"ws\">    </span>def __repr__(self):</pre>\n",
       "<pre class=\"line after\"><span class=\"ws\">        </span>return '&lt;%s %r&gt;' % (</pre>\n",
       "<pre class=\"line after\"><span class=\"ws\">            </span>self.__class__.__name__,</pre>\n",
       "<pre class=\"line after\"><span class=\"ws\">            </span>self.name,</pre></div>\n",
       "</div>\n",
       "\n",
       "<li><div class=\"frame\" id=\"frame-140714606927768\">\n",
       "  <h4>File <cite class=\"filename\">\"/home/claude/.py3envs/lti_bootcamp/lib/python3.5/site-packages/flask/app.py\"</cite>,\n",
       "      line <em class=\"line\">1985</em>,\n",
       "      in <code class=\"function\">wsgi_app</code></h4>\n",
       "  <div class=\"source\"><pre class=\"line before\"><span class=\"ws\">        </span>try:</pre>\n",
       "<pre class=\"line before\"><span class=\"ws\">            </span>try:</pre>\n",
       "<pre class=\"line before\"><span class=\"ws\">                </span>response = self.full_dispatch_request()</pre>\n",
       "<pre class=\"line before\"><span class=\"ws\">            </span>except Exception as e:</pre>\n",
       "<pre class=\"line before\"><span class=\"ws\">                </span>error = e</pre>\n",
       "<pre class=\"line current\"><span class=\"ws\">                </span>response = self.handle_exception(e)</pre>\n",
       "<pre class=\"line after\"><span class=\"ws\">            </span>except:</pre>\n",
       "<pre class=\"line after\"><span class=\"ws\">                </span>error = sys.exc_info()[1]</pre>\n",
       "<pre class=\"line after\"><span class=\"ws\">                </span>raise</pre>\n",
       "<pre class=\"line after\"><span class=\"ws\">            </span>return response(environ, start_response)</pre>\n",
       "<pre class=\"line after\"><span class=\"ws\">        </span>finally:</pre></div>\n",
       "</div>\n",
       "\n",
       "<li><div class=\"frame\" id=\"frame-140714606760232\">\n",
       "  <h4>File <cite class=\"filename\">\"/home/claude/.py3envs/lti_bootcamp/lib/python3.5/site-packages/flask/app.py\"</cite>,\n",
       "      line <em class=\"line\">1540</em>,\n",
       "      in <code class=\"function\">handle_exception</code></h4>\n",
       "  <div class=\"source\"><pre class=\"line before\"><span class=\"ws\">            </span># if we want to repropagate the exception, we can attempt to</pre>\n",
       "<pre class=\"line before\"><span class=\"ws\">            </span># raise it with the whole traceback in case we can do that</pre>\n",
       "<pre class=\"line before\"><span class=\"ws\">            </span># (the function was actually called from the except part)</pre>\n",
       "<pre class=\"line before\"><span class=\"ws\">            </span># otherwise, we just raise the error again</pre>\n",
       "<pre class=\"line before\"><span class=\"ws\">            </span>if exc_value is e:</pre>\n",
       "<pre class=\"line current\"><span class=\"ws\">                </span>reraise(exc_type, exc_value, tb)</pre>\n",
       "<pre class=\"line after\"><span class=\"ws\">            </span>else:</pre>\n",
       "<pre class=\"line after\"><span class=\"ws\">                </span>raise e</pre>\n",
       "<pre class=\"line after\"><span class=\"ws\"></span> </pre>\n",
       "<pre class=\"line after\"><span class=\"ws\">        </span>self.log_exception((exc_type, exc_value, tb))</pre>\n",
       "<pre class=\"line after\"><span class=\"ws\">        </span>if handler is None:</pre></div>\n",
       "</div>\n",
       "\n",
       "<li><div class=\"frame\" id=\"frame-140714606760288\">\n",
       "  <h4>File <cite class=\"filename\">\"/home/claude/.py3envs/lti_bootcamp/lib/python3.5/site-packages/flask/_compat.py\"</cite>,\n",
       "      line <em class=\"line\">33</em>,\n",
       "      in <code class=\"function\">reraise</code></h4>\n",
       "  <div class=\"source\"><pre class=\"line before\"><span class=\"ws\">    </span>from io import StringIO</pre>\n",
       "<pre class=\"line before\"><span class=\"ws\"></span> </pre>\n",
       "<pre class=\"line before\"><span class=\"ws\">    </span>def reraise(tp, value, tb=None):</pre>\n",
       "<pre class=\"line before\"><span class=\"ws\">        </span>if value.__traceback__ is not tb:</pre>\n",
       "<pre class=\"line before\"><span class=\"ws\">            </span>raise value.with_traceback(tb)</pre>\n",
       "<pre class=\"line current\"><span class=\"ws\">        </span>raise value</pre>\n",
       "<pre class=\"line after\"><span class=\"ws\"></span> </pre>\n",
       "<pre class=\"line after\"><span class=\"ws\">    </span>implements_to_string = _identity</pre>\n",
       "<pre class=\"line after\"><span class=\"ws\"></span> </pre>\n",
       "<pre class=\"line after\"><span class=\"ws\"></span>else:</pre>\n",
       "<pre class=\"line after\"><span class=\"ws\">    </span>text_type = unicode</pre></div>\n",
       "</div>\n",
       "\n",
       "<li><div class=\"frame\" id=\"frame-140714606760120\">\n",
       "  <h4>File <cite class=\"filename\">\"/home/claude/.py3envs/lti_bootcamp/lib/python3.5/site-packages/flask/app.py\"</cite>,\n",
       "      line <em class=\"line\">1982</em>,\n",
       "      in <code class=\"function\">wsgi_app</code></h4>\n",
       "  <div class=\"source\"><pre class=\"line before\"><span class=\"ws\">        </span>ctx = self.request_context(environ)</pre>\n",
       "<pre class=\"line before\"><span class=\"ws\">        </span>ctx.push()</pre>\n",
       "<pre class=\"line before\"><span class=\"ws\">        </span>error = None</pre>\n",
       "<pre class=\"line before\"><span class=\"ws\">        </span>try:</pre>\n",
       "<pre class=\"line before\"><span class=\"ws\">            </span>try:</pre>\n",
       "<pre class=\"line current\"><span class=\"ws\">                </span>response = self.full_dispatch_request()</pre>\n",
       "<pre class=\"line after\"><span class=\"ws\">            </span>except Exception as e:</pre>\n",
       "<pre class=\"line after\"><span class=\"ws\">                </span>error = e</pre>\n",
       "<pre class=\"line after\"><span class=\"ws\">                </span>response = self.handle_exception(e)</pre>\n",
       "<pre class=\"line after\"><span class=\"ws\">            </span>except:</pre>\n",
       "<pre class=\"line after\"><span class=\"ws\">                </span>error = sys.exc_info()[1]</pre></div>\n",
       "</div>\n",
       "\n",
       "<li><div class=\"frame\" id=\"frame-140714606760400\">\n",
       "  <h4>File <cite class=\"filename\">\"/home/claude/.py3envs/lti_bootcamp/lib/python3.5/site-packages/flask/app.py\"</cite>,\n",
       "      line <em class=\"line\">1614</em>,\n",
       "      in <code class=\"function\">full_dispatch_request</code></h4>\n",
       "  <div class=\"source\"><pre class=\"line before\"><span class=\"ws\">            </span>request_started.send(self)</pre>\n",
       "<pre class=\"line before\"><span class=\"ws\">            </span>rv = self.preprocess_request()</pre>\n",
       "<pre class=\"line before\"><span class=\"ws\">            </span>if rv is None:</pre>\n",
       "<pre class=\"line before\"><span class=\"ws\">                </span>rv = self.dispatch_request()</pre>\n",
       "<pre class=\"line before\"><span class=\"ws\">        </span>except Exception as e:</pre>\n",
       "<pre class=\"line current\"><span class=\"ws\">            </span>rv = self.handle_user_exception(e)</pre>\n",
       "<pre class=\"line after\"><span class=\"ws\">        </span>return self.finalize_request(rv)</pre>\n",
       "<pre class=\"line after\"><span class=\"ws\"></span> </pre>\n",
       "<pre class=\"line after\"><span class=\"ws\">    </span>def finalize_request(self, rv, from_error_handler=False):</pre>\n",
       "<pre class=\"line after\"><span class=\"ws\">        </span>&quot;&quot;&quot;Given the return value from a view function this finalizes</pre>\n",
       "<pre class=\"line after\"><span class=\"ws\">        </span>the request by converting it into a response and invoking the</pre></div>\n",
       "</div>\n",
       "\n",
       "<li><div class=\"frame\" id=\"frame-140714606760456\">\n",
       "  <h4>File <cite class=\"filename\">\"/home/claude/.py3envs/lti_bootcamp/lib/python3.5/site-packages/flask/app.py\"</cite>,\n",
       "      line <em class=\"line\">1517</em>,\n",
       "      in <code class=\"function\">handle_user_exception</code></h4>\n",
       "  <div class=\"source\"><pre class=\"line before\"><span class=\"ws\">            </span>return self.handle_http_exception(e)</pre>\n",
       "<pre class=\"line before\"><span class=\"ws\"></span> </pre>\n",
       "<pre class=\"line before\"><span class=\"ws\">        </span>handler = self._find_error_handler(e)</pre>\n",
       "<pre class=\"line before\"><span class=\"ws\"></span> </pre>\n",
       "<pre class=\"line before\"><span class=\"ws\">        </span>if handler is None:</pre>\n",
       "<pre class=\"line current\"><span class=\"ws\">            </span>reraise(exc_type, exc_value, tb)</pre>\n",
       "<pre class=\"line after\"><span class=\"ws\">        </span>return handler(e)</pre>\n",
       "<pre class=\"line after\"><span class=\"ws\"></span> </pre>\n",
       "<pre class=\"line after\"><span class=\"ws\">    </span>def handle_exception(self, e):</pre>\n",
       "<pre class=\"line after\"><span class=\"ws\">        </span>&quot;&quot;&quot;Default exception handling that kicks in when an exception</pre>\n",
       "<pre class=\"line after\"><span class=\"ws\">        </span>occurs that is not caught.  In debug mode the exception will</pre></div>\n",
       "</div>\n",
       "\n",
       "<li><div class=\"frame\" id=\"frame-140714606760512\">\n",
       "  <h4>File <cite class=\"filename\">\"/home/claude/.py3envs/lti_bootcamp/lib/python3.5/site-packages/flask/_compat.py\"</cite>,\n",
       "      line <em class=\"line\">33</em>,\n",
       "      in <code class=\"function\">reraise</code></h4>\n",
       "  <div class=\"source\"><pre class=\"line before\"><span class=\"ws\">    </span>from io import StringIO</pre>\n",
       "<pre class=\"line before\"><span class=\"ws\"></span> </pre>\n",
       "<pre class=\"line before\"><span class=\"ws\">    </span>def reraise(tp, value, tb=None):</pre>\n",
       "<pre class=\"line before\"><span class=\"ws\">        </span>if value.__traceback__ is not tb:</pre>\n",
       "<pre class=\"line before\"><span class=\"ws\">            </span>raise value.with_traceback(tb)</pre>\n",
       "<pre class=\"line current\"><span class=\"ws\">        </span>raise value</pre>\n",
       "<pre class=\"line after\"><span class=\"ws\"></span> </pre>\n",
       "<pre class=\"line after\"><span class=\"ws\">    </span>implements_to_string = _identity</pre>\n",
       "<pre class=\"line after\"><span class=\"ws\"></span> </pre>\n",
       "<pre class=\"line after\"><span class=\"ws\"></span>else:</pre>\n",
       "<pre class=\"line after\"><span class=\"ws\">    </span>text_type = unicode</pre></div>\n",
       "</div>\n",
       "\n",
       "<li><div class=\"frame\" id=\"frame-140714606760176\">\n",
       "  <h4>File <cite class=\"filename\">\"/home/claude/.py3envs/lti_bootcamp/lib/python3.5/site-packages/flask/app.py\"</cite>,\n",
       "      line <em class=\"line\">1612</em>,\n",
       "      in <code class=\"function\">full_dispatch_request</code></h4>\n",
       "  <div class=\"source\"><pre class=\"line before\"><span class=\"ws\">        </span>self.try_trigger_before_first_request_functions()</pre>\n",
       "<pre class=\"line before\"><span class=\"ws\">        </span>try:</pre>\n",
       "<pre class=\"line before\"><span class=\"ws\">            </span>request_started.send(self)</pre>\n",
       "<pre class=\"line before\"><span class=\"ws\">            </span>rv = self.preprocess_request()</pre>\n",
       "<pre class=\"line before\"><span class=\"ws\">            </span>if rv is None:</pre>\n",
       "<pre class=\"line current\"><span class=\"ws\">                </span>rv = self.dispatch_request()</pre>\n",
       "<pre class=\"line after\"><span class=\"ws\">        </span>except Exception as e:</pre>\n",
       "<pre class=\"line after\"><span class=\"ws\">            </span>rv = self.handle_user_exception(e)</pre>\n",
       "<pre class=\"line after\"><span class=\"ws\">        </span>return self.finalize_request(rv)</pre>\n",
       "<pre class=\"line after\"><span class=\"ws\"></span> </pre>\n",
       "<pre class=\"line after\"><span class=\"ws\">    </span>def finalize_request(self, rv, from_error_handler=False):</pre></div>\n",
       "</div>\n",
       "\n",
       "<li><div class=\"frame\" id=\"frame-140714606760624\">\n",
       "  <h4>File <cite class=\"filename\">\"/home/claude/.py3envs/lti_bootcamp/lib/python3.5/site-packages/flask/app.py\"</cite>,\n",
       "      line <em class=\"line\">1598</em>,\n",
       "      in <code class=\"function\">dispatch_request</code></h4>\n",
       "  <div class=\"source\"><pre class=\"line before\"><span class=\"ws\">        </span># request came with the OPTIONS method, reply automatically</pre>\n",
       "<pre class=\"line before\"><span class=\"ws\">        </span>if getattr(rule, 'provide_automatic_options', False) \\</pre>\n",
       "<pre class=\"line before\"><span class=\"ws\">           </span>and req.method == 'OPTIONS':</pre>\n",
       "<pre class=\"line before\"><span class=\"ws\">            </span>return self.make_default_options_response()</pre>\n",
       "<pre class=\"line before\"><span class=\"ws\">        </span># otherwise dispatch to the handler for that endpoint</pre>\n",
       "<pre class=\"line current\"><span class=\"ws\">        </span>return self.view_functions[rule.endpoint](**req.view_args)</pre>\n",
       "<pre class=\"line after\"><span class=\"ws\"></span> </pre>\n",
       "<pre class=\"line after\"><span class=\"ws\">    </span>def full_dispatch_request(self):</pre>\n",
       "<pre class=\"line after\"><span class=\"ws\">        </span>&quot;&quot;&quot;Dispatches the request and on top of that performs request</pre>\n",
       "<pre class=\"line after\"><span class=\"ws\">        </span>pre and postprocessing as well as HTTP exception catching and</pre>\n",
       "<pre class=\"line after\"><span class=\"ws\">        </span>error handling.</pre></div>\n",
       "</div>\n",
       "\n",
       "<li><div class=\"frame\" id=\"frame-140714606760680\">\n",
       "  <h4>File <cite class=\"filename\">\"/home/claude/projects/lti_bootcamp/server/lti_platform.py\"</cite>,\n",
       "      line <em class=\"line\">77</em>,\n",
       "      in <code class=\"function\">student_launch</code></h4>\n",
       "  <div class=\"source\"><pre class=\"line before\"><span class=\"ws\">                                            </span>course,</pre>\n",
       "<pre class=\"line before\"><span class=\"ws\">                                            </span>course.roster.getOneStudent(),</pre>\n",
       "<pre class=\"line before\"><span class=\"ws\">                                            </span>{},</pre>\n",
       "<pre class=\"line before\"><span class=\"ws\">                                            </span>request.url_root,</pre>\n",
       "<pre class=\"line before\"><span class=\"ws\">                                            </span>request_url=request.url_root,</pre>\n",
       "<pre class=\"line current\"><span class=\"ws\">                                            </span>resource_link=resource_link)</pre>\n",
       "<pre class=\"line after\"><span class=\"ws\"></span> </pre>\n",
       "<pre class=\"line after\"><span class=\"ws\"></span> </pre>\n",
       "<pre class=\"line after\"><span class=\"ws\"></span>@app.route(&quot;/course/&lt;course_id&gt;&quot;)</pre>\n",
       "<pre class=\"line after\"><span class=\"ws\"></span>def show_course(course_id):</pre>\n",
       "<pre class=\"line after\"><span class=\"ws\">    </span>return render_template('courseoutline.html', course=platform.get_course(course_id))</pre></div>\n",
       "</div>\n",
       "\n",
       "<li><div class=\"frame\" id=\"frame-140714606760064\">\n",
       "  <h4>File <cite class=\"filename\">\"/home/claude/projects/lti_bootcamp/server/ltiplatform/ltiplatform_manager.py\"</cite>,\n",
       "      line <em class=\"line\">53</em>,\n",
       "      in <code class=\"function\">token</code></h4>\n",
       "  <div class=\"source\"><pre class=\"line before\"><span class=\"ws\">        </span>message = course.addToMessage(message)</pre>\n",
       "<pre class=\"line before\"><span class=\"ws\"></span> </pre>\n",
       "<pre class=\"line before\"><span class=\"ws\">        </span>if resource_link:</pre>\n",
       "<pre class=\"line before\"><span class=\"ws\">            </span>message = resource_link.addToMessage(message)</pre>\n",
       "<pre class=\"line before\"><span class=\"ws\">            </span>if resource_link.lineitem:</pre>\n",
       "<pre class=\"line current\"><span class=\"ws\">                </span>ags_claim['lineitem'] = '{0}/{1}/lineitems/{2}'.format(root_url, course.id, resource_link.lineitem.id)</pre>\n",
       "<pre class=\"line after\"><span class=\"ws\"></span> </pre>\n",
       "<pre class=\"line after\"><span class=\"ws\">        </span>message['http://imsglobal.org/lti/ags'] = ags_claim</pre>\n",
       "<pre class=\"line after\"><span class=\"ws\">        </span>message = self.platform.addToMessage(message)</pre>\n",
       "<pre class=\"line after\"><span class=\"ws\">        </span>return jwt.encode(message, privatekey, algorithm='RS256', headers={'kid':key[0]})</pre>\n",
       "<pre class=\"line after\"><span class=\"ws\"></span> </pre></div>\n",
       "</div>\n",
       "</ul>\n",
       "  <blockquote>AttributeError: 'LineItem' object has no attribute 'id'</blockquote>\n",
       "</div>\n",
       "\n",
       "<div class=\"plain\">\n",
       "  <form action=\"/?__debugger__=yes&amp;cmd=paste\" method=\"post\">\n",
       "    <p>\n",
       "      <input type=\"hidden\" name=\"language\" value=\"pytb\">\n",
       "      This is the Copy/Paste friendly version of the traceback.  <span\n",
       "      class=\"pastemessage\">You can also paste this traceback into\n",
       "      a <a href=\"https://gist.github.com/\">gist</a>:\n",
       "      <input type=\"submit\" value=\"create paste\"></span>\n",
       "    </p>\n",
       "    <textarea cols=\"50\" rows=\"10\" name=\"code\" readonly>Traceback (most recent call last):\n",
       "  File &quot;/home/claude/.py3envs/lti_bootcamp/lib/python3.5/site-packages/flask/app.py&quot;, line 1997, in __call__\n",
       "    return self.wsgi_app(environ, start_response)\n",
       "  File &quot;/home/claude/.py3envs/lti_bootcamp/lib/python3.5/site-packages/flask/app.py&quot;, line 1985, in wsgi_app\n",
       "    response = self.handle_exception(e)\n",
       "  File &quot;/home/claude/.py3envs/lti_bootcamp/lib/python3.5/site-packages/flask/app.py&quot;, line 1540, in handle_exception\n",
       "    reraise(exc_type, exc_value, tb)\n",
       "  File &quot;/home/claude/.py3envs/lti_bootcamp/lib/python3.5/site-packages/flask/_compat.py&quot;, line 33, in reraise\n",
       "    raise value\n",
       "  File &quot;/home/claude/.py3envs/lti_bootcamp/lib/python3.5/site-packages/flask/app.py&quot;, line 1982, in wsgi_app\n",
       "    response = self.full_dispatch_request()\n",
       "  File &quot;/home/claude/.py3envs/lti_bootcamp/lib/python3.5/site-packages/flask/app.py&quot;, line 1614, in full_dispatch_request\n",
       "    rv = self.handle_user_exception(e)\n",
       "  File &quot;/home/claude/.py3envs/lti_bootcamp/lib/python3.5/site-packages/flask/app.py&quot;, line 1517, in handle_user_exception\n",
       "    reraise(exc_type, exc_value, tb)\n",
       "  File &quot;/home/claude/.py3envs/lti_bootcamp/lib/python3.5/site-packages/flask/_compat.py&quot;, line 33, in reraise\n",
       "    raise value\n",
       "  File &quot;/home/claude/.py3envs/lti_bootcamp/lib/python3.5/site-packages/flask/app.py&quot;, line 1612, in full_dispatch_request\n",
       "    rv = self.dispatch_request()\n",
       "  File &quot;/home/claude/.py3envs/lti_bootcamp/lib/python3.5/site-packages/flask/app.py&quot;, line 1598, in dispatch_request\n",
       "    return self.view_functions[rule.endpoint](**req.view_args)\n",
       "  File &quot;/home/claude/projects/lti_bootcamp/server/lti_platform.py&quot;, line 77, in student_launch\n",
       "    resource_link=resource_link)\n",
       "  File &quot;/home/claude/projects/lti_bootcamp/server/ltiplatform/ltiplatform_manager.py&quot;, line 53, in token\n",
       "    ags_claim['lineitem'] = '{0}/{1}/lineitems/{2}'.format(root_url, course.id, resource_link.lineitem.id)\n",
       "AttributeError: 'LineItem' object has no attribute 'id'</textarea>\n",
       "  </form>\n",
       "</div>\n",
       "<div class=\"explanation\">\n",
       "  The debugger caught an exception in your WSGI application.  You can now\n",
       "  look at the traceback which led to the error.  <span class=\"nojavascript\">\n",
       "  If you enable JavaScript you can also use additional features such as code\n",
       "  execution (if the evalex feature is enabled), automatic pasting of the\n",
       "  exceptions and much more.</span>\n",
       "</div>\n",
       "      <div class=\"footer\">\n",
       "        Brought to you by <strong class=\"arthur\">DON'T PANIC</strong>, your\n",
       "        friendly Werkzeug powered traceback interpreter.\n",
       "      </div>\n",
       "    </div>\n",
       "\n",
       "    <div class=\"pin-prompt\">\n",
       "      <div class=\"inner\">\n",
       "        <h3>Console Locked</h3>\n",
       "        <p>\n",
       "          The console is locked and needs to be unlocked by entering the PIN.\n",
       "          You can find the PIN printed out on the standard output of your\n",
       "          shell that runs the server.\n",
       "        <form>\n",
       "          <p>PIN:\n",
       "            <input type=text name=pin size=14>\n",
       "            <input type=submit name=btn value=\"Confirm Pin\">\n",
       "        </form>\n",
       "      </div>\n",
       "    </div>\n",
       "  </body>\n",
       "</html>\n",
       "\n",
       "<!--\n",
       "\n",
       "Traceback (most recent call last):\n",
       "  File \"/home/claude/.py3envs/lti_bootcamp/lib/python3.5/site-packages/flask/app.py\", line 1997, in __call__\n",
       "    return self.wsgi_app(environ, start_response)\n",
       "  File \"/home/claude/.py3envs/lti_bootcamp/lib/python3.5/site-packages/flask/app.py\", line 1985, in wsgi_app\n",
       "    response = self.handle_exception(e)\n",
       "  File \"/home/claude/.py3envs/lti_bootcamp/lib/python3.5/site-packages/flask/app.py\", line 1540, in handle_exception\n",
       "    reraise(exc_type, exc_value, tb)\n",
       "  File \"/home/claude/.py3envs/lti_bootcamp/lib/python3.5/site-packages/flask/_compat.py\", line 33, in reraise\n",
       "    raise value\n",
       "  File \"/home/claude/.py3envs/lti_bootcamp/lib/python3.5/site-packages/flask/app.py\", line 1982, in wsgi_app\n",
       "    response = self.full_dispatch_request()\n",
       "  File \"/home/claude/.py3envs/lti_bootcamp/lib/python3.5/site-packages/flask/app.py\", line 1614, in full_dispatch_request\n",
       "    rv = self.handle_user_exception(e)\n",
       "  File \"/home/claude/.py3envs/lti_bootcamp/lib/python3.5/site-packages/flask/app.py\", line 1517, in handle_user_exception\n",
       "    reraise(exc_type, exc_value, tb)\n",
       "  File \"/home/claude/.py3envs/lti_bootcamp/lib/python3.5/site-packages/flask/_compat.py\", line 33, in reraise\n",
       "    raise value\n",
       "  File \"/home/claude/.py3envs/lti_bootcamp/lib/python3.5/site-packages/flask/app.py\", line 1612, in full_dispatch_request\n",
       "    rv = self.dispatch_request()\n",
       "  File \"/home/claude/.py3envs/lti_bootcamp/lib/python3.5/site-packages/flask/app.py\", line 1598, in dispatch_request\n",
       "    return self.view_functions[rule.endpoint](**req.view_args)\n",
       "  File \"/home/claude/projects/lti_bootcamp/server/lti_platform.py\", line 77, in student_launch\n",
       "    resource_link=resource_link)\n",
       "  File \"/home/claude/projects/lti_bootcamp/server/ltiplatform/ltiplatform_manager.py\", line 53, in token\n",
       "    ags_claim['lineitem'] = '{0}/{1}/lineitems/{2}'.format(root_url, course.id, resource_link.lineitem.id)\n",
       "AttributeError: 'LineItem' object has no attribute 'id'\n",
       "\n",
       "-->\n",
       "`"
      ],
      "text/plain": [
       "<IPython.core.display.Markdown object>"
      ]
     },
     "metadata": {},
     "output_type": "display_data"
    }
   ],
   "source": [
    "# select an id from the ones displayed in the course platform in the IFrame above\n",
    "# if not specified the platform will pick a resource to use\n",
    "\n",
    "resource_link_id = 'bc5bec65-11ff-11e8-9469-c48e8ffb7857'\n",
    "context_id = content_item_message['http://imsglobal.org/lti/context']['id']\n",
    "\n",
    "r = requests.get(\"{}/tool/{}/context/{}/studentlaunch?rlid={}\".format(platform_url, \n",
    "                                                           tool_info['client_id'], \n",
    "                                                           context_id, \n",
    "                                                           resource_link_id))\n",
    "\n",
    "post_data = {\n",
    "    'id_token':r.text\n",
    "}\n",
    "\n",
    "md('`id_token='+ r.text+'`')"
   ]
  },
  {
   "cell_type": "markdown",
   "metadata": {},
   "source": [
    "### Task 1: Decode the launch\n",
    "\n",
    "Now, same as with the Deep Linking request, we decode the token:"
   ]
  },
  {
   "cell_type": "code",
   "execution_count": 149,
   "metadata": {
    "scrolled": true
   },
   "outputs": [
    {
     "ename": "DecodeError",
     "evalue": "Invalid header padding",
     "output_type": "error",
     "traceback": [
      "\u001b[0;31m---------------------------------------------------------------------------\u001b[0m",
      "\u001b[0;31mError\u001b[0m                                     Traceback (most recent call last)",
      "\u001b[0;32m~/.py3envs/jupyter/lib/python3.5/site-packages/jwt/api_jws.py\u001b[0m in \u001b[0;36m_load\u001b[0;34m(self, jwt)\u001b[0m\n\u001b[1;32m    169\u001b[0m         \u001b[0;32mtry\u001b[0m\u001b[0;34m:\u001b[0m\u001b[0;34m\u001b[0m\u001b[0m\n\u001b[0;32m--> 170\u001b[0;31m             \u001b[0mheader_data\u001b[0m \u001b[0;34m=\u001b[0m \u001b[0mbase64url_decode\u001b[0m\u001b[0;34m(\u001b[0m\u001b[0mheader_segment\u001b[0m\u001b[0;34m)\u001b[0m\u001b[0;34m\u001b[0m\u001b[0m\n\u001b[0m\u001b[1;32m    171\u001b[0m         \u001b[0;32mexcept\u001b[0m \u001b[0;34m(\u001b[0m\u001b[0mTypeError\u001b[0m\u001b[0;34m,\u001b[0m \u001b[0mbinascii\u001b[0m\u001b[0;34m.\u001b[0m\u001b[0mError\u001b[0m\u001b[0;34m)\u001b[0m\u001b[0;34m:\u001b[0m\u001b[0;34m\u001b[0m\u001b[0m\n",
      "\u001b[0;32m~/.py3envs/jupyter/lib/python3.5/site-packages/jwt/utils.py\u001b[0m in \u001b[0;36mbase64url_decode\u001b[0;34m(input)\u001b[0m\n\u001b[1;32m     41\u001b[0m \u001b[0;34m\u001b[0m\u001b[0m\n\u001b[0;32m---> 42\u001b[0;31m     \u001b[0;32mreturn\u001b[0m \u001b[0mbase64\u001b[0m\u001b[0;34m.\u001b[0m\u001b[0murlsafe_b64decode\u001b[0m\u001b[0;34m(\u001b[0m\u001b[0minput\u001b[0m\u001b[0;34m)\u001b[0m\u001b[0;34m\u001b[0m\u001b[0m\n\u001b[0m\u001b[1;32m     43\u001b[0m \u001b[0;34m\u001b[0m\u001b[0m\n",
      "\u001b[0;32m/usr/lib/python3.5/base64.py\u001b[0m in \u001b[0;36murlsafe_b64decode\u001b[0;34m(s)\u001b[0m\n\u001b[1;32m    133\u001b[0m     \u001b[0ms\u001b[0m \u001b[0;34m=\u001b[0m \u001b[0ms\u001b[0m\u001b[0;34m.\u001b[0m\u001b[0mtranslate\u001b[0m\u001b[0;34m(\u001b[0m\u001b[0m_urlsafe_decode_translation\u001b[0m\u001b[0;34m)\u001b[0m\u001b[0;34m\u001b[0m\u001b[0m\n\u001b[0;32m--> 134\u001b[0;31m     \u001b[0;32mreturn\u001b[0m \u001b[0mb64decode\u001b[0m\u001b[0;34m(\u001b[0m\u001b[0ms\u001b[0m\u001b[0;34m)\u001b[0m\u001b[0;34m\u001b[0m\u001b[0m\n\u001b[0m\u001b[1;32m    135\u001b[0m \u001b[0;34m\u001b[0m\u001b[0m\n",
      "\u001b[0;32m/usr/lib/python3.5/base64.py\u001b[0m in \u001b[0;36mb64decode\u001b[0;34m(s, altchars, validate)\u001b[0m\n\u001b[1;32m     87\u001b[0m         \u001b[0;32mraise\u001b[0m \u001b[0mbinascii\u001b[0m\u001b[0;34m.\u001b[0m\u001b[0mError\u001b[0m\u001b[0;34m(\u001b[0m\u001b[0;34m'Non-base64 digit found'\u001b[0m\u001b[0;34m)\u001b[0m\u001b[0;34m\u001b[0m\u001b[0m\n\u001b[0;32m---> 88\u001b[0;31m     \u001b[0;32mreturn\u001b[0m \u001b[0mbinascii\u001b[0m\u001b[0;34m.\u001b[0m\u001b[0ma2b_base64\u001b[0m\u001b[0;34m(\u001b[0m\u001b[0ms\u001b[0m\u001b[0;34m)\u001b[0m\u001b[0;34m\u001b[0m\u001b[0m\n\u001b[0m\u001b[1;32m     89\u001b[0m \u001b[0;34m\u001b[0m\u001b[0m\n",
      "\u001b[0;31mError\u001b[0m: Incorrect padding",
      "\nDuring handling of the above exception, another exception occurred:\n",
      "\u001b[0;31mDecodeError\u001b[0m                               Traceback (most recent call last)",
      "\u001b[0;32m<ipython-input-149-81b77e96f431>\u001b[0m in \u001b[0;36m<module>\u001b[0;34m()\u001b[0m\n\u001b[1;32m      1\u001b[0m \u001b[0mencoded_jwt\u001b[0m \u001b[0;34m=\u001b[0m \u001b[0mpost_data\u001b[0m\u001b[0;34m[\u001b[0m\u001b[0;34m'id_token'\u001b[0m\u001b[0;34m]\u001b[0m\u001b[0;34m\u001b[0m\u001b[0m\n\u001b[0;32m----> 2\u001b[0;31m \u001b[0mjwt_headers\u001b[0m \u001b[0;34m=\u001b[0m \u001b[0mjwt\u001b[0m\u001b[0;34m.\u001b[0m\u001b[0mget_unverified_header\u001b[0m\u001b[0;34m(\u001b[0m\u001b[0mencoded_jwt\u001b[0m\u001b[0;34m)\u001b[0m\u001b[0;34m\u001b[0m\u001b[0m\n\u001b[0m\u001b[1;32m      3\u001b[0m \u001b[0;34m\u001b[0m\u001b[0m\n\u001b[1;32m      4\u001b[0m student_launch = jwt.decode(encoded_jwt, \n\u001b[1;32m      5\u001b[0m                             \u001b[0mplatform_keys\u001b[0m\u001b[0;34m[\u001b[0m\u001b[0mjwt_headers\u001b[0m\u001b[0;34m[\u001b[0m\u001b[0;34m'kid'\u001b[0m\u001b[0;34m]\u001b[0m\u001b[0;34m]\u001b[0m\u001b[0;34m,\u001b[0m\u001b[0;34m\u001b[0m\u001b[0m\n",
      "\u001b[0;32m~/.py3envs/jupyter/lib/python3.5/site-packages/jwt/api_jws.py\u001b[0m in \u001b[0;36mget_unverified_header\u001b[0;34m(self, jwt)\u001b[0m\n\u001b[1;32m    148\u001b[0m         \u001b[0mshould\u001b[0m \u001b[0;32mnot\u001b[0m \u001b[0mbe\u001b[0m \u001b[0mfully\u001b[0m \u001b[0mtrusted\u001b[0m \u001b[0muntil\u001b[0m \u001b[0msignature\u001b[0m \u001b[0mverification\u001b[0m \u001b[0;32mis\u001b[0m \u001b[0mcomplete\u001b[0m\u001b[0;34m\u001b[0m\u001b[0m\n\u001b[1;32m    149\u001b[0m         \"\"\"\n\u001b[0;32m--> 150\u001b[0;31m         \u001b[0mheaders\u001b[0m \u001b[0;34m=\u001b[0m \u001b[0mself\u001b[0m\u001b[0;34m.\u001b[0m\u001b[0m_load\u001b[0m\u001b[0;34m(\u001b[0m\u001b[0mjwt\u001b[0m\u001b[0;34m)\u001b[0m\u001b[0;34m[\u001b[0m\u001b[0;36m2\u001b[0m\u001b[0;34m]\u001b[0m\u001b[0;34m\u001b[0m\u001b[0m\n\u001b[0m\u001b[1;32m    151\u001b[0m         \u001b[0mself\u001b[0m\u001b[0;34m.\u001b[0m\u001b[0m_validate_headers\u001b[0m\u001b[0;34m(\u001b[0m\u001b[0mheaders\u001b[0m\u001b[0;34m)\u001b[0m\u001b[0;34m\u001b[0m\u001b[0m\n\u001b[1;32m    152\u001b[0m \u001b[0;34m\u001b[0m\u001b[0m\n",
      "\u001b[0;32m~/.py3envs/jupyter/lib/python3.5/site-packages/jwt/api_jws.py\u001b[0m in \u001b[0;36m_load\u001b[0;34m(self, jwt)\u001b[0m\n\u001b[1;32m    170\u001b[0m             \u001b[0mheader_data\u001b[0m \u001b[0;34m=\u001b[0m \u001b[0mbase64url_decode\u001b[0m\u001b[0;34m(\u001b[0m\u001b[0mheader_segment\u001b[0m\u001b[0;34m)\u001b[0m\u001b[0;34m\u001b[0m\u001b[0m\n\u001b[1;32m    171\u001b[0m         \u001b[0;32mexcept\u001b[0m \u001b[0;34m(\u001b[0m\u001b[0mTypeError\u001b[0m\u001b[0;34m,\u001b[0m \u001b[0mbinascii\u001b[0m\u001b[0;34m.\u001b[0m\u001b[0mError\u001b[0m\u001b[0;34m)\u001b[0m\u001b[0;34m:\u001b[0m\u001b[0;34m\u001b[0m\u001b[0m\n\u001b[0;32m--> 172\u001b[0;31m             \u001b[0;32mraise\u001b[0m \u001b[0mDecodeError\u001b[0m\u001b[0;34m(\u001b[0m\u001b[0;34m'Invalid header padding'\u001b[0m\u001b[0;34m)\u001b[0m\u001b[0;34m\u001b[0m\u001b[0m\n\u001b[0m\u001b[1;32m    173\u001b[0m \u001b[0;34m\u001b[0m\u001b[0m\n\u001b[1;32m    174\u001b[0m         \u001b[0;32mtry\u001b[0m\u001b[0;34m:\u001b[0m\u001b[0;34m\u001b[0m\u001b[0m\n",
      "\u001b[0;31mDecodeError\u001b[0m: Invalid header padding"
     ]
    }
   ],
   "source": [
    "encoded_jwt = post_data['id_token']\n",
    "jwt_headers = jwt.get_unverified_header(encoded_jwt)\n",
    "\n",
    "student_launch = jwt.decode(encoded_jwt, \n",
    "                            platform_keys[jwt_headers['kid']], \n",
    "                            jwt_headers['alg'],\n",
    "                            audience = tool_info['client_id'])"
   ]
  },
  {
   "cell_type": "markdown",
   "metadata": {},
   "source": [
    "## Task 2: extract information to show the correct activity\n",
    "\n",
    "The launch gives information about the user, her role, the course, but also which actual resource we want to launch into."
   ]
  },
  {
   "cell_type": "code",
   "execution_count": 100,
   "metadata": {},
   "outputs": [
    {
     "data": {
      "text/markdown": [
       "\n",
       "1. Is this a resource link launch? True\n",
       "1. What is the id of the resource link that is launched? 435a6991-11db-11e8-9469-c48e8ffb7857\n",
       "1. What is the name of the resource that is launched? An assignment\n",
       "1. What is the current course id? 3fdbf54a-11db-11e8-9469-c48e8ffb7857\n",
       "1. What is the current user id? LTIBCU_7\n",
       "1. Is this user a student? True\n",
       "1. Where should I redirect the browser too when done? http://localhost:5000/\n",
       "1. Which lab should be displayed? sim3a"
      ],
      "text/plain": [
       "<IPython.core.display.Markdown object>"
      ]
     },
     "metadata": {},
     "output_type": "display_data"
    }
   ],
   "source": [
    "# fc(claim) prefix the claim with http://imsglobal.org/lti/\n",
    "mdb('1. Is this a resource link launch? {0}'.format(student_launch[fc('message_type')] == 'LTIResourceLinkLaunch'))\n",
    "mdb('1. What is the id of the resource link that is launched? {0}'.format(student_launch[fc('resource_link')]['id']))\n",
    "mdb('1. What is the name of the resource that is launched? {0}'.format(student_launch[fc('resource_link')]['title']))\n",
    "mdb('1. What is the current course id? {0}'.format(student_launch[fc('context')]['id']))\n",
    "mdb('1. What is the current user id? {0}'.format(student_launch['sub']))\n",
    "is_learner = len(list(filter(lambda x: 'learner' in x.lower(), student_launch[fc('roles')])))>0\n",
    "mdb('1. Is this user a student? {0}'.format(is_learner))\n",
    "return_url = student_launch[fc('launch_presentation')]['return_url']\n",
    "mdb('1. Where should I redirect the browser too when done? {0}'.format(return_url))\n",
    "mdb('1. Which lab should be displayed? {0}'.format(student_launch[fc('custom')]['lab']))\n",
    "mdb()"
   ]
  },
  {
   "cell_type": "code",
   "execution_count": null,
   "metadata": {},
   "outputs": [],
   "source": []
  }
 ],
 "metadata": {
  "kernelspec": {
   "display_name": "Python 3",
   "language": "python",
   "name": "python3"
  },
  "language_info": {
   "codemirror_mode": {
    "name": "ipython",
    "version": 3
   },
   "file_extension": ".py",
   "mimetype": "text/x-python",
   "name": "python",
   "nbconvert_exporter": "python",
   "pygments_lexer": "ipython3",
   "version": "3.5.2"
  }
 },
 "nbformat": 4,
 "nbformat_minor": 2
}
