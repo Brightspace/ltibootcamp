{
 "cells": [
  {
   "cell_type": "markdown",
   "metadata": {},
   "source": [
    "# LTI Advantage bootcamp notebook"
   ]
  },
  {
   "cell_type": "markdown",
   "metadata": {},
   "source": [
    "The notebook shows how to interact with the LTI Advantage ecosystem. It interacts with an actual server which is used to exercise the service APIs. "
   ]
  },
  {
   "cell_type": "code",
   "execution_count": 1,
   "metadata": {},
   "outputs": [],
   "source": [
    "# This notebook queries an actual test server. It needs its location:\n",
    "platform_url='http://localhost:5000'"
   ]
  },
  {
   "cell_type": "code",
   "execution_count": 2,
   "metadata": {},
   "outputs": [
    {
     "name": "stdout",
     "output_type": "stream",
     "text": [
      "{\n",
      "  \"client_id\": \"0\", \n",
      "  \"deployment_id\": \"deployment_0\", \n",
      "  \"key\": {\n",
      "    \"alg\": \"HS256\", \n",
      "    \"d\": \"C5GQLTuuDAePQjyGgqQIhudEKcCLLTIDt1ogFK01IgK9GzcnsBCPT3JglL-avUgFof0pdusbJP2shjehQf96M02IKnwUVBNFLfn_IJ1WizbYqGWXLpKAtlqv_oR0pbmmyoP5NBwRS9n5er3PzUt6HELvr0M7-5dP5k9dvBtEHl2egEcwHrGV8xwDL3VDXAjCgTPHtwhyDOyr5rgaRlR3ZltwTU5MYHkgWFiZFdjfQhjAbNcDCBwaqc9e3IU7cCVDv1BmEf9kF0mp_PHoqanDX0KbkvTettDWKr3ZHaSenE2_T_EsI6qXv5Gupiu4vKA-Ljo3y4Zz2bgp8897ahO2cw==\", \n",
      "    \"e\": \"AQAB\", \n",
      "    \"kty\": \"rsa\", \n",
      "    \"use\": \"sig\"\n",
      "  }\n",
      "}\n",
      "\n"
     ]
    }
   ],
   "source": [
    "# First we need to get a new tool deployment from the server for this notebook instance\n",
    "# Each tool must have a client_id and a private key, and the location of the platform\n",
    "# keyset to be able to interact with the platform.\n",
    "# How this information is obtained by the tool is NOT currently part of the LTI specifications.\n",
    "\n",
    "import requests\n",
    "r = requests.get('http://localhost:5000/newtool')\n",
    "print(r.text)"
   ]
  },
  {
   "cell_type": "code",
   "execution_count": null,
   "metadata": {},
   "outputs": [],
   "source": []
  }
 ],
 "metadata": {
  "kernelspec": {
   "display_name": "Python 3",
   "language": "python",
   "name": "python3"
  },
  "language_info": {
   "codemirror_mode": {
    "name": "ipython",
    "version": 3
   },
   "file_extension": ".py",
   "mimetype": "text/x-python",
   "name": "python",
   "nbconvert_exporter": "python",
   "pygments_lexer": "ipython3",
   "version": "3.5.2"
  }
 },
 "nbformat": 4,
 "nbformat_minor": 2
}
